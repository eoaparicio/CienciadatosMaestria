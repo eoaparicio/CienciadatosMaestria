{
 "cells": [
  {
   "cell_type": "code",
   "execution_count": 11,
   "metadata": {},
   "outputs": [
    {
     "name": "stdout",
     "output_type": "stream",
     "text": [
      "1er. número: a\n",
      "1er. número es inválido, reintente\n",
      "1er. número: 12\n",
      "2do. número: d\n",
      "2do. número es inválido, reintente\n",
      "2do. número: 2\n",
      "Elige opción: 1-Suma 2-Resta 3-Multiplica 4-Divida: 4\n",
      "6.0\n"
     ]
    }
   ],
   "source": [
    "# Pedimos los numeros\n",
    "while True:\n",
    "    try:\n",
    "        num1=input(\"1er. número: \")\n",
    "        num1=int(num1)\n",
    "        break\n",
    "    except ValueError:\n",
    "        print(\"1er. número es inválido, reintente\")\n",
    "while True:\n",
    "    try:\n",
    "        num2=input(\"2do. número: \")\n",
    "        num2=int(num2)\n",
    "        break\n",
    "    except ValueError:\n",
    "        print(\"2do. número es inválido, reintente\")\n",
    "while True:\n",
    "    try:\n",
    "        # Solicitar al usuario la operación\n",
    "        opcion=input(\"Elige opción: 1-Suma 2-Resta 3-Multiplica 4-Divida: \")\n",
    "        opcion=int(opcion)\n",
    "        if opcion==1:\n",
    "            operacion=num1+num2\n",
    "            print(operacion)\n",
    "            break\n",
    "        elif opcion==2:\n",
    "            operacion=num1-num2\n",
    "            print(operacion)\n",
    "            break\n",
    "        elif opcion==3:\n",
    "            operacion=num1*num2\n",
    "            print(operacion)\n",
    "            break\n",
    "        elif opcion==4:\n",
    "            operacion=num1/num2\n",
    "            print(operacion)\n",
    "            break\n",
    "        else:\n",
    "            print(\"Opción elegida es inválida, reintente\")\n",
    "    except ValueError:\n",
    "        print(\"Opción elegida no es un número, reintente\")"
   ]
  },
  {
   "cell_type": "code",
   "execution_count": 5,
   "metadata": {},
   "outputs": [
    {
     "name": "stdout",
     "output_type": "stream",
     "text": [
      "Digite texto a revertir: Eduardo\n",
      "odraudE"
     ]
    }
   ],
   "source": [
    "texto = input(\"Digite texto a revertir: \")\n",
    "    \n",
    "for caracter in reversed( texto ): \n",
    "    print( caracter, end = \"\" ) "
   ]
  },
  {
   "cell_type": "code",
   "execution_count": 16,
   "metadata": {},
   "outputs": [],
   "source": [
    "def MaximoComunDivisor(Numero1, Numero2):\n",
    "    mayor = max(Numero1, Numero2)\n",
    "    menor = min(Numero1, Numero2)\n",
    "    if ((Numero1 and Numero2) == 0):\n",
    "       menor = mayor\n",
    "    else:\n",
    "        resultado = mayor % menor\n",
    "        while resultado != 0:\n",
    "            mayor = resultado\n",
    "            resultado = menor%resultado\n",
    "            menor = mayor\n",
    "    return math.fabs(menor)"
   ]
  },
  {
   "cell_type": "code",
   "execution_count": 29,
   "metadata": {},
   "outputs": [
    {
     "data": {
      "text/plain": [
       "3.0"
      ]
     },
     "execution_count": 29,
     "metadata": {},
     "output_type": "execute_result"
    }
   ],
   "source": [
    "MaximoComunDivisor(3,9)"
   ]
  },
  {
   "cell_type": "code",
   "execution_count": 40,
   "metadata": {},
   "outputs": [
    {
     "name": "stdout",
     "output_type": "stream",
     "text": [
      "Digita el numero generado: 44\n",
      "Digitaste un número mayor que el generado\n"
     ]
    }
   ],
   "source": [
    "import random\n",
    "# Generamos numero\n",
    "NumeroAleatorio = random.randint(0, 100)\n",
    "# Pedimos el número\n",
    "while True:\n",
    "    try:\n",
    "        num1=input(\"Digita el numero generado: \")\n",
    "        num1=int(num1)\n",
    "        break\n",
    "    except ValueError:\n",
    "        print(\"Número es inválido, reintente\")\n",
    "if num1==NumeroAleatorio:\n",
    "    print('Acertaste el número')\n",
    "elif num1>NumeroAleatorio:\n",
    "    print('Digitaste un número mayor que el generado')\n",
    "else:\n",
    "    print('Digitaste un número menor que el generado')"
   ]
  },
  {
   "cell_type": "code",
   "execution_count": 20,
   "metadata": {},
   "outputs": [],
   "source": [
    "import numpy as np"
   ]
  },
  {
   "cell_type": "code",
   "execution_count": 31,
   "metadata": {},
   "outputs": [
    {
     "data": {
      "text/plain": [
       "42"
      ]
     },
     "execution_count": 31,
     "metadata": {},
     "output_type": "execute_result"
    }
   ],
   "source": [
    "MinimoComunMultiplo(6, 7)"
   ]
  },
  {
   "cell_type": "code",
   "execution_count": 13,
   "metadata": {},
   "outputs": [],
   "source": [
    "Bulls={53:'James Edwards',9:'Ron Harper',23:'Michael Jordan',25:'Steve Kerr',7:'Toni Kukoč',33:'Scottie Pippen',91:'Dennis Rodman'}\n",
    "for numero, nm in Bulls.items():\n",
    "    print(\"Con el número \"+clave)"
   ]
  }
 ],
 "metadata": {
  "kernelspec": {
   "display_name": "Python 3",
   "language": "python",
   "name": "python3"
  },
  "language_info": {
   "codemirror_mode": {
    "name": "ipython",
    "version": 3
   },
   "file_extension": ".py",
   "mimetype": "text/x-python",
   "name": "python",
   "nbconvert_exporter": "python",
   "pygments_lexer": "ipython3",
   "version": "3.8.5"
  }
 },
 "nbformat": 4,
 "nbformat_minor": 4
}
