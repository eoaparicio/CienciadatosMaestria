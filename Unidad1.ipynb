{
 "cells": [
  {
   "cell_type": "code",
   "execution_count": 21,
   "metadata": {},
   "outputs": [
    {
     "data": {
      "text/latex": [
       "$\\displaystyle \\frac{3}{5} - \\frac{i}{5}$"
      ],
      "text/plain": [
       "3/5 - I/5"
      ]
     },
     "execution_count": 21,
     "metadata": {},
     "output_type": "execute_result"
    }
   ],
   "source": [
    "from sympy import I, simplify\n",
    "(1+I)/(1+2*I)\n",
    "simplify(_)"
   ]
  },
  {
   "cell_type": "code",
   "execution_count": 15,
   "metadata": {},
   "outputs": [
    {
     "data": {
      "text/latex": [
       "$\\displaystyle \\sqrt{6} - 2 i$"
      ],
      "text/plain": [
       "sqrt(6) - 2*I"
      ]
     },
     "execution_count": 15,
     "metadata": {},
     "output_type": "execute_result"
    }
   ],
   "source": [
    "from sympy import conjugate, sqrt, I\n",
    "a=sqrt(6)+2*I\n",
    "conjugate(a)"
   ]
  },
  {
   "cell_type": "code",
   "execution_count": 16,
   "metadata": {},
   "outputs": [
    {
     "data": {
      "text/latex": [
       "$\\displaystyle 4 \\sqrt{2}$"
      ],
      "text/plain": [
       "4*sqrt(2)"
      ]
     },
     "execution_count": 16,
     "metadata": {},
     "output_type": "execute_result"
    }
   ],
   "source": [
    "from sympy import sqrt, I\n",
    "sqrt(6**2+(2*I)**2)"
   ]
  },
  {
   "cell_type": "code",
   "execution_count": 31,
   "metadata": {},
   "outputs": [
    {
     "data": {
      "text/plain": [
       "{'Hernan', 'Jeffrey', 'Jesus', 'Oscar', 'Rafa', 'Waldin'}"
      ]
     },
     "execution_count": 31,
     "metadata": {},
     "output_type": "execute_result"
    }
   ],
   "source": [
    "infancia={'Jesus','Hernan','Rafa','Oscar','Jeffrey','Waldin'}\n",
    "infancia"
   ]
  },
  {
   "cell_type": "code",
   "execution_count": 32,
   "metadata": {},
   "outputs": [
    {
     "data": {
      "text/plain": [
       "{'Jeffrey', 'Oscar', 'Rafa', 'Waldin'}"
      ]
     },
     "execution_count": 32,
     "metadata": {},
     "output_type": "execute_result"
    }
   ],
   "source": [
    "infancia.remove('Hernan')\n",
    "infancia.remove('Jesus')\n",
    "infancia"
   ]
  },
  {
   "cell_type": "code",
   "execution_count": 35,
   "metadata": {},
   "outputs": [
    {
     "data": {
      "text/plain": [
       "{'Jeffrey', 'Oldemar', 'Oscar', 'Rafa', 'Vidal', 'Waldin'}"
      ]
     },
     "execution_count": 35,
     "metadata": {},
     "output_type": "execute_result"
    }
   ],
   "source": [
    "infancia.add('Vidal')\n",
    "infancia"
   ]
  },
  {
   "cell_type": "code",
   "execution_count": 41,
   "metadata": {},
   "outputs": [
    {
     "data": {
      "text/plain": [
       "{53: 'James Edwards',\n",
       " 9: 'Ron Harper',\n",
       " 23: 'Michael Jordan',\n",
       " 25: 'Steve Kerr',\n",
       " 7: 'Toni Kukoč',\n",
       " 33: 'Scottie Pippen',\n",
       " 91: 'Dennis Rodman'}"
      ]
     },
     "execution_count": 41,
     "metadata": {},
     "output_type": "execute_result"
    }
   ],
   "source": [
    "Bulls={53:'James Edwards',9:'Ron Harper',23:'Michael Jordan',25:'Steve Kerr',7:'Toni Kukoč',33:'Scottie Pippen',91:'Dennis Rodman'}\n",
    "Bulls\n"
   ]
  },
  {
   "cell_type": "code",
   "execution_count": 42,
   "metadata": {},
   "outputs": [
    {
     "ename": "SyntaxError",
     "evalue": "Missing parentheses in call to 'print'. Did you mean print(Bulls)? (<ipython-input-42-22936608c960>, line 1)",
     "output_type": "error",
     "traceback": [
      "\u001b[1;36m  File \u001b[1;32m\"<ipython-input-42-22936608c960>\"\u001b[1;36m, line \u001b[1;32m1\u001b[0m\n\u001b[1;33m    print Bulls\u001b[0m\n\u001b[1;37m          ^\u001b[0m\n\u001b[1;31mSyntaxError\u001b[0m\u001b[1;31m:\u001b[0m Missing parentheses in call to 'print'. Did you mean print(Bulls)?\n"
     ]
    }
   ],
   "source": [
    "print Bulls"
   ]
  }
 ],
 "metadata": {
  "kernelspec": {
   "display_name": "Python 3",
   "language": "python",
   "name": "python3"
  },
  "language_info": {
   "codemirror_mode": {
    "name": "ipython",
    "version": 3
   },
   "file_extension": ".py",
   "mimetype": "text/x-python",
   "name": "python",
   "nbconvert_exporter": "python",
   "pygments_lexer": "ipython3",
   "version": "3.8.5"
  }
 },
 "nbformat": 4,
 "nbformat_minor": 4
}
