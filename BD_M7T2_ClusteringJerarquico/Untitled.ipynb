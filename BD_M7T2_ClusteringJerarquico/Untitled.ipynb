{
 "cells": [
  {
   "cell_type": "code",
   "execution_count": null,
   "metadata": {},
   "outputs": [],
   "source": [
    "# -*- coding: utf-8 -*-\n",
    "\n",
    "###############################################################################\n",
    "\n",
    "# Clustering Jerárquico\n",
    "\n",
    "###############################################################################\n",
    "\n",
    "# Librerías\n",
    "import numpy as np\n",
    "import matplotlib.pyplot as plt\n",
    "import pandas as pd\n",
    "\n",
    "# Dataset\n",
    "dataset = pd.read_csv('CC GENERAL.csv', encoding='utf-8')\n",
    "X = dataset[[\"BALANCE\", \"PURCHASES\"]].values\n",
    "\n",
    "### Dendograma para tener el numero optimo de clusters\n",
    "# Se va a usar a usar una librería nueva, y con ello busco ver el numero optimo de clusters\n",
    "import scipy.cluster.hierarchy as sch\n",
    "\n",
    "# Se usa el metodo 'ward' que intenta minimizar la varianza entre clusters. \n",
    "# En lugar de minimizar el WC minimal square, se hace con la varianza -> minimizar la varianza en cada cluster\n",
    "dendrogram = sch.dendrogram(sch.linkage(X, method = 'ward')) \n",
    "plt.title('Dendrograma')\n",
    "plt.xlabel('Clientes')\n",
    "plt.ylabel('Distancias Euclideas')\n",
    "plt.show()\n",
    "\n",
    "# Entrenar el algoritmo con los datos del conjunto\n",
    "from sklearn.cluster import AgglomerativeClustering\n",
    "hc = AgglomerativeClustering(n_clusters = 3, affinity = 'euclidean', linkage = 'ward')\n",
    "y_hc = hc.fit_predict(X) # Con fit_predict se obtiene el cluster asignado a cada punto\n",
    "\n",
    "### Visualizar clusters (se pintan uno a uno)\n",
    "plt.scatter(X[y_hc == 0, 0], X[y_hc == 0, 1], s = 100, c = 'blue', label = 'C1') \n",
    "plt.scatter(X[y_hc == 1, 0], X[y_hc == 1, 1], s = 100, c = 'red', label = 'C2')\n",
    "plt.scatter(X[y_hc == 2, 0], X[y_hc == 2, 1], s = 100, c = 'green', label = 'C3')\n",
    "\n",
    "# Para pintar los centroides\n",
    "plt.title('Clusters de Clientes')\n",
    "plt.xlabel('X1: Balance en la Cuenta ($)')\n",
    "plt.ylabel('X2: Gastos en Compras ($)')\n",
    "plt.legend()\n",
    "plt.show()"
   ]
  },
  {
   "cell_type": "code",
   "execution_count": null,
   "metadata": {},
   "outputs": [],
   "source": []
  }
 ],
 "metadata": {
  "kernelspec": {
   "display_name": "Python 3",
   "language": "python",
   "name": "python3"
  },
  "language_info": {
   "codemirror_mode": {
    "name": "ipython",
    "version": 3
   },
   "file_extension": ".py",
   "mimetype": "text/x-python",
   "name": "python",
   "nbconvert_exporter": "python",
   "pygments_lexer": "ipython3",
   "version": "3.8.5"
  }
 },
 "nbformat": 4,
 "nbformat_minor": 4
}
