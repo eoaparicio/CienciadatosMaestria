{
 "cells": [
  {
   "cell_type": "code",
   "execution_count": null,
   "metadata": {},
   "outputs": [
    {
     "name": "stdout",
     "output_type": "stream",
     "text": [
      "1er. número: 12\n"
     ]
    }
   ],
   "source": [
    "# Pedimos los numeros\n",
    "num1=input(\"1er. número: \")\n",
    "num2=input(\"2do. número: \")\n",
    "# Solicitar al usuario si suma o resta\n",
    "opcion=input(\"Elige opción: 1-Suma 2-Resta 3-Multiplica 4-Divida: \")\n",
    "try:\n",
    "    num1=int(num1)\n",
    "except:\n",
    "    print(\"1er. número es inválido, reintente\")\n",
    "    num1=input(\"1er. número: \")\n",
    "    num1=int(num1)\n",
    "try:\n",
    "    num2=int(num2)\n",
    "except:\n",
    "    print(\"2do. número es inválido, reintente\")\n",
    "    num2=input(\"2do. número: \")\n",
    "    num2=int(num2)\n",
    "opcion=int(opcion)\n",
    "if opcion==1:\n",
    "    print(num1+num2)\n",
    "elif opcion==2:\n",
    "    print(num1-num2)\n",
    "elif opcion==3:\n",
    "    print(num1*num2)\n",
    "elif opcion==4:\n",
    "    print(num1/num2)    \n",
    "else:\n",
    "    print(\"Opción elegida es inválida, reintente\")"
   ]
  },
  {
   "cell_type": "code",
   "execution_count": 3,
   "metadata": {},
   "outputs": [
    {
     "name": "stdout",
     "output_type": "stream",
     "text": [
      "Numerador: 10\n",
      "Denominador: 0\n",
      "Denominador no puede ser 0, reintente\n",
      "Denominador: 3\n",
      "3.3333333333333335\n"
     ]
    }
   ],
   "source": [
    "# Pedimos los numeros\n",
    "while True:\n",
    "    try:\n",
    "        num1=input(\"Numerador: \")\n",
    "        num1=int(num1)\n",
    "        break\n",
    "    except ValueError:\n",
    "        print(\"Numerador es inválido, reintente\")\n",
    "while True:\n",
    "    try:\n",
    "        num2=input(\"Denominador: \")\n",
    "        num2=int(num2)\n",
    "        if num2!=0:\n",
    "            break\n",
    "        else:\n",
    "          print(\"Denominador no puede ser 0, reintente\")\n",
    "    except ValueError:\n",
    "        print(\"Denominador es inválido, reintente\")\n",
    "print(num1/num2)"
   ]
  },
  {
   "cell_type": "code",
   "execution_count": null,
   "metadata": {},
   "outputs": [],
   "source": []
  }
 ],
 "metadata": {
  "kernelspec": {
   "display_name": "Python 3",
   "language": "python",
   "name": "python3"
  },
  "language_info": {
   "codemirror_mode": {
    "name": "ipython",
    "version": 3
   },
   "file_extension": ".py",
   "mimetype": "text/x-python",
   "name": "python",
   "nbconvert_exporter": "python",
   "pygments_lexer": "ipython3",
   "version": "3.8.5"
  }
 },
 "nbformat": 4,
 "nbformat_minor": 4
}
