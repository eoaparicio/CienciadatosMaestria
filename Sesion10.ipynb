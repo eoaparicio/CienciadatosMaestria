{
 "cells": [
  {
   "cell_type": "markdown",
   "metadata": {},
   "source": [
    "# Sesión 10\n",
    "\n",
    "## Clases\n",
    "\n",
    "Escribamos la clase más elemental"
   ]
  },
  {
   "cell_type": "code",
   "execution_count": 1,
   "metadata": {},
   "outputs": [],
   "source": [
    "class Clase:\n",
    "    pass"
   ]
  },
  {
   "cell_type": "markdown",
   "metadata": {},
   "source": [
    "Asociemos objetos a esta clase"
   ]
  },
  {
   "cell_type": "code",
   "execution_count": 2,
   "metadata": {},
   "outputs": [
    {
     "name": "stdout",
     "output_type": "stream",
     "text": [
      "False\n"
     ]
    }
   ],
   "source": [
    "# Creamos el objeto1 de clase Clase\n",
    "objeto1 = Clase()  \n",
    "# Creamos el objeto2 de clase Clase\n",
    "objeto2 = Clase() \n",
    "# Comparamos los dos objetos\n",
    "print(objeto1 == objeto2)  \n",
    "# Devuelve False, ya que aunque los objetos sean de la misma clase, son diferentes"
   ]
  },
  {
   "cell_type": "markdown",
   "metadata": {},
   "source": [
    "Vamos a crear la clase \"Humanos\".  \n",
    "Tendrá ciertos atributos propios del ser humano: \n",
    "> Edad  \n",
    "> Fecha de nacimiento  \n",
    "> Género    \n",
    "> Peso    \n",
    "> etc.  \n",
    "\n",
    "También tendrá algunos métodos característicos de los seres humanos:\n",
    "> Correr.  \n",
    "> Caminar.  \n",
    "> Hablar    \n",
    "\n",
    "A partir de esta clase instanciaremos dos objetos, María y Luis, que a la hora de instanciarlos les daremos valores a cada uno de sus atributos y métodos. "
   ]
  },
  {
   "cell_type": "code",
   "execution_count": 5,
   "metadata": {},
   "outputs": [],
   "source": [
    "# Creamos la clase Humano\n",
    "class Humano():\n",
    "    'Clase que representa a un ser humano'\n",
    "    # Creamos el método constructor utilizando la palabra reservada def seguida del constructor __init__\n",
    "    # y luego entre paréntesis colocamos los parámetros:\n",
    "    # El primero de estos parámetros es la palabra reservada self (el objeto mismo. Lo veremos posteriormente)\n",
    "    # y seguido nuestros atributos separados por coma: edad y nombre\n",
    "    def __init__(self, edad, nombre):\n",
    "        # Definimos que el atributo edad, sera la edad asignada\n",
    "        # Indicamos mediante self.nombreatributo que nuestro parámetro es igual al argumento que pasemos \n",
    "        # como valor al momento de la instancia.\n",
    "        self.edad = edad\n",
    "        # Definimos que el atributo nombre, sera el nombre asignado\n",
    "        self.nombre = nombre"
   ]
  },
  {
   "cell_type": "code",
   "execution_count": 6,
   "metadata": {},
   "outputs": [],
   "source": [
    "# Instanciamos nuestro objeto\n",
    "# Para crear un objeto de la clase Humano tenemos que darle un nombre (Persona1) \n",
    "# e indicar con el \"=\" que pertenece a la clase Humano\n",
    "# y dentro del paréntesis indicar los valores para los parámetros: edad y nombre\n",
    "# El orden debe ser igual al de cuando se definieron en el constructor de la clase\n",
    "\n",
    "Persona1 = Humano(25, \"María\") "
   ]
  },
  {
   "cell_type": "markdown",
   "metadata": {},
   "source": [
    "Imaginemos que ahora quiero añadir un atributo nuevo: Género."
   ]
  },
  {
   "cell_type": "code",
   "execution_count": 14,
   "metadata": {},
   "outputs": [],
   "source": [
    "# Creamos la clase Humano\n",
    "class Humano():\n",
    "    'Clase que representa a un ser humano'\n",
    "    # Método constructor \n",
    "    # Añado género como un nuevo atributo\n",
    "    def __init__(self, edad, nombre,genero):\n",
    "        self.edad = edad\n",
    "        self.nombre = nombre\n",
    "        # Definimos que el atributo genero, sera el genero asignado\n",
    "        self.genero = genero"
   ]
  },
  {
   "cell_type": "code",
   "execution_count": 15,
   "metadata": {},
   "outputs": [],
   "source": [
    "# Al instanciar nuestro objeto, ahora tenemos que indicarle los tres atributos, en el mismo orden\n",
    "# que los definimos\n",
    "Persona1 = Humano(25, \"María\",\"Mujer\") "
   ]
  },
  {
   "cell_type": "markdown",
   "metadata": {},
   "source": [
    "Vamos a crear un método de clase que al ejecutarlo nos devuelva toda la información de nuestro objeto."
   ]
  },
  {
   "cell_type": "code",
   "execution_count": 1,
   "metadata": {},
   "outputs": [],
   "source": [
    "class Humano():\n",
    "    'Clase que representa a un ser humano'\n",
    "    def __init__(self, edad, nombre,genero):\n",
    "        self.edad = edad\n",
    "        self.nombre = nombre\n",
    "        self.genero = genero\n",
    "    # Añadimos un nuevo método\n",
    "    # Incluimos self para hacer referencia al objeto instanciado aunque todavía no sepamos su nombre\n",
    "    def presentar(self):\n",
    "        # Mensaje que queremos mostrar\n",
    "        presentacion = (\"Hola soy {}, mi edad es {} años y mi género es {}\") \n",
    "        # Pedimos que muestre por pantalla y aplicamos format para mejorar la visualización\n",
    "        print(presentacion.format(self.nombre, self.edad, self.genero)) "
   ]
  },
  {
   "cell_type": "code",
   "execution_count": 2,
   "metadata": {},
   "outputs": [],
   "source": [
    "# Instanciamos nuestro objeto\n",
    "Persona1 = Humano(25, \"María\",\"Mujer\") "
   ]
  },
  {
   "cell_type": "code",
   "execution_count": 3,
   "metadata": {},
   "outputs": [
    {
     "name": "stdout",
     "output_type": "stream",
     "text": [
      "Hola soy María, mi edad es 25 años y mi género es Mujer\n"
     ]
    }
   ],
   "source": [
    "# Llamamos al método\n",
    "Persona1.presentar() "
   ]
  },
  {
   "cell_type": "markdown",
   "metadata": {},
   "source": [
    "Queremos crear un método que modifique la edad del objeto."
   ]
  },
  {
   "cell_type": "code",
   "execution_count": 19,
   "metadata": {},
   "outputs": [],
   "source": [
    "class Humano():\n",
    "    'Clase que representa a un ser humano'\n",
    "    def __init__(self, edad, nombre,genero):\n",
    "        self.edad = edad\n",
    "        self.nombre = nombre\n",
    "        self.genero = genero\n",
    "    def presentar(self):\n",
    "        presentacion = (\"Hola soy {}, mi edad es {} años y mi género es {}\") \n",
    "        print(presentacion.format(self.nombre, self.edad, self.genero)) \n",
    "    # Añadimos un nuevo método\n",
    "    # Incluimos self para hacer referencia al objeto instanciado aunque todavía no sepamos su nombre\n",
    "    # Además, añadimos un nuevo parametro en el método\n",
    "    def cumpleanyos(self, edad_nueva): \n",
    "        self.edad_nueva = edad_nueva\n",
    "        print (\"{} ha actualizado su edad, que ahora es {}\".format(self.nombre, self.edad_nueva))\n",
    "        # Cambiamos el atributo edad\n",
    "        self.edad = edad_nueva "
   ]
  },
  {
   "cell_type": "code",
   "execution_count": 2,
   "metadata": {},
   "outputs": [],
   "source": [
    "class Prueba():\n",
    "    def __init__(self, Edad, NombreCompleto, Provincia):\n",
    "        self.Edad = Edad\n",
    "        self.NombreCompleto = NombreCompleto\n",
    "        self.Provincia = Provincia\n",
    "    def presentar(self):\n",
    "        presentacion = (\"Hola soy {}, mi edad es {} años y vivo en {}\") \n",
    "        print(presentacion.format(self.NombreCompleto, self.Edad, self.Provincia)) "
   ]
  },
  {
   "cell_type": "code",
   "execution_count": 3,
   "metadata": {},
   "outputs": [
    {
     "name": "stdout",
     "output_type": "stream",
     "text": [
      "Hola soy Eduardo Oreamuno, mi edad es 25 años y vivo en Cartago\n"
     ]
    }
   ],
   "source": [
    "# Instanciamos\n",
    "Yo = Prueba(25, \"Eduardo Oreamuno\",\"Cartago\") \n",
    "Yo.presentar()"
   ]
  },
  {
   "cell_type": "code",
   "execution_count": 4,
   "metadata": {},
   "outputs": [
    {
     "name": "stdout",
     "output_type": "stream",
     "text": [
      "{'Edad': 25, 'NombreCompleto': 'Eduardo Oreamuno', 'Provincia': 'Cartago'}\n"
     ]
    }
   ],
   "source": [
    "print(Yo.__dict__)"
   ]
  },
  {
   "cell_type": "code",
   "execution_count": 7,
   "metadata": {},
   "outputs": [
    {
     "ename": "AttributeError",
     "evalue": "Edad",
     "output_type": "error",
     "traceback": [
      "\u001b[1;31m---------------------------------------------------------------------------\u001b[0m",
      "\u001b[1;31mAttributeError\u001b[0m                            Traceback (most recent call last)",
      "\u001b[1;32m<ipython-input-7-0e70aa5b3d53>\u001b[0m in \u001b[0;36m<module>\u001b[1;34m\u001b[0m\n\u001b[1;32m----> 1\u001b[1;33m \u001b[1;32mdel\u001b[0m \u001b[0mYo\u001b[0m\u001b[1;33m.\u001b[0m\u001b[0mEdad\u001b[0m\u001b[1;33m\u001b[0m\u001b[1;33m\u001b[0m\u001b[0m\n\u001b[0m\u001b[0;32m      2\u001b[0m \u001b[0mYo\u001b[0m\u001b[1;33m.\u001b[0m\u001b[0mpresentar\u001b[0m\u001b[1;33m(\u001b[0m\u001b[1;33m)\u001b[0m\u001b[1;33m\u001b[0m\u001b[1;33m\u001b[0m\u001b[0m\n",
      "\u001b[1;31mAttributeError\u001b[0m: Edad"
     ]
    }
   ],
   "source": [
    "del Yo.Edad\n",
    "Yo.presentar()"
   ]
  },
  {
   "cell_type": "code",
   "execution_count": 20,
   "metadata": {},
   "outputs": [],
   "source": [
    "# Instanciamos nuestro objeto\n",
    "Persona1 = Humano(25, \"María\",\"Mujer\") "
   ]
  },
  {
   "cell_type": "code",
   "execution_count": 21,
   "metadata": {},
   "outputs": [
    {
     "name": "stdout",
     "output_type": "stream",
     "text": [
      "María ha actualizado su edad, que ahora es 26\n"
     ]
    }
   ],
   "source": [
    "# Llamamos al segundo método\n",
    "Persona1.cumpleanyos(\"26\") "
   ]
  },
  {
   "cell_type": "code",
   "execution_count": 22,
   "metadata": {},
   "outputs": [
    {
     "name": "stdout",
     "output_type": "stream",
     "text": [
      "Hola soy María, mi edad es 26 años y mi género es Mujer\n"
     ]
    }
   ],
   "source": [
    "# Llamamos al método presentar para ver cómo ha cambiado\n",
    "Persona1.presentar() "
   ]
  },
  {
   "cell_type": "markdown",
   "metadata": {},
   "source": [
    "## Funciones para atributos"
   ]
  },
  {
   "cell_type": "markdown",
   "metadata": {},
   "source": [
    "Queremos acceder a cada uno de los atributos de Persona1 de manera directa"
   ]
  },
  {
   "cell_type": "code",
   "execution_count": 23,
   "metadata": {},
   "outputs": [
    {
     "name": "stdout",
     "output_type": "stream",
     "text": [
      "María\n"
     ]
    }
   ],
   "source": [
    "print(Persona1.nombre)"
   ]
  },
  {
   "cell_type": "code",
   "execution_count": 24,
   "metadata": {},
   "outputs": [
    {
     "name": "stdout",
     "output_type": "stream",
     "text": [
      "26\n"
     ]
    }
   ],
   "source": [
    "print(Persona1.edad)"
   ]
  },
  {
   "cell_type": "code",
   "execution_count": 25,
   "metadata": {},
   "outputs": [
    {
     "name": "stdout",
     "output_type": "stream",
     "text": [
      "Mujer\n"
     ]
    }
   ],
   "source": [
    "print(Persona1.genero)"
   ]
  },
  {
   "cell_type": "markdown",
   "metadata": {},
   "source": [
    "Queremos eliminar el atributo edad para Persona1"
   ]
  },
  {
   "cell_type": "code",
   "execution_count": 27,
   "metadata": {},
   "outputs": [],
   "source": [
    "del Persona1.edad"
   ]
  },
  {
   "cell_type": "code",
   "execution_count": 28,
   "metadata": {},
   "outputs": [
    {
     "ename": "AttributeError",
     "evalue": "'Humano' object has no attribute 'edad'",
     "output_type": "error",
     "traceback": [
      "\u001b[0;31m---------------------------------------------------------------------------\u001b[0m",
      "\u001b[0;31mAttributeError\u001b[0m                            Traceback (most recent call last)",
      "\u001b[0;32m<ipython-input-28-6211f1efd054>\u001b[0m in \u001b[0;36m<module>\u001b[0;34m\u001b[0m\n\u001b[1;32m      1\u001b[0m \u001b[0;31m# Al intentar leerlo\u001b[0m\u001b[0;34m\u001b[0m\u001b[0;34m\u001b[0m\u001b[0;34m\u001b[0m\u001b[0m\n\u001b[0;32m----> 2\u001b[0;31m \u001b[0mprint\u001b[0m\u001b[0;34m(\u001b[0m\u001b[0mPersona1\u001b[0m\u001b[0;34m.\u001b[0m\u001b[0medad\u001b[0m\u001b[0;34m)\u001b[0m\u001b[0;34m\u001b[0m\u001b[0;34m\u001b[0m\u001b[0m\n\u001b[0m",
      "\u001b[0;31mAttributeError\u001b[0m: 'Humano' object has no attribute 'edad'"
     ]
    }
   ],
   "source": [
    "# Al intentar leerlo\n",
    "print(Persona1.edad)"
   ]
  },
  {
   "cell_type": "markdown",
   "metadata": {},
   "source": [
    "Queremos volver a añadirle el atributo edad a Persona1"
   ]
  },
  {
   "cell_type": "code",
   "execution_count": 29,
   "metadata": {},
   "outputs": [],
   "source": [
    "Persona1.edad = \"26\""
   ]
  },
  {
   "cell_type": "code",
   "execution_count": 30,
   "metadata": {},
   "outputs": [
    {
     "name": "stdout",
     "output_type": "stream",
     "text": [
      "26\n"
     ]
    }
   ],
   "source": [
    "# Al intentar leerlo\n",
    "print(Persona1.edad)"
   ]
  },
  {
   "cell_type": "markdown",
   "metadata": {},
   "source": [
    "#### getattr() \n",
    "\n",
    "> La función getattr() se usa para acceder al valor del atributo de un objeto.  \n",
    "> Si un atributo no existe retorna el valor del tercer argumento (es opcional).  \n",
    "\n",
    "Queremos acceder a cada uno de los atributos de Persona1 utilizando getattr"
   ]
  },
  {
   "cell_type": "code",
   "execution_count": 32,
   "metadata": {},
   "outputs": [
    {
     "name": "stdout",
     "output_type": "stream",
     "text": [
      "María\n"
     ]
    }
   ],
   "source": [
    "nombre_Persona1=getattr(Persona1, 'nombre', 'Desconocido')\n",
    "print(nombre_Persona1)"
   ]
  },
  {
   "cell_type": "code",
   "execution_count": 36,
   "metadata": {},
   "outputs": [
    {
     "name": "stdout",
     "output_type": "stream",
     "text": [
      "María\n"
     ]
    }
   ],
   "source": [
    "# otro modo, si no queremos controlar si no existe el atributo\n",
    "nombre_Persona1=getattr(Persona1, 'nombre')\n",
    "print(nombre_Persona1)"
   ]
  },
  {
   "cell_type": "code",
   "execution_count": 33,
   "metadata": {},
   "outputs": [
    {
     "name": "stdout",
     "output_type": "stream",
     "text": [
      "26\n"
     ]
    }
   ],
   "source": [
    "edad_Persona1=getattr(Persona1, 'edad', 'Desconocido')\n",
    "print(edad_Persona1)"
   ]
  },
  {
   "cell_type": "code",
   "execution_count": 34,
   "metadata": {},
   "outputs": [
    {
     "name": "stdout",
     "output_type": "stream",
     "text": [
      "Mujer\n"
     ]
    }
   ],
   "source": [
    "genero_Persona1=getattr(Persona1, 'genero', 'Desconocido')\n",
    "print(genero_Persona1)"
   ]
  },
  {
   "cell_type": "code",
   "execution_count": 35,
   "metadata": {},
   "outputs": [
    {
     "name": "stdout",
     "output_type": "stream",
     "text": [
      "Desconocido\n"
     ]
    }
   ],
   "source": [
    "apellido_Persona1=getattr(Persona1, 'apellido', 'Desconocido')\n",
    "print(apellido_Persona1)\n",
    "# Como apellido no es un atributo, devuelve el valor del tercer parámetro"
   ]
  },
  {
   "cell_type": "code",
   "execution_count": 37,
   "metadata": {},
   "outputs": [
    {
     "ename": "AttributeError",
     "evalue": "'Humano' object has no attribute 'apellido'",
     "output_type": "error",
     "traceback": [
      "\u001b[0;31m---------------------------------------------------------------------------\u001b[0m",
      "\u001b[0;31mAttributeError\u001b[0m                            Traceback (most recent call last)",
      "\u001b[0;32m<ipython-input-37-fdd3b40f60d6>\u001b[0m in \u001b[0;36m<module>\u001b[0;34m\u001b[0m\n\u001b[1;32m      1\u001b[0m \u001b[0;31m# ¿Y si no controlamos que no existe el atributo apellido?\u001b[0m\u001b[0;34m\u001b[0m\u001b[0;34m\u001b[0m\u001b[0;34m\u001b[0m\u001b[0m\n\u001b[0;32m----> 2\u001b[0;31m \u001b[0mapellido_Persona1\u001b[0m\u001b[0;34m=\u001b[0m\u001b[0mgetattr\u001b[0m\u001b[0;34m(\u001b[0m\u001b[0mPersona1\u001b[0m\u001b[0;34m,\u001b[0m \u001b[0;34m'apellido'\u001b[0m\u001b[0;34m)\u001b[0m\u001b[0;34m\u001b[0m\u001b[0;34m\u001b[0m\u001b[0m\n\u001b[0m\u001b[1;32m      3\u001b[0m \u001b[0mprint\u001b[0m\u001b[0;34m(\u001b[0m\u001b[0mapellido_Persona1\u001b[0m\u001b[0;34m)\u001b[0m\u001b[0;34m\u001b[0m\u001b[0;34m\u001b[0m\u001b[0m\n",
      "\u001b[0;31mAttributeError\u001b[0m: 'Humano' object has no attribute 'apellido'"
     ]
    }
   ],
   "source": [
    "# ¿Y si no controlamos que no existe el atributo apellido?\n",
    "apellido_Persona1=getattr(Persona1, 'apellido')\n",
    "print(apellido_Persona1)"
   ]
  },
  {
   "cell_type": "markdown",
   "metadata": {},
   "source": [
    "#### hasattr() \n",
    "\n",
    "> La función hasattr() devuelve True o False dependiendo si existe o no el atributo indicado."
   ]
  },
  {
   "cell_type": "code",
   "execution_count": 39,
   "metadata": {},
   "outputs": [
    {
     "name": "stdout",
     "output_type": "stream",
     "text": [
      "El atributo 'edad' existe\n"
     ]
    }
   ],
   "source": [
    "if hasattr(Persona1, 'edad'):\n",
    "    print(\"El atributo 'edad' existe\")\n",
    "else:\n",
    "    print(\"El atributo 'edad' no existe\")"
   ]
  },
  {
   "cell_type": "code",
   "execution_count": 40,
   "metadata": {},
   "outputs": [
    {
     "name": "stdout",
     "output_type": "stream",
     "text": [
      "El atributo 'apellido' no existe\n"
     ]
    }
   ],
   "source": [
    "if hasattr(Persona1, 'apellido'):\n",
    "    print(\"El atributo 'apellido' existe\")\n",
    "else:\n",
    "    print(\"El atributo 'apellido' no existe\")"
   ]
  },
  {
   "cell_type": "markdown",
   "metadata": {},
   "source": [
    "#### setattr() \n",
    "\n",
    "> setattr() se usa para asignar un valor a un atributo.  \n",
    "> Si el atributo no existe entonces será creado."
   ]
  },
  {
   "cell_type": "code",
   "execution_count": 44,
   "metadata": {},
   "outputs": [
    {
     "name": "stdout",
     "output_type": "stream",
     "text": [
      "27\n"
     ]
    }
   ],
   "source": [
    "setattr(Persona1, 'edad', 27)\n",
    "edad_Persona1=getattr(Persona1, 'edad', 'Desconocido')\n",
    "print(edad_Persona1) "
   ]
  },
  {
   "cell_type": "code",
   "execution_count": 45,
   "metadata": {},
   "outputs": [
    {
     "name": "stdout",
     "output_type": "stream",
     "text": [
      "España\n"
     ]
    }
   ],
   "source": [
    "# Ahora un atributo que no existe\n",
    "setattr(Persona1, 'pais', 'España')\n",
    "pais_Persona1=getattr(Persona1, 'pais', 'Desconocido')\n",
    "print(pais_Persona1) \n",
    "# Para Persona1 ha creado el atributo Pais"
   ]
  },
  {
   "cell_type": "markdown",
   "metadata": {},
   "source": [
    "#### delattr() \n",
    "\n",
    "> La función delattr() sirve para borrar el atributo de un objeto. "
   ]
  },
  {
   "cell_type": "code",
   "execution_count": 47,
   "metadata": {},
   "outputs": [],
   "source": [
    "delattr(Persona1, 'pais')"
   ]
  },
  {
   "cell_type": "code",
   "execution_count": 48,
   "metadata": {},
   "outputs": [
    {
     "name": "stdout",
     "output_type": "stream",
     "text": [
      "Desconocido\n"
     ]
    }
   ],
   "source": [
    "# Veamos que lo ha borrado\n",
    "pais_Persona1=getattr(Persona1, 'pais', 'Desconocido')\n",
    "print(pais_Persona1) "
   ]
  },
  {
   "cell_type": "code",
   "execution_count": 49,
   "metadata": {},
   "outputs": [
    {
     "ename": "AttributeError",
     "evalue": "atributo_inventado",
     "output_type": "error",
     "traceback": [
      "\u001b[0;31m---------------------------------------------------------------------------\u001b[0m",
      "\u001b[0;31mAttributeError\u001b[0m                            Traceback (most recent call last)",
      "\u001b[0;32m<ipython-input-49-fb89fec4eefe>\u001b[0m in \u001b[0;36m<module>\u001b[0;34m\u001b[0m\n\u001b[1;32m      1\u001b[0m \u001b[0;31m# ¿Y si el atributo no existe?\u001b[0m\u001b[0;34m\u001b[0m\u001b[0;34m\u001b[0m\u001b[0;34m\u001b[0m\u001b[0m\n\u001b[0;32m----> 2\u001b[0;31m \u001b[0mdelattr\u001b[0m\u001b[0;34m(\u001b[0m\u001b[0mPersona1\u001b[0m\u001b[0;34m,\u001b[0m \u001b[0;34m'atributo_inventado'\u001b[0m\u001b[0;34m)\u001b[0m\u001b[0;34m\u001b[0m\u001b[0;34m\u001b[0m\u001b[0m\n\u001b[0m",
      "\u001b[0;31mAttributeError\u001b[0m: atributo_inventado"
     ]
    }
   ],
   "source": [
    "# ¿Y si el atributo no existe?\n",
    "delattr(Persona1, 'atributo_inventado')\n",
    "# Devuelve un error"
   ]
  },
  {
   "cell_type": "markdown",
   "metadata": {},
   "source": [
    "### Funciones integradas. \n",
    "\n",
    "#### __dict__\n",
    "\n",
    "> Devuelve un diccionario que contiene el espacio de nombres de la clase o de un objeto instanciado.  \n",
    "\n",
    "Veamos el espacio de nombres de la clase Humano"
   ]
  },
  {
   "cell_type": "code",
   "execution_count": 51,
   "metadata": {},
   "outputs": [
    {
     "name": "stdout",
     "output_type": "stream",
     "text": [
      "{'__module__': '__main__', '__doc__': 'Clase que representa a un ser humano', '__init__': <function Humano.__init__ at 0x11017b3b0>, 'presentar': <function Humano.presentar at 0x11017b440>, 'cumpleanyos': <function Humano.cumpleanyos at 0x11017b4d0>, '__dict__': <attribute '__dict__' of 'Humano' objects>, '__weakref__': <attribute '__weakref__' of 'Humano' objects>}\n"
     ]
    }
   ],
   "source": [
    "print(Humano.__dict__)"
   ]
  },
  {
   "cell_type": "markdown",
   "metadata": {},
   "source": [
    "Veamos el espacio de nombre del objeto Persona1"
   ]
  },
  {
   "cell_type": "code",
   "execution_count": 52,
   "metadata": {},
   "outputs": [
    {
     "name": "stdout",
     "output_type": "stream",
     "text": [
      "{'nombre': 'María', 'genero': 'Mujer', 'edad_nueva': '26', 'edad': 27}\n"
     ]
    }
   ],
   "source": [
    "print(Persona1.__dict__)"
   ]
  },
  {
   "cell_type": "markdown",
   "metadata": {},
   "source": [
    "#### __name__\n",
    "\n",
    "> Devuelve el nombre de la clase.  "
   ]
  },
  {
   "cell_type": "code",
   "execution_count": 53,
   "metadata": {},
   "outputs": [
    {
     "name": "stdout",
     "output_type": "stream",
     "text": [
      "Humano\n"
     ]
    }
   ],
   "source": [
    "print(Humano.__name__)"
   ]
  },
  {
   "cell_type": "markdown",
   "metadata": {},
   "source": [
    "#### __doc__\n",
    "\n",
    "> Devuelve la documentación de la clase "
   ]
  },
  {
   "cell_type": "code",
   "execution_count": 54,
   "metadata": {},
   "outputs": [
    {
     "name": "stdout",
     "output_type": "stream",
     "text": [
      "Clase que representa a un ser humano\n"
     ]
    }
   ],
   "source": [
    "print(Humano.__doc__)"
   ]
  }
 ],
 "metadata": {
  "kernelspec": {
   "display_name": "Python 3",
   "language": "python",
   "name": "python3"
  },
  "language_info": {
   "codemirror_mode": {
    "name": "ipython",
    "version": 3
   },
   "file_extension": ".py",
   "mimetype": "text/x-python",
   "name": "python",
   "nbconvert_exporter": "python",
   "pygments_lexer": "ipython3",
   "version": "3.8.5"
  }
 },
 "nbformat": 4,
 "nbformat_minor": 2
}
