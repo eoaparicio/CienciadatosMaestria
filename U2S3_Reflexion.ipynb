{
 "cells": [
  {
   "cell_type": "code",
   "execution_count": 11,
   "metadata": {},
   "outputs": [
    {
     "name": "stdout",
     "output_type": "stream",
     "text": [
      "1er. número: a\n",
      "1er. número es inválido, reintente\n",
      "1er. número: 12\n",
      "2do. número: d\n",
      "2do. número es inválido, reintente\n",
      "2do. número: 2\n",
      "Elige opción: 1-Suma 2-Resta 3-Multiplica 4-Divida: 4\n",
      "6.0\n"
     ]
    }
   ],
   "source": [
    "# Pedimos los numeros\n",
    "while True:\n",
    "    try:\n",
    "        num1=input(\"1er. número: \")\n",
    "        num1=int(num1)\n",
    "        break\n",
    "    except ValueError:\n",
    "        print(\"1er. número es inválido, reintente\")\n",
    "while True:\n",
    "    try:\n",
    "        num2=input(\"2do. número: \")\n",
    "        num2=int(num2)\n",
    "        break\n",
    "    except ValueError:\n",
    "        print(\"2do. número es inválido, reintente\")\n",
    "while True:\n",
    "    try:\n",
    "        # Solicitar al usuario la operación\n",
    "        opcion=input(\"Elige opción: 1-Suma 2-Resta 3-Multiplica 4-Divida: \")\n",
    "        opcion=int(opcion)\n",
    "        if opcion==1:\n",
    "            operacion=num1+num2\n",
    "            print(operacion)\n",
    "            break\n",
    "        elif opcion==2:\n",
    "            operacion=num1-num2\n",
    "            print(operacion)\n",
    "            break\n",
    "        elif opcion==3:\n",
    "            operacion=num1*num2\n",
    "            print(operacion)\n",
    "            break\n",
    "        elif opcion==4:\n",
    "            operacion=num1/num2\n",
    "            print(operacion)\n",
    "            break\n",
    "        else:\n",
    "            print(\"Opción elegida es inválida, reintente\")\n",
    "    except ValueError:\n",
    "        print(\"Opción elegida no es un número, reintente\")"
   ]
  },
  {
   "cell_type": "code",
   "execution_count": 33,
   "metadata": {},
   "outputs": [
    {
     "name": "stdout",
     "output_type": "stream",
     "text": [
      "El factorial de  5  es: 120\n"
     ]
    },
    {
     "data": {
      "text/plain": [
       "120"
      ]
     },
     "execution_count": 33,
     "metadata": {},
     "output_type": "execute_result"
    }
   ],
   "source": [
    "def factorial(a):\n",
    "    #mostramos por pantalla el valor ingresado\n",
    "    #print(\"Valor inicial: \",str(a))\n",
    "    #Mientras sea > que 1, multiplique\n",
    "    factor = 1\n",
    "    if a>1:\n",
    "        for i in range(1,a + 1):\n",
    "            factor = factor*i\n",
    "        print(\"El factorial de \",a, \" es: \"+str(factor))\n",
    "    else:\n",
    "        print (\"Para el número \",a,\"no se puede calcular factorial.\")\n",
    "    \n",
    "    #if a>1:\n",
    "    #    a=a*factorial(a-1)\n",
    "    #Mostramos el resultado\n",
    "    #print(\"El factorial de \",a, \" es: \"+str(factor))\n",
    "    return factor\n",
    "\n",
    "factorial(5)"
   ]
  },
  {
   "cell_type": "code",
   "execution_count": 19,
   "metadata": {},
   "outputs": [
    {
     "name": "stdout",
     "output_type": "stream",
     "text": [
      "Ingreso el valor: 5\n",
      "El factorial de  5  es :  120\n"
     ]
    }
   ],
   "source": [
    "import math\n",
    "numero = input(\"Ingreso el valor: \")\n",
    "factorial = math.factorial(int(num))\n",
    "print(\"El factorial de \", num, \" es : \",factorial)"
   ]
  },
  {
   "cell_type": "code",
   "execution_count": 15,
   "metadata": {},
   "outputs": [
    {
     "name": "stdout",
     "output_type": "stream",
     "text": [
      "Con el número 53: James Edwards\n",
      "Con el número 9: Ron Harper\n",
      "Con el número 23: Michael Jordan\n",
      "Con el número 25: Steve Kerr\n",
      "Con el número 7: Toni Kukoč\n",
      "Con el número 33: Scottie Pippen\n",
      "Con el número 91: Dennis Rodman\n"
     ]
    }
   ],
   "source": [
    "Bulls={53:'James Edwards',9:'Ron Harper',23:'Michael Jordan',25:'Steve Kerr',7:'Toni Kukoč',33:'Scottie Pippen',91:'Dennis Rodman'}\n",
    "for numero, nombre in Bulls.items():\n",
    "    print(\"Con el número \"+str(numero)+': '+nombre)"
   ]
  }
 ],
 "metadata": {
  "kernelspec": {
   "display_name": "Python 3",
   "language": "python",
   "name": "python3"
  },
  "language_info": {
   "codemirror_mode": {
    "name": "ipython",
    "version": 3
   },
   "file_extension": ".py",
   "mimetype": "text/x-python",
   "name": "python",
   "nbconvert_exporter": "python",
   "pygments_lexer": "ipython3",
   "version": "3.8.5"
  }
 },
 "nbformat": 4,
 "nbformat_minor": 4
}
