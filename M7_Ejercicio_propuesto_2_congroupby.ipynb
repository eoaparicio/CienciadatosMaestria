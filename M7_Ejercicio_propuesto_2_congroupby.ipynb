{
 "cells": [
  {
   "cell_type": "markdown",
   "metadata": {},
   "source": [
    "Las distintas columnas que aparecen corresponden a: \n",
    "* **age**: continuous.\n",
    "* **workclass**: Private, Self-emp-not-inc, Self-emp-inc, Federal-gov, Local-gov, State-gov, Without-pay, Never-worked.\n",
    "* **fnlwgt**: continuous.\n",
    "* **education**: Bachelors, Some-college, 11th, HS-grad, Prof-school, Assoc-acdm, Assoc-voc, 9th, 7th-8th, 12th, Masters, 1st-4th, 10th, Doctorate, 5th-6th, Preschool.\n",
    "* **education-num**: continuous.\n",
    "* **marital-status**: Married-civ-spouse, Divorced, Never-married, Separated, Widowed, Married-spouse-absent, Married-AF-spouse.\n",
    "* **occupation**: Tech-support, Craft-repair, Other-service, Sales, Exec-managerial, Prof-specialty, Handlers-cleaners, Machine-op-inspct, Adm-clerical, Farming-fishing, Transport-moving, Priv-house-serv, Protective-serv, Armed-Forces.\n",
    "* **relationship**: Wife, Own-child, Husband, Not-in-family, Other-relative, Unmarried.\n",
    "* **race**: White, Asian-Pac-Islander, Amer-Indian-Eskimo, Other, Black.\n",
    "* **sex**: Female, Male.\n",
    "* **capital-gain**: continuous.\n",
    "* **capital-loss**: continuous.\n",
    "* **hours-per-week**: continuous.\n",
    "* **native-country**: United-States, Cambodia, England, Puerto-Rico, Canada, Germany, Outlying-US(Guam-USVI-etc), India, Japan, Greece, South, China, Cuba, Iran, Honduras, Philippines, Italy, Poland, Jamaica, Vietnam, Mexico, Portugal, Ireland, France, Dominican-Republic, Laos, Ecuador, Taiwan, Haiti, Columbia, Hungary, Guatemala, Nicaragua, Scotland, Thailand, Yugoslavia, El-Salvador, Trinadad&Tobago, Peru, Hong, Holand-Netherlands.\n",
    "* **Salary**: a predecir"
   ]
  },
  {
   "cell_type": "markdown",
   "metadata": {},
   "source": [
    "# 1. Preparación de Datos"
   ]
  },
  {
   "cell_type": "code",
   "execution_count": 1,
   "metadata": {},
   "outputs": [],
   "source": [
    "# Librerias\n",
    "import numpy as np  # Trabajar con matrices\n",
    "import pandas as pd # Trabajar con ccsv, tablas, como si fueran SQL\n",
    "\n",
    "import matplotlib.pyplot as plt # para visualizaciones\n",
    "import seaborn as sns           # visualizaciones más elegantes.\n",
    "\n",
    "import scipy.stats as stats     # Calculos estadisticos que no proporciona numpy"
   ]
  },
  {
   "cell_type": "code",
   "execution_count": 2,
   "metadata": {},
   "outputs": [],
   "source": [
    "names = ['age','workclass', 'fnlwgt', 'education', 'education-num', 'marital-status', 'occupation', 'relationship',\n",
    "        'race', 'sex', 'capital-gain', 'capital-loss', 'hours-per-week', 'native-country', 'salary']"
   ]
  },
  {
   "cell_type": "code",
   "execution_count": 3,
   "metadata": {
    "scrolled": true
   },
   "outputs": [
    {
     "data": {
      "text/html": [
       "<div>\n",
       "<style scoped>\n",
       "    .dataframe tbody tr th:only-of-type {\n",
       "        vertical-align: middle;\n",
       "    }\n",
       "\n",
       "    .dataframe tbody tr th {\n",
       "        vertical-align: top;\n",
       "    }\n",
       "\n",
       "    .dataframe thead th {\n",
       "        text-align: right;\n",
       "    }\n",
       "</style>\n",
       "<table border=\"1\" class=\"dataframe\">\n",
       "  <thead>\n",
       "    <tr style=\"text-align: right;\">\n",
       "      <th></th>\n",
       "      <th>age</th>\n",
       "      <th>workclass</th>\n",
       "      <th>fnlwgt</th>\n",
       "      <th>education</th>\n",
       "      <th>education-num</th>\n",
       "      <th>marital-status</th>\n",
       "      <th>occupation</th>\n",
       "      <th>relationship</th>\n",
       "      <th>race</th>\n",
       "      <th>sex</th>\n",
       "      <th>capital-gain</th>\n",
       "      <th>capital-loss</th>\n",
       "      <th>hours-per-week</th>\n",
       "      <th>native-country</th>\n",
       "      <th>salary</th>\n",
       "    </tr>\n",
       "  </thead>\n",
       "  <tbody>\n",
       "    <tr>\n",
       "      <th>0</th>\n",
       "      <td>39</td>\n",
       "      <td>State-gov</td>\n",
       "      <td>77516</td>\n",
       "      <td>Bachelors</td>\n",
       "      <td>13</td>\n",
       "      <td>Never-married</td>\n",
       "      <td>Adm-clerical</td>\n",
       "      <td>Not-in-family</td>\n",
       "      <td>White</td>\n",
       "      <td>Male</td>\n",
       "      <td>2174</td>\n",
       "      <td>0</td>\n",
       "      <td>40</td>\n",
       "      <td>United-States</td>\n",
       "      <td>&lt;=50K</td>\n",
       "    </tr>\n",
       "    <tr>\n",
       "      <th>1</th>\n",
       "      <td>50</td>\n",
       "      <td>Self-emp-not-inc</td>\n",
       "      <td>83311</td>\n",
       "      <td>Bachelors</td>\n",
       "      <td>13</td>\n",
       "      <td>Married-civ-spouse</td>\n",
       "      <td>Exec-managerial</td>\n",
       "      <td>Husband</td>\n",
       "      <td>White</td>\n",
       "      <td>Male</td>\n",
       "      <td>0</td>\n",
       "      <td>0</td>\n",
       "      <td>13</td>\n",
       "      <td>United-States</td>\n",
       "      <td>&lt;=50K</td>\n",
       "    </tr>\n",
       "    <tr>\n",
       "      <th>2</th>\n",
       "      <td>38</td>\n",
       "      <td>Private</td>\n",
       "      <td>215646</td>\n",
       "      <td>HS-grad</td>\n",
       "      <td>9</td>\n",
       "      <td>Divorced</td>\n",
       "      <td>Handlers-cleaners</td>\n",
       "      <td>Not-in-family</td>\n",
       "      <td>White</td>\n",
       "      <td>Male</td>\n",
       "      <td>0</td>\n",
       "      <td>0</td>\n",
       "      <td>40</td>\n",
       "      <td>United-States</td>\n",
       "      <td>&lt;=50K</td>\n",
       "    </tr>\n",
       "    <tr>\n",
       "      <th>3</th>\n",
       "      <td>53</td>\n",
       "      <td>Private</td>\n",
       "      <td>234721</td>\n",
       "      <td>11th</td>\n",
       "      <td>7</td>\n",
       "      <td>Married-civ-spouse</td>\n",
       "      <td>Handlers-cleaners</td>\n",
       "      <td>Husband</td>\n",
       "      <td>Black</td>\n",
       "      <td>Male</td>\n",
       "      <td>0</td>\n",
       "      <td>0</td>\n",
       "      <td>40</td>\n",
       "      <td>United-States</td>\n",
       "      <td>&lt;=50K</td>\n",
       "    </tr>\n",
       "    <tr>\n",
       "      <th>4</th>\n",
       "      <td>28</td>\n",
       "      <td>Private</td>\n",
       "      <td>338409</td>\n",
       "      <td>Bachelors</td>\n",
       "      <td>13</td>\n",
       "      <td>Married-civ-spouse</td>\n",
       "      <td>Prof-specialty</td>\n",
       "      <td>Wife</td>\n",
       "      <td>Black</td>\n",
       "      <td>Female</td>\n",
       "      <td>0</td>\n",
       "      <td>0</td>\n",
       "      <td>40</td>\n",
       "      <td>Cuba</td>\n",
       "      <td>&lt;=50K</td>\n",
       "    </tr>\n",
       "  </tbody>\n",
       "</table>\n",
       "</div>"
      ],
      "text/plain": [
       "   age          workclass  fnlwgt   education  education-num  \\\n",
       "0   39          State-gov   77516   Bachelors             13   \n",
       "1   50   Self-emp-not-inc   83311   Bachelors             13   \n",
       "2   38            Private  215646     HS-grad              9   \n",
       "3   53            Private  234721        11th              7   \n",
       "4   28            Private  338409   Bachelors             13   \n",
       "\n",
       "        marital-status          occupation    relationship    race      sex  \\\n",
       "0        Never-married        Adm-clerical   Not-in-family   White     Male   \n",
       "1   Married-civ-spouse     Exec-managerial         Husband   White     Male   \n",
       "2             Divorced   Handlers-cleaners   Not-in-family   White     Male   \n",
       "3   Married-civ-spouse   Handlers-cleaners         Husband   Black     Male   \n",
       "4   Married-civ-spouse      Prof-specialty            Wife   Black   Female   \n",
       "\n",
       "   capital-gain  capital-loss  hours-per-week  native-country  salary  \n",
       "0          2174             0              40   United-States   <=50K  \n",
       "1             0             0              13   United-States   <=50K  \n",
       "2             0             0              40   United-States   <=50K  \n",
       "3             0             0              40   United-States   <=50K  \n",
       "4             0             0              40            Cuba   <=50K  "
      ]
     },
     "execution_count": 3,
     "metadata": {},
     "output_type": "execute_result"
    }
   ],
   "source": [
    "# Carga el dataset\n",
    "dataset_mat = pd.read_csv('adult.data.txt', header = None) # Carga el archivo en un dataframe\n",
    "dataset_test = pd.read_csv('adult.test.txt', header = None, skiprows = 1) # Carga el archivo en un dataframe\n",
    "dataset_mat.columns = names\n",
    "dataset_test.columns = names\n",
    "\n",
    "# Visualizar el contenido de los datos\n",
    "dataset_mat.head() #muestra las 5 primeras lineas datos"
   ]
  },
  {
   "cell_type": "code",
   "execution_count": 4,
   "metadata": {
    "scrolled": true
   },
   "outputs": [
    {
     "name": "stdout",
     "output_type": "stream",
     "text": [
      "<class 'pandas.core.frame.DataFrame'>\n",
      "RangeIndex: 32561 entries, 0 to 32560\n",
      "Data columns (total 15 columns):\n",
      " #   Column          Non-Null Count  Dtype \n",
      "---  ------          --------------  ----- \n",
      " 0   age             32561 non-null  int64 \n",
      " 1   workclass       32561 non-null  object\n",
      " 2   fnlwgt          32561 non-null  int64 \n",
      " 3   education       32561 non-null  object\n",
      " 4   education-num   32561 non-null  int64 \n",
      " 5   marital-status  32561 non-null  object\n",
      " 6   occupation      32561 non-null  object\n",
      " 7   relationship    32561 non-null  object\n",
      " 8   race            32561 non-null  object\n",
      " 9   sex             32561 non-null  object\n",
      " 10  capital-gain    32561 non-null  int64 \n",
      " 11  capital-loss    32561 non-null  int64 \n",
      " 12  hours-per-week  32561 non-null  int64 \n",
      " 13  native-country  32561 non-null  object\n",
      " 14  salary          32561 non-null  object\n",
      "dtypes: int64(6), object(9)\n",
      "memory usage: 3.7+ MB\n"
     ]
    }
   ],
   "source": [
    "dataset_mat.info() # Estructura"
   ]
  },
  {
   "cell_type": "code",
   "execution_count": 5,
   "metadata": {
    "scrolled": true
   },
   "outputs": [
    {
     "data": {
      "text/plain": [
       "Text(0.5, 1.0, 'Distribución por Salario')"
      ]
     },
     "execution_count": 5,
     "metadata": {},
     "output_type": "execute_result"
    },
    {
     "data": {
      "image/png": "[encoded data removed]",
      "text/plain": [
       "<Figure size 576x360 with 1 Axes>"
      ]
     },
     "metadata": {
      "needs_background": "light"
     },
     "output_type": "display_data"
    }
   ],
   "source": [
    "fig = plt.figure(figsize =  (8,5))\n",
    "GrupoSalario = dataset_mat.groupby(['salary']).size()\n",
    "GrupoSalario.plot.bar()\n",
    "plt.title(\"Distribución por Salario\")"
   ]
  },
  {
   "cell_type": "code",
   "execution_count": 6,
   "metadata": {},
   "outputs": [
    {
     "data": {
      "text/plain": [
       "Text(0.5, 1.0, 'Distribución por edad')"
      ]
     },
     "execution_count": 6,
     "metadata": {},
     "output_type": "execute_result"
    },
    {
     "data": {
      "image/png": "[encoded data removed]",
      "text/plain": [
       "<Figure size 1440x432 with 1 Axes>"
      ]
     },
     "metadata": {
      "needs_background": "light"
     },
     "output_type": "display_data"
    }
   ],
   "source": [
    "fig = plt.figure(figsize = (20,6))\n",
    "GrupoEdad = dataset_mat.groupby(['age']).size()\n",
    "GrupoEdad.plot.bar()\n",
    "plt.title(\"Distribución por edad\")"
   ]
  },
  {
   "cell_type": "code",
   "execution_count": 7,
   "metadata": {},
   "outputs": [
    {
     "data": {
      "text/html": [
       "<div>\n",
       "<style scoped>\n",
       "    .dataframe tbody tr th:only-of-type {\n",
       "        vertical-align: middle;\n",
       "    }\n",
       "\n",
       "    .dataframe tbody tr th {\n",
       "        vertical-align: top;\n",
       "    }\n",
       "\n",
       "    .dataframe thead th {\n",
       "        text-align: right;\n",
       "    }\n",
       "</style>\n",
       "<table border=\"1\" class=\"dataframe\">\n",
       "  <thead>\n",
       "    <tr style=\"text-align: right;\">\n",
       "      <th>salary</th>\n",
       "      <th>age</th>\n",
       "      <th>&lt;=50K</th>\n",
       "      <th>&gt;50K</th>\n",
       "    </tr>\n",
       "  </thead>\n",
       "  <tbody>\n",
       "    <tr>\n",
       "      <th>0</th>\n",
       "      <td>17</td>\n",
       "      <td>395.0</td>\n",
       "      <td>NaN</td>\n",
       "    </tr>\n",
       "    <tr>\n",
       "      <th>1</th>\n",
       "      <td>18</td>\n",
       "      <td>550.0</td>\n",
       "      <td>NaN</td>\n",
       "    </tr>\n",
       "    <tr>\n",
       "      <th>2</th>\n",
       "      <td>19</td>\n",
       "      <td>710.0</td>\n",
       "      <td>2.0</td>\n",
       "    </tr>\n",
       "    <tr>\n",
       "      <th>3</th>\n",
       "      <td>20</td>\n",
       "      <td>753.0</td>\n",
       "      <td>NaN</td>\n",
       "    </tr>\n",
       "    <tr>\n",
       "      <th>4</th>\n",
       "      <td>21</td>\n",
       "      <td>717.0</td>\n",
       "      <td>3.0</td>\n",
       "    </tr>\n",
       "    <tr>\n",
       "      <th>...</th>\n",
       "      <td>...</td>\n",
       "      <td>...</td>\n",
       "      <td>...</td>\n",
       "    </tr>\n",
       "    <tr>\n",
       "      <th>68</th>\n",
       "      <td>85</td>\n",
       "      <td>3.0</td>\n",
       "      <td>NaN</td>\n",
       "    </tr>\n",
       "    <tr>\n",
       "      <th>69</th>\n",
       "      <td>86</td>\n",
       "      <td>1.0</td>\n",
       "      <td>NaN</td>\n",
       "    </tr>\n",
       "    <tr>\n",
       "      <th>70</th>\n",
       "      <td>87</td>\n",
       "      <td>1.0</td>\n",
       "      <td>NaN</td>\n",
       "    </tr>\n",
       "    <tr>\n",
       "      <th>71</th>\n",
       "      <td>88</td>\n",
       "      <td>3.0</td>\n",
       "      <td>NaN</td>\n",
       "    </tr>\n",
       "    <tr>\n",
       "      <th>72</th>\n",
       "      <td>90</td>\n",
       "      <td>35.0</td>\n",
       "      <td>8.0</td>\n",
       "    </tr>\n",
       "  </tbody>\n",
       "</table>\n",
       "<p>73 rows × 3 columns</p>\n",
       "</div>"
      ],
      "text/plain": [
       "salary  age   <=50K   >50K\n",
       "0        17   395.0    NaN\n",
       "1        18   550.0    NaN\n",
       "2        19   710.0    2.0\n",
       "3        20   753.0    NaN\n",
       "4        21   717.0    3.0\n",
       "..      ...     ...    ...\n",
       "68       85     3.0    NaN\n",
       "69       86     1.0    NaN\n",
       "70       87     1.0    NaN\n",
       "71       88     3.0    NaN\n",
       "72       90    35.0    8.0\n",
       "\n",
       "[73 rows x 3 columns]"
      ]
     },
     "execution_count": 7,
     "metadata": {},
     "output_type": "execute_result"
    }
   ],
   "source": [
    "#dataset_mat.groupby([\"age\",\"salary\"]).size().unstack(fill_value=0).reset_index()\n",
    "dataset_mat.groupby([\"age\",\"salary\"]).size().unstack(level=-1).reset_index()"
   ]
  },
  {
   "cell_type": "markdown",
   "metadata": {},
   "source": [
    "La característica de edad describe la edad del individuo. Primero se muestra la distribución de edad de nuestro conjunto de datos. Las edades oscilan entre los 17 y los 90 años de edad, con la mayoría de las entradas entre las edades de 25 y 50 años. \n",
    "Al observar el gráfico anterior, se aprecia una significativa varianza entre la relación de >50k a <=50k entre las edades.\n",
    "Los ratios más interesantes son los de las edades entre 17 y 20, entre 71 y 80, y 81 y 90, donde casi no se notan ingresos superior a $50.000. La proporción de entradas etiquetadas >50k a <=50k para las edades entre 21 y 30, 31 y 40, 41 y 50 y 51 y 60 también varían significativamente."
   ]
  },
  {
   "cell_type": "markdown",
   "metadata": {},
   "source": [
    "La característica education describe el nivel de educación de cada individuo en el conjunto de datos. El gráfico muestra la distribución de los diferentes niveles de educación. El grupo Other representa hasta el grado 12th. La mayoría tienen como mucho educación secundaria, mientras que sólo una pequeña parte tiene un doctorado.\n",
    "Tambien se aprecia la relación entre niveles altos de educación y el número de personas etiquetadas >50k y <=50k. En su mayoría  un nivel alto de educación se correlaciona con un mayor porcentaje de individuos con la etiqueta >50k. Una referencia interesante es la proporción de individuos etiquetados >50k a <=50k, es casi la misma entre los que tienen un doctorado y los que fueron a una escuela profesional (Profschool)"
   ]
  },
  {
   "cell_type": "markdown",
   "metadata": {},
   "source": [
    "El gráfico anterior muestra que la mayoría de personas trabajan en el sector privado. Hay un etiqueta con un número de individuos con una clase de trabajo desconocida."
   ]
  },
  {
   "cell_type": "code",
   "execution_count": 8,
   "metadata": {
    "scrolled": true
   },
   "outputs": [
    {
     "data": {
      "image/png": "[encoded data removed]",
      "text/plain": [
       "<Figure size 432x288 with 1 Axes>"
      ]
     },
     "metadata": {
      "needs_background": "light"
     },
     "output_type": "display_data"
    }
   ],
   "source": [
    "#fig = plt.figure(figsize = (20,20))\n",
    "# Este ya no lo usare\n",
    "df2 = dataset_mat.groupby([\"occupation\",\"salary\"])[\"occupation\"].count().unstack(\"salary\").fillna(0)\n",
    "df2[[' <=50K',' >50K']].plot(kind='barh', stacked=True)\n",
    "plt.rcParams[\"figure.figsize\"] = (20, 10)\n",
    "plt.title(\"Distribución de salario por ocupacin\")\n",
    "plt.tight_layout()\n",
    "plt.show()"
   ]
  },
  {
   "cell_type": "markdown",
   "metadata": {},
   "source": [
    "Como se observa en el gráfico, hay una distribución algo uniforme de las ocupaciones en el conjunto de datos, sin tener en cuenta la ausencia de las armed-forces. Sin embargo, exec-gerencial y prof-specialty destacan por tener porcentajes muy altos de individuos que superan los $50.000. Además, los porcentajes para la farming-fishing, otherservice y Handlers-cleaners son significativamente más bajos que el resto de la distribución."
   ]
  },
  {
   "cell_type": "code",
   "execution_count": 9,
   "metadata": {},
   "outputs": [
    {
     "data": {
      "image/png": "[encoded data removed]",
      "text/plain": [
       "<Figure size 1440x720 with 1 Axes>"
      ]
     },
     "metadata": {
      "needs_background": "light"
     },
     "output_type": "display_data"
    }
   ],
   "source": [
    "#Corregir para que salgan grupos\n",
    "# Este ya no lo usare\n",
    "df2 = dataset_mat.groupby([\"hours-per-week\",\"salary\"])[\"hours-per-week\"].count().unstack(\"salary\").fillna(0)\n",
    "df2[[' <=50K',' >50K']].plot(kind='barh', stacked=True)\n",
    "plt.rcParams[\"figure.figsize\"] = (20, 10)\n",
    "plt.title(\"Distribución de salario por ocupacin\")\n",
    "plt.tight_layout()\n",
    "plt.show()"
   ]
  },
  {
   "cell_type": "markdown",
   "metadata": {},
   "source": [
    "# Llena los valores malos y pérdidos"
   ]
  },
  {
   "cell_type": "code",
   "execution_count": 10,
   "metadata": {},
   "outputs": [
    {
     "data": {
      "text/plain": [
       "age               0\n",
       "workclass         0\n",
       "fnlwgt            0\n",
       "education         0\n",
       "education-num     0\n",
       "marital-status    0\n",
       "occupation        0\n",
       "relationship      0\n",
       "race              0\n",
       "sex               0\n",
       "capital-gain      0\n",
       "capital-loss      0\n",
       "hours-per-week    0\n",
       "native-country    0\n",
       "salary            0\n",
       "dtype: int64"
      ]
     },
     "execution_count": 10,
     "metadata": {},
     "output_type": "execute_result"
    }
   ],
   "source": [
    "dataset_mat.isnull().sum()"
   ]
  },
  {
   "cell_type": "code",
   "execution_count": 11,
   "metadata": {},
   "outputs": [
    {
     "name": "stdout",
     "output_type": "stream",
     "text": [
      "workclass 1836\n",
      "education 0\n",
      "marital-status 0\n",
      "occupation 1843\n",
      "relationship 0\n",
      "race 0\n",
      "sex 0\n",
      "native-country 583\n",
      "salary 0\n",
      "workclass 963\n",
      "education 0\n",
      "marital-status 0\n",
      "occupation 966\n",
      "relationship 0\n",
      "race 0\n",
      "sex 0\n",
      "native-country 274\n",
      "salary 0\n"
     ]
    }
   ],
   "source": [
    "# Estos ebo hacerlos despuesde evaluar las variables.\n",
    "# Cuenta los valores extraños en las columnas\n",
    "for col in dataset_mat.columns:\n",
    "    if dataset_mat[col].dtype == object:\n",
    "        print(col, dataset_mat[col].str.contains(' \\?').sum())\n",
    "        \n",
    "# Cuenta los valores extraños en las columnas\n",
    "for col in dataset_test.columns:\n",
    "    if dataset_test[col].dtype == object:\n",
    "        print(col, dataset_test[col].str.contains(' \\?').sum())        "
   ]
  },
  {
   "cell_type": "code",
   "execution_count": 12,
   "metadata": {},
   "outputs": [],
   "source": [
    "# Define una variable con las columnas con valores extraños\n",
    "columns_with_na_vals = ['workclass', 'occupation', 'native-country']"
   ]
  },
  {
   "cell_type": "code",
   "execution_count": 13,
   "metadata": {},
   "outputs": [
    {
     "name": "stdout",
     "output_type": "stream",
     "text": [
      "workclass 0\n",
      "education 0\n",
      "marital-status 0\n",
      "occupation 0\n",
      "relationship 0\n",
      "race 0\n",
      "sex 0\n",
      "native-country 0\n",
      "salary 0\n",
      "workclass 0\n",
      "education 0\n",
      "marital-status 0\n",
      "occupation 0\n",
      "relationship 0\n",
      "race 0\n",
      "sex 0\n",
      "native-country 0\n",
      "salary 0\n"
     ]
    }
   ],
   "source": [
    "# Reemplazar los valores extraños\n",
    "for col in columns_with_na_vals:\n",
    "    dataset_mat[col] = (dataset_mat[col].replace(to_replace = ' ?', value = np.nan))\n",
    "    \n",
    "for col in columns_with_na_vals:\n",
    "    dataset_test[col] = (dataset_test[col].replace(to_replace = ' ?', value = np.nan))    \n",
    "    \n",
    "# Corrobora la no existencia de valores extraños\n",
    "for col in dataset_mat.columns:\n",
    "    if dataset_mat[col].dtype == object:\n",
    "        print(col, dataset_mat[col].str.contains(' \\?').sum())\n",
    "        \n",
    "for col in dataset_test.columns:\n",
    "    if dataset_test[col].dtype == object:\n",
    "        print(col, dataset_test[col].str.contains(' \\?').sum())        "
   ]
  },
  {
   "cell_type": "code",
   "execution_count": 14,
   "metadata": {},
   "outputs": [
    {
     "data": {
      "text/plain": [
       "age               0\n",
       "workclass         0\n",
       "fnlwgt            0\n",
       "education         0\n",
       "education-num     0\n",
       "marital-status    0\n",
       "occupation        0\n",
       "relationship      0\n",
       "race              0\n",
       "sex               0\n",
       "capital-gain      0\n",
       "capital-loss      0\n",
       "hours-per-week    0\n",
       "native-country    0\n",
       "salary            0\n",
       "dtype: int64"
      ]
     },
     "execution_count": 14,
     "metadata": {},
     "output_type": "execute_result"
    }
   ],
   "source": [
    "# Borra valor impropios\n",
    "dataset_mat = dataset_mat.dropna()\n",
    "dataset_test = dataset_test.dropna()\n",
    "dataset_mat.isnull().sum()"
   ]
  },
  {
   "cell_type": "code",
   "execution_count": 15,
   "metadata": {},
   "outputs": [
    {
     "data": {
      "text/html": [
       "<div>\n",
       "<style scoped>\n",
       "    .dataframe tbody tr th:only-of-type {\n",
       "        vertical-align: middle;\n",
       "    }\n",
       "\n",
       "    .dataframe tbody tr th {\n",
       "        vertical-align: top;\n",
       "    }\n",
       "\n",
       "    .dataframe thead th {\n",
       "        text-align: right;\n",
       "    }\n",
       "</style>\n",
       "<table border=\"1\" class=\"dataframe\">\n",
       "  <thead>\n",
       "    <tr style=\"text-align: right;\">\n",
       "      <th></th>\n",
       "      <th>train_set</th>\n",
       "      <th>test_set</th>\n",
       "    </tr>\n",
       "  </thead>\n",
       "  <tbody>\n",
       "    <tr>\n",
       "      <th>age</th>\n",
       "      <td>int64</td>\n",
       "      <td>int64</td>\n",
       "    </tr>\n",
       "    <tr>\n",
       "      <th>workclass</th>\n",
       "      <td>object</td>\n",
       "      <td>object</td>\n",
       "    </tr>\n",
       "    <tr>\n",
       "      <th>fnlwgt</th>\n",
       "      <td>int64</td>\n",
       "      <td>int64</td>\n",
       "    </tr>\n",
       "    <tr>\n",
       "      <th>education</th>\n",
       "      <td>object</td>\n",
       "      <td>object</td>\n",
       "    </tr>\n",
       "    <tr>\n",
       "      <th>education-num</th>\n",
       "      <td>int64</td>\n",
       "      <td>int64</td>\n",
       "    </tr>\n",
       "    <tr>\n",
       "      <th>marital-status</th>\n",
       "      <td>object</td>\n",
       "      <td>object</td>\n",
       "    </tr>\n",
       "    <tr>\n",
       "      <th>occupation</th>\n",
       "      <td>object</td>\n",
       "      <td>object</td>\n",
       "    </tr>\n",
       "    <tr>\n",
       "      <th>relationship</th>\n",
       "      <td>object</td>\n",
       "      <td>object</td>\n",
       "    </tr>\n",
       "    <tr>\n",
       "      <th>race</th>\n",
       "      <td>object</td>\n",
       "      <td>object</td>\n",
       "    </tr>\n",
       "    <tr>\n",
       "      <th>sex</th>\n",
       "      <td>object</td>\n",
       "      <td>object</td>\n",
       "    </tr>\n",
       "    <tr>\n",
       "      <th>capital-gain</th>\n",
       "      <td>int64</td>\n",
       "      <td>int64</td>\n",
       "    </tr>\n",
       "    <tr>\n",
       "      <th>capital-loss</th>\n",
       "      <td>int64</td>\n",
       "      <td>int64</td>\n",
       "    </tr>\n",
       "    <tr>\n",
       "      <th>hours-per-week</th>\n",
       "      <td>int64</td>\n",
       "      <td>int64</td>\n",
       "    </tr>\n",
       "    <tr>\n",
       "      <th>native-country</th>\n",
       "      <td>object</td>\n",
       "      <td>object</td>\n",
       "    </tr>\n",
       "    <tr>\n",
       "      <th>salary</th>\n",
       "      <td>object</td>\n",
       "      <td>object</td>\n",
       "    </tr>\n",
       "  </tbody>\n",
       "</table>\n",
       "</div>"
      ],
      "text/plain": [
       "               train_set test_set\n",
       "age                int64    int64\n",
       "workclass         object   object\n",
       "fnlwgt             int64    int64\n",
       "education         object   object\n",
       "education-num      int64    int64\n",
       "marital-status    object   object\n",
       "occupation        object   object\n",
       "relationship      object   object\n",
       "race              object   object\n",
       "sex               object   object\n",
       "capital-gain       int64    int64\n",
       "capital-loss       int64    int64\n",
       "hours-per-week     int64    int64\n",
       "native-country    object   object\n",
       "salary            object   object"
      ]
     },
     "execution_count": 15,
     "metadata": {},
     "output_type": "execute_result"
    }
   ],
   "source": [
    "# Chequear los tipos de datos\n",
    "pd.DataFrame([dataset_mat.dtypes, dataset_test.dtypes], index = ['train_set','test_set']).T"
   ]
  },
  {
   "cell_type": "code",
   "execution_count": 16,
   "metadata": {
    "scrolled": true
   },
   "outputs": [
    {
     "data": {
      "text/html": [
       "<div>\n",
       "<style scoped>\n",
       "    .dataframe tbody tr th:only-of-type {\n",
       "        vertical-align: middle;\n",
       "    }\n",
       "\n",
       "    .dataframe tbody tr th {\n",
       "        vertical-align: top;\n",
       "    }\n",
       "\n",
       "    .dataframe thead th {\n",
       "        text-align: right;\n",
       "    }\n",
       "</style>\n",
       "<table border=\"1\" class=\"dataframe\">\n",
       "  <thead>\n",
       "    <tr style=\"text-align: right;\">\n",
       "      <th></th>\n",
       "      <th>count</th>\n",
       "      <th>mean</th>\n",
       "      <th>std</th>\n",
       "      <th>min</th>\n",
       "      <th>25%</th>\n",
       "      <th>50%</th>\n",
       "      <th>75%</th>\n",
       "      <th>max</th>\n",
       "    </tr>\n",
       "  </thead>\n",
       "  <tbody>\n",
       "    <tr>\n",
       "      <th>age</th>\n",
       "      <td>30162.0</td>\n",
       "      <td>38.437902</td>\n",
       "      <td>13.134665</td>\n",
       "      <td>17.0</td>\n",
       "      <td>28.00</td>\n",
       "      <td>37.0</td>\n",
       "      <td>47.0</td>\n",
       "      <td>90.0</td>\n",
       "    </tr>\n",
       "    <tr>\n",
       "      <th>fnlwgt</th>\n",
       "      <td>30162.0</td>\n",
       "      <td>189793.833930</td>\n",
       "      <td>105652.971529</td>\n",
       "      <td>13769.0</td>\n",
       "      <td>117627.25</td>\n",
       "      <td>178425.0</td>\n",
       "      <td>237628.5</td>\n",
       "      <td>1484705.0</td>\n",
       "    </tr>\n",
       "    <tr>\n",
       "      <th>education-num</th>\n",
       "      <td>30162.0</td>\n",
       "      <td>10.121312</td>\n",
       "      <td>2.549995</td>\n",
       "      <td>1.0</td>\n",
       "      <td>9.00</td>\n",
       "      <td>10.0</td>\n",
       "      <td>13.0</td>\n",
       "      <td>16.0</td>\n",
       "    </tr>\n",
       "    <tr>\n",
       "      <th>capital-gain</th>\n",
       "      <td>30162.0</td>\n",
       "      <td>1092.007858</td>\n",
       "      <td>7406.346497</td>\n",
       "      <td>0.0</td>\n",
       "      <td>0.00</td>\n",
       "      <td>0.0</td>\n",
       "      <td>0.0</td>\n",
       "      <td>99999.0</td>\n",
       "    </tr>\n",
       "    <tr>\n",
       "      <th>capital-loss</th>\n",
       "      <td>30162.0</td>\n",
       "      <td>88.372489</td>\n",
       "      <td>404.298370</td>\n",
       "      <td>0.0</td>\n",
       "      <td>0.00</td>\n",
       "      <td>0.0</td>\n",
       "      <td>0.0</td>\n",
       "      <td>4356.0</td>\n",
       "    </tr>\n",
       "    <tr>\n",
       "      <th>hours-per-week</th>\n",
       "      <td>30162.0</td>\n",
       "      <td>40.931238</td>\n",
       "      <td>11.979984</td>\n",
       "      <td>1.0</td>\n",
       "      <td>40.00</td>\n",
       "      <td>40.0</td>\n",
       "      <td>45.0</td>\n",
       "      <td>99.0</td>\n",
       "    </tr>\n",
       "  </tbody>\n",
       "</table>\n",
       "</div>"
      ],
      "text/plain": [
       "                  count           mean            std      min        25%  \\\n",
       "age             30162.0      38.437902      13.134665     17.0      28.00   \n",
       "fnlwgt          30162.0  189793.833930  105652.971529  13769.0  117627.25   \n",
       "education-num   30162.0      10.121312       2.549995      1.0       9.00   \n",
       "capital-gain    30162.0    1092.007858    7406.346497      0.0       0.00   \n",
       "capital-loss    30162.0      88.372489     404.298370      0.0       0.00   \n",
       "hours-per-week  30162.0      40.931238      11.979984      1.0      40.00   \n",
       "\n",
       "                     50%       75%        max  \n",
       "age                 37.0      47.0       90.0  \n",
       "fnlwgt          178425.0  237628.5  1484705.0  \n",
       "education-num       10.0      13.0       16.0  \n",
       "capital-gain         0.0       0.0    99999.0  \n",
       "capital-loss         0.0       0.0     4356.0  \n",
       "hours-per-week      40.0      45.0       99.0  "
      ]
     },
     "execution_count": 16,
     "metadata": {},
     "output_type": "execute_result"
    }
   ],
   "source": [
    "dataset_mat_stats_df = dataset_mat.describe().T\n",
    "dataset_mat_stats_df"
   ]
  },
  {
   "cell_type": "code",
   "execution_count": 17,
   "metadata": {},
   "outputs": [
    {
     "data": {
      "text/html": [
       "<div>\n",
       "<style scoped>\n",
       "    .dataframe tbody tr th:only-of-type {\n",
       "        vertical-align: middle;\n",
       "    }\n",
       "\n",
       "    .dataframe tbody tr th {\n",
       "        vertical-align: top;\n",
       "    }\n",
       "\n",
       "    .dataframe thead th {\n",
       "        text-align: right;\n",
       "    }\n",
       "</style>\n",
       "<table border=\"1\" class=\"dataframe\">\n",
       "  <thead>\n",
       "    <tr style=\"text-align: right;\">\n",
       "      <th></th>\n",
       "      <th>count</th>\n",
       "      <th>mean</th>\n",
       "      <th>std</th>\n",
       "      <th>min</th>\n",
       "      <th>25%</th>\n",
       "      <th>50%</th>\n",
       "      <th>75%</th>\n",
       "      <th>max</th>\n",
       "      <th>skew</th>\n",
       "    </tr>\n",
       "  </thead>\n",
       "  <tbody>\n",
       "    <tr>\n",
       "      <th>age</th>\n",
       "      <td>30162.0</td>\n",
       "      <td>38.437902</td>\n",
       "      <td>13.134665</td>\n",
       "      <td>17.0</td>\n",
       "      <td>28.00</td>\n",
       "      <td>37.0</td>\n",
       "      <td>47.0</td>\n",
       "      <td>90.0</td>\n",
       "      <td>0.530201</td>\n",
       "    </tr>\n",
       "    <tr>\n",
       "      <th>fnlwgt</th>\n",
       "      <td>30162.0</td>\n",
       "      <td>189793.833930</td>\n",
       "      <td>105652.971529</td>\n",
       "      <td>13769.0</td>\n",
       "      <td>117627.25</td>\n",
       "      <td>178425.0</td>\n",
       "      <td>237628.5</td>\n",
       "      <td>1484705.0</td>\n",
       "      <td>1.459147</td>\n",
       "    </tr>\n",
       "    <tr>\n",
       "      <th>education-num</th>\n",
       "      <td>30162.0</td>\n",
       "      <td>10.121312</td>\n",
       "      <td>2.549995</td>\n",
       "      <td>1.0</td>\n",
       "      <td>9.00</td>\n",
       "      <td>10.0</td>\n",
       "      <td>13.0</td>\n",
       "      <td>16.0</td>\n",
       "      <td>-0.305363</td>\n",
       "    </tr>\n",
       "    <tr>\n",
       "      <th>capital-gain</th>\n",
       "      <td>30162.0</td>\n",
       "      <td>1092.007858</td>\n",
       "      <td>7406.346497</td>\n",
       "      <td>0.0</td>\n",
       "      <td>0.00</td>\n",
       "      <td>0.0</td>\n",
       "      <td>0.0</td>\n",
       "      <td>99999.0</td>\n",
       "      <td>11.902090</td>\n",
       "    </tr>\n",
       "    <tr>\n",
       "      <th>capital-loss</th>\n",
       "      <td>30162.0</td>\n",
       "      <td>88.372489</td>\n",
       "      <td>404.298370</td>\n",
       "      <td>0.0</td>\n",
       "      <td>0.00</td>\n",
       "      <td>0.0</td>\n",
       "      <td>0.0</td>\n",
       "      <td>4356.0</td>\n",
       "      <td>4.526155</td>\n",
       "    </tr>\n",
       "    <tr>\n",
       "      <th>hours-per-week</th>\n",
       "      <td>30162.0</td>\n",
       "      <td>40.931238</td>\n",
       "      <td>11.979984</td>\n",
       "      <td>1.0</td>\n",
       "      <td>40.00</td>\n",
       "      <td>40.0</td>\n",
       "      <td>45.0</td>\n",
       "      <td>99.0</td>\n",
       "      <td>0.330853</td>\n",
       "    </tr>\n",
       "  </tbody>\n",
       "</table>\n",
       "</div>"
      ],
      "text/plain": [
       "                  count           mean            std      min        25%  \\\n",
       "age             30162.0      38.437902      13.134665     17.0      28.00   \n",
       "fnlwgt          30162.0  189793.833930  105652.971529  13769.0  117627.25   \n",
       "education-num   30162.0      10.121312       2.549995      1.0       9.00   \n",
       "capital-gain    30162.0    1092.007858    7406.346497      0.0       0.00   \n",
       "capital-loss    30162.0      88.372489     404.298370      0.0       0.00   \n",
       "hours-per-week  30162.0      40.931238      11.979984      1.0      40.00   \n",
       "\n",
       "                     50%       75%        max       skew  \n",
       "age                 37.0      47.0       90.0   0.530201  \n",
       "fnlwgt          178425.0  237628.5  1484705.0   1.459147  \n",
       "education-num       10.0      13.0       16.0  -0.305363  \n",
       "capital-gain         0.0       0.0    99999.0  11.902090  \n",
       "capital-loss         0.0       0.0     4356.0   4.526155  \n",
       "hours-per-week      40.0      45.0       99.0   0.330853  "
      ]
     },
     "execution_count": 17,
     "metadata": {},
     "output_type": "execute_result"
    }
   ],
   "source": [
    "# Calculamos la asimetría\n",
    "skew_values = list()\n",
    "for num_col in dataset_mat_stats_df.index:\n",
    "    num_col_skew = stats.skew(dataset_mat[num_col])\n",
    "    skew_values.append(num_col_skew)\n",
    "dataset_mat_stats_df['skew'] = skew_values\n",
    "dataset_mat_stats_df"
   ]
  },
  {
   "cell_type": "markdown",
   "metadata": {},
   "source": [
    "# Graficamos las distribuciones de las features numéricas no categóricas"
   ]
  },
  {
   "cell_type": "code",
   "execution_count": 21,
   "metadata": {},
   "outputs": [
    {
     "data": {
      "text/plain": [
       "'hours-per-week'"
      ]
     },
     "execution_count": 21,
     "metadata": {},
     "output_type": "execute_result"
    }
   ],
   "source": [
    "num_col"
   ]
  },
  {
   "cell_type": "code",
   "execution_count": 20,
   "metadata": {
    "scrolled": true
   },
   "outputs": [
    {
     "data": {
      "image/png": "[encoded data removed]",
      "text/plain": [
       "<Figure size 1080x864 with 6 Axes>"
      ]
     },
     "metadata": {
      "needs_background": "light"
     },
     "output_type": "display_data"
    }
   ],
   "source": [
    "# Histograma para representar la evolución de las variables\n",
    "fig = plt.figure(figsize=(15,12))\n",
    "\n",
    "for i, num_col in enumerate(dataset_mat_stats_df.index):\n",
    "    fig.add_subplot(3,2,1+i)\n",
    "    sns.histplot(dataset_mat[num_col])\n",
    "    \n",
    "    mean_value = dataset_mat[num_col].mean()  # Media\n",
    "    plt.axvline(mean_value, c='red')\n",
    "    \n",
    "    median_value = dataset_mat[num_col].median() # Mediana\n",
    "    plt.axvline(median_value, c='black')"
   ]
  },
  {
   "cell_type": "markdown",
   "metadata": {},
   "source": [
    "# Grafica features categóricas"
   ]
  },
  {
   "cell_type": "code",
   "execution_count": 16,
   "metadata": {},
   "outputs": [],
   "source": [
    "num_features_index = dataset_mat_stats_df.index"
   ]
  },
  {
   "cell_type": "code",
   "execution_count": 17,
   "metadata": {},
   "outputs": [
    {
     "data": {
      "text/plain": [
       "(Index(['age', 'fnlwgt', 'education-num', 'capital-gain', 'capital-loss',\n",
       "        'hours-per-week'],\n",
       "       dtype='object'),\n",
       " Index(['age', 'workclass', 'fnlwgt', 'education', 'education-num',\n",
       "        'marital-status', 'occupation', 'relationship', 'race', 'sex',\n",
       "        'capital-gain', 'capital-loss', 'hours-per-week', 'native-country',\n",
       "        'salary'],\n",
       "       dtype='object'))"
      ]
     },
     "execution_count": 17,
     "metadata": {},
     "output_type": "execute_result"
    }
   ],
   "source": [
    "num_features_index, dataset_mat.columns"
   ]
  },
  {
   "cell_type": "code",
   "execution_count": 18,
   "metadata": {},
   "outputs": [
    {
     "data": {
      "text/plain": [
       "['workclass',\n",
       " 'education',\n",
       " 'marital-status',\n",
       " 'occupation',\n",
       " 'relationship',\n",
       " 'race',\n",
       " 'sex',\n",
       " 'native-country',\n",
       " 'salary']"
      ]
     },
     "execution_count": 18,
     "metadata": {},
     "output_type": "execute_result"
    }
   ],
   "source": [
    "# Carga en una lista las variables categoricas\n",
    "cat_features_list = [col for col in dataset_mat.columns if col not in num_features_index]\n",
    "cat_features_list"
   ]
  },
  {
   "cell_type": "code",
   "execution_count": 5,
   "metadata": {
    "scrolled": false
   },
   "outputs": [
    {
     "data": {
      "image/png": "[encoded data removed]",
      "text/plain": [
       "<Figure size 1440x576 with 1 Axes>"
      ]
     },
     "metadata": {
      "needs_background": "light"
     },
     "output_type": "display_data"
    }
   ],
   "source": [
    "fig = plt.figure(figsize =  (20,8))\n",
    "sns.countplot(y='workclass', hue = 'salary', data = dataset_mat, )\n",
    "plt.title(\"Distribución por clase de trabajo\")\n",
    "plt.tight_layout()"
   ]
  },
  {
   "cell_type": "code",
   "execution_count": 6,
   "metadata": {
    "scrolled": true
   },
   "outputs": [
    {
     "data": {
      "image/png": "[encoded data removed]",
      "text/plain": [
       "<Figure size 1440x576 with 1 Axes>"
      ]
     },
     "metadata": {
      "needs_background": "light"
     },
     "output_type": "display_data"
    }
   ],
   "source": [
    "fig = plt.figure(figsize =  (20,8))\n",
    "sns.countplot(y='education', hue = 'salary', data = dataset_mat)\n",
    "plt.title(\"Distribución por Educación\")\n",
    "plt.tight_layout()"
   ]
  },
  {
   "cell_type": "code",
   "execution_count": 7,
   "metadata": {},
   "outputs": [
    {
     "data": {
      "image/png": "[encoded data removed]",
      "text/plain": [
       "<Figure size 1440x576 with 1 Axes>"
      ]
     },
     "metadata": {
      "needs_background": "light"
     },
     "output_type": "display_data"
    }
   ],
   "source": [
    "fig = plt.figure(figsize =  (20,8))\n",
    "sns.countplot(y='marital-status', hue = 'salary', data = dataset_mat)\n",
    "plt.title(\"Distribución por Estado civil\")\n",
    "plt.tight_layout()"
   ]
  },
  {
   "cell_type": "code",
   "execution_count": 8,
   "metadata": {},
   "outputs": [
    {
     "data": {
      "image/png": "[encoded data removed]",
      "text/plain": [
       "<Figure size 1440x576 with 1 Axes>"
      ]
     },
     "metadata": {
      "needs_background": "light"
     },
     "output_type": "display_data"
    }
   ],
   "source": [
    "fig = plt.figure(figsize =  (20,8))\n",
    "sns.countplot(y='occupation', hue = 'salary', data = dataset_mat)\n",
    "plt.title(\"Distribución por Ocupación\")\n",
    "plt.tight_layout()"
   ]
  },
  {
   "cell_type": "code",
   "execution_count": 9,
   "metadata": {
    "scrolled": true
   },
   "outputs": [
    {
     "data": {
      "image/png": "[encoded data removed]",
      "text/plain": [
       "<Figure size 1440x576 with 1 Axes>"
      ]
     },
     "metadata": {
      "needs_background": "light"
     },
     "output_type": "display_data"
    }
   ],
   "source": [
    "fig = plt.figure(figsize =  (20,8))\n",
    "sns.countplot(y='relationship', hue = 'salary', data = dataset_mat)\n",
    "plt.title(\"Distribución por Relación\")\n",
    "plt.tight_layout()"
   ]
  },
  {
   "cell_type": "code",
   "execution_count": 13,
   "metadata": {
    "scrolled": true
   },
   "outputs": [
    {
     "data": {
      "text/plain": [
       "<function matplotlib.pyplot.show(close=None, block=None)>"
      ]
     },
     "execution_count": 13,
     "metadata": {},
     "output_type": "execute_result"
    },
    {
     "data": {
      "image/png": "[encoded data removed]",
      "text/plain": [
       "<Figure size 1440x576 with 1 Axes>"
      ]
     },
     "metadata": {
      "needs_background": "light"
     },
     "output_type": "display_data"
    }
   ],
   "source": [
    "fig = plt.figure(figsize =  (20,8))\n",
    "sns.countplot(y='race', hue = 'salary', data = dataset_mat)\n",
    "plt.title(\"Distribución por Raza\")\n",
    "plt.show\n",
    "#plt.tight_layout()"
   ]
  },
  {
   "cell_type": "markdown",
   "metadata": {},
   "source": [
    "En el grafico parece que est acaracteristica podría ser útil en nuestro modelo de predicción, ya que los blancos, negros y asiáticos tienen un porcentaje mayor de entradas superiores a 50.000 dólares que el resto de razas. Sin embargo, el tamaño de la muestra de blancos en el conjunto de datos es desproporcionadamente grande en comparación con todas las demás razas. El segundo grupo más representado son los negros con menos de 5000 entradas. **La falta de distribución equitativa hizo que se considerára no utilizar este atributo en elmodelo de predicción.**"
   ]
  },
  {
   "cell_type": "code",
   "execution_count": 11,
   "metadata": {
    "scrolled": true
   },
   "outputs": [
    {
     "data": {
      "text/plain": [
       "Text(0.5, 1.0, 'Distribución por Sexo')"
      ]
     },
     "execution_count": 11,
     "metadata": {},
     "output_type": "execute_result"
    },
    {
     "data": {
      "image/png": "[encoded data removed]",
      "text/plain": [
       "<Figure size 1440x576 with 1 Axes>"
      ]
     },
     "metadata": {
      "needs_background": "light"
     },
     "output_type": "display_data"
    }
   ],
   "source": [
    "fig = plt.figure(figsize =  (20,8))\n",
    "sns.countplot(y='sex', hue = 'salary', data = dataset_mat)\n",
    "plt.title(\"Distribución por Sexo\")\n",
    "#plt.tight_layout()"
   ]
  },
  {
   "cell_type": "markdown",
   "metadata": {},
   "source": [
    "Se puede ver que hay casi el doble del tamaño de la muestra de hombres en comparación con las mujeres en el conjunto de datos. Si bien esto puede no afectar demasiado nuestras predicciones, la distribución del ingreso sí puede hacerlo. Como se aprecia el porcentaje de hombres que ganan más de $ 50,000 es mucho mayor que el porcentaje de mujeres que ganan la misma cantidad. **Este será sin duda un factor significativo y debería ser una característica considerada en nuestro modelo de predicción.**"
   ]
  },
  {
   "cell_type": "code",
   "execution_count": 14,
   "metadata": {
    "scrolled": false
   },
   "outputs": [
    {
     "data": {
      "text/plain": [
       "Text(0.5, 1.0, 'Distribución por Ciudad natal')"
      ]
     },
     "execution_count": 14,
     "metadata": {},
     "output_type": "execute_result"
    },
    {
     "data": {
      "image/png": "[encoded data removed]",
      "text/plain": [
       "<Figure size 1440x576 with 1 Axes>"
      ]
     },
     "metadata": {
      "needs_background": "light"
     },
     "output_type": "display_data"
    }
   ],
   "source": [
    "fig = plt.figure(figsize =  (20,8))\n",
    "sns.countplot(y='native-country', hue = 'salary', data = dataset_mat)\n",
    "plt.title(\"Distribución por Ciudad natal\")\n",
    "#plt.tight_layout()"
   ]
  },
  {
   "cell_type": "code",
   "execution_count": 20,
   "metadata": {
    "scrolled": true
   },
   "outputs": [
    {
     "data": {
      "text/plain": [
       "Text(0.5, 1.0, 'Distribución por horas por semana')"
      ]
     },
     "execution_count": 20,
     "metadata": {},
     "output_type": "execute_result"
    },
    {
     "data": {
      "image/png": "[encoded data removed]",
      "text/plain": [
       "<Figure size 1440x576 with 1 Axes>"
      ]
     },
     "metadata": {
      "needs_background": "light"
     },
     "output_type": "display_data"
    }
   ],
   "source": [
    "fig = plt.figure(figsize =  (20,8))\n",
    "bins= [0,39,41,110]\n",
    "labels = ['<40','=40','>40']\n",
    "dataset_mat['HorasGrupo'] = pd.cut(dataset_mat['hours-per-week'], bins=bins, labels=labels, right=False)\n",
    "#print (dataset_mat)\n",
    "sns.countplot(y='HorasGrupo', hue = 'salary', data = dataset_mat)\n",
    "plt.title(\"Distribución por horas por semana\")\n",
    "#plt.tight_layout()"
   ]
  },
  {
   "cell_type": "markdown",
   "metadata": {},
   "source": [
    "Al observar la distribución del grafico, la gran mayoría de las personas trabajan 40 horas a la semana. Independientemente de la distribución no uniforme, ademas se muestra que el porcentaje de personas que ganan más de $ 50 000 es similar entre los individuos que trabajan 40 horas o más. SIn embargo al trabajar menor de 40 horas disminuye drásticamente en las personas que ganan más de 50 mil."
   ]
  },
  {
   "cell_type": "code",
   "execution_count": 27,
   "metadata": {
    "scrolled": true
   },
   "outputs": [
    {
     "name": "stderr",
     "output_type": "stream",
     "text": [
      "D:\\Personal\\Anaconda\\lib\\site-packages\\seaborn\\_decorators.py:36: FutureWarning: Pass the following variable as a keyword arg: x. From version 0.12, the only valid positional argument will be `data`, and passing other arguments without an explicit keyword will result in an error or misinterpretation.\n",
      "  warnings.warn(\n"
     ]
    },
    {
     "data": {
      "image/png": "[encoded data removed]",
      "text/plain": [
       "<Figure size 1440x576 with 1 Axes>"
      ]
     },
     "metadata": {
      "needs_background": "light"
     },
     "output_type": "display_data"
    }
   ],
   "source": [
    "# Este ya no se usa porque esta al principio\n",
    "fig = plt.figure(figsize =  (20,8))\n",
    "sns.countplot('salary', hue = 'salary', data = dataset_mat)\n",
    "plt.title(\"Distribución por Ingreso\")\n",
    "plt.tight_layout()"
   ]
  },
  {
   "cell_type": "markdown",
   "metadata": {},
   "source": [
    "**Eliminación de muestras **\n",
    "Cuando se probaron algunos modelos, hubo problemas para crear valores predeterminados para muchas de las muestras con valores desconocidos o faltantes, lo que provocó errores en el cálculo y resultados sesgados. Se eliminará cualquier muestra de datos que tuviera un valor faltante para mejorar nuestros resultados.\n",
    "\n",
    "**Eliminación de funciones**\n",
    "También se opto por no utilizar las caracteristicas: \"fnlwgt\", \"relationship\" y \"capital Gains/Loss\". Estas características no parecenn útiles para el análisis o tenían demasiados datos incorrectos, es decir, valores cero, valores desconocidos / privados."
   ]
  },
  {
   "cell_type": "markdown",
   "metadata": {},
   "source": [
    "# Llena los valores malos y pérdidos"
   ]
  },
  {
   "cell_type": "code",
   "execution_count": 21,
   "metadata": {},
   "outputs": [
    {
     "data": {
      "text/plain": [
       "age               0\n",
       "workclass         0\n",
       "fnlwgt            0\n",
       "education         0\n",
       "education-num     0\n",
       "marital-status    0\n",
       "occupation        0\n",
       "relationship      0\n",
       "race              0\n",
       "sex               0\n",
       "capital-gain      0\n",
       "capital-loss      0\n",
       "hours-per-week    0\n",
       "native-country    0\n",
       "salary            0\n",
       "HorasGrupo        0\n",
       "dtype: int64"
      ]
     },
     "execution_count": 21,
     "metadata": {},
     "output_type": "execute_result"
    }
   ],
   "source": [
    "dataset_mat.isnull().sum()"
   ]
  },
  {
   "cell_type": "code",
   "execution_count": 22,
   "metadata": {},
   "outputs": [
    {
     "name": "stdout",
     "output_type": "stream",
     "text": [
      "workclass 1836\n",
      "education 0\n",
      "marital-status 0\n",
      "occupation 1843\n",
      "relationship 0\n",
      "race 0\n",
      "sex 0\n",
      "native-country 583\n",
      "salary 0\n",
      "workclass 963\n",
      "education 0\n",
      "marital-status 0\n",
      "occupation 966\n",
      "relationship 0\n",
      "race 0\n",
      "sex 0\n",
      "native-country 274\n",
      "salary 0\n"
     ]
    }
   ],
   "source": [
    "# Cuenta los valores extraños en las columnas\n",
    "for col in dataset_mat.columns:\n",
    "    if dataset_mat[col].dtype == object:\n",
    "        print(col, dataset_mat[col].str.contains(' \\?').sum())\n",
    "        \n",
    "# Cuenta los valores extraños en las columnas\n",
    "for col in dataset_test.columns:\n",
    "    if dataset_test[col].dtype == object:\n",
    "        print(col, dataset_test[col].str.contains(' \\?').sum())        "
   ]
  },
  {
   "cell_type": "code",
   "execution_count": 23,
   "metadata": {},
   "outputs": [],
   "source": [
    "# Define una variable con las columnas con valores extraños\n",
    "columns_with_na_vals = ['workclass', 'occupation', 'native-country']"
   ]
  },
  {
   "cell_type": "code",
   "execution_count": 24,
   "metadata": {},
   "outputs": [
    {
     "name": "stdout",
     "output_type": "stream",
     "text": [
      "workclass 0\n",
      "education 0\n",
      "marital-status 0\n",
      "occupation 0\n",
      "relationship 0\n",
      "race 0\n",
      "sex 0\n",
      "native-country 0\n",
      "salary 0\n",
      "workclass 0\n",
      "education 0\n",
      "marital-status 0\n",
      "occupation 0\n",
      "relationship 0\n",
      "race 0\n",
      "sex 0\n",
      "native-country 0\n",
      "salary 0\n"
     ]
    }
   ],
   "source": [
    "# Reemplazar los valores extraños\n",
    "for col in columns_with_na_vals:\n",
    "    dataset_mat[col] = (dataset_mat[col].replace(to_replace = ' ?', value = np.nan))\n",
    "    \n",
    "for col in columns_with_na_vals:\n",
    "    dataset_test[col] = (dataset_test[col].replace(to_replace = ' ?', value = np.nan))    \n",
    "    \n",
    "# Corrobora la no existencia de valores extraños\n",
    "for col in dataset_mat.columns:\n",
    "    if dataset_mat[col].dtype == object:\n",
    "        print(col, dataset_mat[col].str.contains(' \\?').sum())\n",
    "        \n",
    "for col in dataset_test.columns:\n",
    "    if dataset_test[col].dtype == object:\n",
    "        print(col, dataset_test[col].str.contains(' \\?').sum())  "
   ]
  },
  {
   "cell_type": "code",
   "execution_count": 25,
   "metadata": {},
   "outputs": [],
   "source": [
    "# Borra valor impropios\n",
    "dataset_mat = dataset_mat.dropna()\n",
    "dataset_test = dataset_test.dropna"
   ]
  },
  {
   "cell_type": "code",
   "execution_count": 26,
   "metadata": {},
   "outputs": [
    {
     "data": {
      "text/html": [
       "<div>\n",
       "<style scoped>\n",
       "    .dataframe tbody tr th:only-of-type {\n",
       "        vertical-align: middle;\n",
       "    }\n",
       "\n",
       "    .dataframe tbody tr th {\n",
       "        vertical-align: top;\n",
       "    }\n",
       "\n",
       "    .dataframe thead th {\n",
       "        text-align: right;\n",
       "    }\n",
       "</style>\n",
       "<table border=\"1\" class=\"dataframe\">\n",
       "  <thead>\n",
       "    <tr style=\"text-align: right;\">\n",
       "      <th></th>\n",
       "      <th>count</th>\n",
       "      <th>mean</th>\n",
       "      <th>std</th>\n",
       "      <th>min</th>\n",
       "      <th>25%</th>\n",
       "      <th>50%</th>\n",
       "      <th>75%</th>\n",
       "      <th>max</th>\n",
       "      <th>skew</th>\n",
       "    </tr>\n",
       "  </thead>\n",
       "  <tbody>\n",
       "    <tr>\n",
       "      <th>age</th>\n",
       "      <td>30162.0</td>\n",
       "      <td>38.437902</td>\n",
       "      <td>13.134665</td>\n",
       "      <td>17.0</td>\n",
       "      <td>28.00</td>\n",
       "      <td>37.0</td>\n",
       "      <td>47.0</td>\n",
       "      <td>90.0</td>\n",
       "      <td>0.530201</td>\n",
       "    </tr>\n",
       "    <tr>\n",
       "      <th>fnlwgt</th>\n",
       "      <td>30162.0</td>\n",
       "      <td>189793.833930</td>\n",
       "      <td>105652.971529</td>\n",
       "      <td>13769.0</td>\n",
       "      <td>117627.25</td>\n",
       "      <td>178425.0</td>\n",
       "      <td>237628.5</td>\n",
       "      <td>1484705.0</td>\n",
       "      <td>1.459147</td>\n",
       "    </tr>\n",
       "    <tr>\n",
       "      <th>education-num</th>\n",
       "      <td>30162.0</td>\n",
       "      <td>10.121312</td>\n",
       "      <td>2.549995</td>\n",
       "      <td>1.0</td>\n",
       "      <td>9.00</td>\n",
       "      <td>10.0</td>\n",
       "      <td>13.0</td>\n",
       "      <td>16.0</td>\n",
       "      <td>-0.305363</td>\n",
       "    </tr>\n",
       "    <tr>\n",
       "      <th>capital-gain</th>\n",
       "      <td>30162.0</td>\n",
       "      <td>1092.007858</td>\n",
       "      <td>7406.346497</td>\n",
       "      <td>0.0</td>\n",
       "      <td>0.00</td>\n",
       "      <td>0.0</td>\n",
       "      <td>0.0</td>\n",
       "      <td>99999.0</td>\n",
       "      <td>11.902090</td>\n",
       "    </tr>\n",
       "    <tr>\n",
       "      <th>capital-loss</th>\n",
       "      <td>30162.0</td>\n",
       "      <td>88.372489</td>\n",
       "      <td>404.298370</td>\n",
       "      <td>0.0</td>\n",
       "      <td>0.00</td>\n",
       "      <td>0.0</td>\n",
       "      <td>0.0</td>\n",
       "      <td>4356.0</td>\n",
       "      <td>4.526155</td>\n",
       "    </tr>\n",
       "    <tr>\n",
       "      <th>hours-per-week</th>\n",
       "      <td>30162.0</td>\n",
       "      <td>40.931238</td>\n",
       "      <td>11.979984</td>\n",
       "      <td>1.0</td>\n",
       "      <td>40.00</td>\n",
       "      <td>40.0</td>\n",
       "      <td>45.0</td>\n",
       "      <td>99.0</td>\n",
       "      <td>0.330853</td>\n",
       "    </tr>\n",
       "  </tbody>\n",
       "</table>\n",
       "</div>"
      ],
      "text/plain": [
       "                  count           mean            std      min        25%  \\\n",
       "age             30162.0      38.437902      13.134665     17.0      28.00   \n",
       "fnlwgt          30162.0  189793.833930  105652.971529  13769.0  117627.25   \n",
       "education-num   30162.0      10.121312       2.549995      1.0       9.00   \n",
       "capital-gain    30162.0    1092.007858    7406.346497      0.0       0.00   \n",
       "capital-loss    30162.0      88.372489     404.298370      0.0       0.00   \n",
       "hours-per-week  30162.0      40.931238      11.979984      1.0      40.00   \n",
       "\n",
       "                     50%       75%        max       skew  \n",
       "age                 37.0      47.0       90.0   0.530201  \n",
       "fnlwgt          178425.0  237628.5  1484705.0   1.459147  \n",
       "education-num       10.0      13.0       16.0  -0.305363  \n",
       "capital-gain         0.0       0.0    99999.0  11.902090  \n",
       "capital-loss         0.0       0.0     4356.0   4.526155  \n",
       "hours-per-week      40.0      45.0       99.0   0.330853  "
      ]
     },
     "execution_count": 26,
     "metadata": {},
     "output_type": "execute_result"
    }
   ],
   "source": [
    "dataset_mat_stats_df = dataset_mat.describe().T\n",
    "# Calculamos la asimetría\n",
    "skew_values = list()\n",
    "for num_col in dataset_mat_stats_df.index:\n",
    "    num_col_skew = stats.skew(dataset_mat[num_col])\n",
    "    skew_values.append(num_col_skew)\n",
    "dataset_mat_stats_df['skew'] = skew_values\n",
    "dataset_mat_stats_df"
   ]
  },
  {
   "cell_type": "code",
   "execution_count": 28,
   "metadata": {},
   "outputs": [
    {
     "data": {
      "text/html": [
       "<div>\n",
       "<style scoped>\n",
       "    .dataframe tbody tr th:only-of-type {\n",
       "        vertical-align: middle;\n",
       "    }\n",
       "\n",
       "    .dataframe tbody tr th {\n",
       "        vertical-align: top;\n",
       "    }\n",
       "\n",
       "    .dataframe thead th {\n",
       "        text-align: right;\n",
       "    }\n",
       "</style>\n",
       "<table border=\"1\" class=\"dataframe\">\n",
       "  <thead>\n",
       "    <tr style=\"text-align: right;\">\n",
       "      <th></th>\n",
       "      <th>age</th>\n",
       "      <th>fnlwgt</th>\n",
       "      <th>education-num</th>\n",
       "      <th>capital-gain</th>\n",
       "      <th>capital-loss</th>\n",
       "      <th>hours-per-week</th>\n",
       "    </tr>\n",
       "  </thead>\n",
       "  <tbody>\n",
       "    <tr>\n",
       "      <th>count</th>\n",
       "      <td>30162.000000</td>\n",
       "      <td>3.016200e+04</td>\n",
       "      <td>30162.000000</td>\n",
       "      <td>30162.000000</td>\n",
       "      <td>30162.000000</td>\n",
       "      <td>30162.000000</td>\n",
       "    </tr>\n",
       "    <tr>\n",
       "      <th>mean</th>\n",
       "      <td>38.437902</td>\n",
       "      <td>1.897938e+05</td>\n",
       "      <td>10.121312</td>\n",
       "      <td>1092.007858</td>\n",
       "      <td>88.372489</td>\n",
       "      <td>40.931238</td>\n",
       "    </tr>\n",
       "    <tr>\n",
       "      <th>std</th>\n",
       "      <td>13.134665</td>\n",
       "      <td>1.056530e+05</td>\n",
       "      <td>2.549995</td>\n",
       "      <td>7406.346497</td>\n",
       "      <td>404.298370</td>\n",
       "      <td>11.979984</td>\n",
       "    </tr>\n",
       "    <tr>\n",
       "      <th>min</th>\n",
       "      <td>17.000000</td>\n",
       "      <td>1.376900e+04</td>\n",
       "      <td>1.000000</td>\n",
       "      <td>0.000000</td>\n",
       "      <td>0.000000</td>\n",
       "      <td>1.000000</td>\n",
       "    </tr>\n",
       "    <tr>\n",
       "      <th>25%</th>\n",
       "      <td>28.000000</td>\n",
       "      <td>1.176272e+05</td>\n",
       "      <td>9.000000</td>\n",
       "      <td>0.000000</td>\n",
       "      <td>0.000000</td>\n",
       "      <td>40.000000</td>\n",
       "    </tr>\n",
       "    <tr>\n",
       "      <th>50%</th>\n",
       "      <td>37.000000</td>\n",
       "      <td>1.784250e+05</td>\n",
       "      <td>10.000000</td>\n",
       "      <td>0.000000</td>\n",
       "      <td>0.000000</td>\n",
       "      <td>40.000000</td>\n",
       "    </tr>\n",
       "    <tr>\n",
       "      <th>75%</th>\n",
       "      <td>47.000000</td>\n",
       "      <td>2.376285e+05</td>\n",
       "      <td>13.000000</td>\n",
       "      <td>0.000000</td>\n",
       "      <td>0.000000</td>\n",
       "      <td>45.000000</td>\n",
       "    </tr>\n",
       "    <tr>\n",
       "      <th>max</th>\n",
       "      <td>90.000000</td>\n",
       "      <td>1.484705e+06</td>\n",
       "      <td>16.000000</td>\n",
       "      <td>99999.000000</td>\n",
       "      <td>4356.000000</td>\n",
       "      <td>99.000000</td>\n",
       "    </tr>\n",
       "  </tbody>\n",
       "</table>\n",
       "</div>"
      ],
      "text/plain": [
       "                age        fnlwgt  education-num  capital-gain  capital-loss  \\\n",
       "count  30162.000000  3.016200e+04   30162.000000  30162.000000  30162.000000   \n",
       "mean      38.437902  1.897938e+05      10.121312   1092.007858     88.372489   \n",
       "std       13.134665  1.056530e+05       2.549995   7406.346497    404.298370   \n",
       "min       17.000000  1.376900e+04       1.000000      0.000000      0.000000   \n",
       "25%       28.000000  1.176272e+05       9.000000      0.000000      0.000000   \n",
       "50%       37.000000  1.784250e+05      10.000000      0.000000      0.000000   \n",
       "75%       47.000000  2.376285e+05      13.000000      0.000000      0.000000   \n",
       "max       90.000000  1.484705e+06      16.000000  99999.000000   4356.000000   \n",
       "\n",
       "       hours-per-week  \n",
       "count    30162.000000  \n",
       "mean        40.931238  \n",
       "std         11.979984  \n",
       "min          1.000000  \n",
       "25%         40.000000  \n",
       "50%         40.000000  \n",
       "75%         45.000000  \n",
       "max         99.000000  "
      ]
     },
     "execution_count": 28,
     "metadata": {},
     "output_type": "execute_result"
    }
   ],
   "source": [
    "# Descripcion estadística de los datos\n",
    "dataset_mat.describe()"
   ]
  },
  {
   "cell_type": "markdown",
   "metadata": {},
   "source": [
    "# Graficamos las distribuciones de las features numéricas no categóricas"
   ]
  },
  {
   "cell_type": "code",
   "execution_count": 27,
   "metadata": {},
   "outputs": [
    {
     "name": "stderr",
     "output_type": "stream",
     "text": [
      "D:\\Personal\\Anaconda\\lib\\site-packages\\seaborn\\distributions.py:2551: FutureWarning: `distplot` is a deprecated function and will be removed in a future version. Please adapt your code to use either `displot` (a figure-level function with similar flexibility) or `histplot` (an axes-level function for histograms).\n",
      "  warnings.warn(msg, FutureWarning)\n",
      "D:\\Personal\\Anaconda\\lib\\site-packages\\seaborn\\distributions.py:2551: FutureWarning: `distplot` is a deprecated function and will be removed in a future version. Please adapt your code to use either `displot` (a figure-level function with similar flexibility) or `histplot` (an axes-level function for histograms).\n",
      "  warnings.warn(msg, FutureWarning)\n",
      "D:\\Personal\\Anaconda\\lib\\site-packages\\seaborn\\distributions.py:2551: FutureWarning: `distplot` is a deprecated function and will be removed in a future version. Please adapt your code to use either `displot` (a figure-level function with similar flexibility) or `histplot` (an axes-level function for histograms).\n",
      "  warnings.warn(msg, FutureWarning)\n",
      "D:\\Personal\\Anaconda\\lib\\site-packages\\seaborn\\distributions.py:2551: FutureWarning: `distplot` is a deprecated function and will be removed in a future version. Please adapt your code to use either `displot` (a figure-level function with similar flexibility) or `histplot` (an axes-level function for histograms).\n",
      "  warnings.warn(msg, FutureWarning)\n",
      "D:\\Personal\\Anaconda\\lib\\site-packages\\seaborn\\distributions.py:2551: FutureWarning: `distplot` is a deprecated function and will be removed in a future version. Please adapt your code to use either `displot` (a figure-level function with similar flexibility) or `histplot` (an axes-level function for histograms).\n",
      "  warnings.warn(msg, FutureWarning)\n",
      "D:\\Personal\\Anaconda\\lib\\site-packages\\seaborn\\distributions.py:2551: FutureWarning: `distplot` is a deprecated function and will be removed in a future version. Please adapt your code to use either `displot` (a figure-level function with similar flexibility) or `histplot` (an axes-level function for histograms).\n",
      "  warnings.warn(msg, FutureWarning)\n"
     ]
    },
    {
     "data": {
      "image/png": "[encoded data removed]",
      "text/plain": [
       "<Figure size 1080x864 with 6 Axes>"
      ]
     },
     "metadata": {
      "needs_background": "light"
     },
     "output_type": "display_data"
    }
   ],
   "source": [
    "# Histograma para representar la evolución de las variables\n",
    "fig = plt.figure(figsize=(15,12))\n",
    "\n",
    "for i, num_col in enumerate(dataset_mat_stats_df.index):\n",
    "    fig.add_subplot(3,2,1+i)\n",
    "    sns.distplot(dataset_mat[num_col])\n",
    "    \n",
    "    mean_value = dataset_mat[num_col].mean()  # Media\n",
    "    plt.axvline(mean_value, c='red')\n",
    "    \n",
    "    median_value = dataset_mat[num_col].median() # Mediana\n",
    "    plt.axvline(median_value, c='black')"
   ]
  },
  {
   "cell_type": "code",
   "execution_count": 29,
   "metadata": {},
   "outputs": [
    {
     "data": {
      "image/png": "[encoded data removed]",
      "text/plain": [
       "<Figure size 1440x1440 with 2 Axes>"
      ]
     },
     "metadata": {
      "needs_background": "light"
     },
     "output_type": "display_data"
    }
   ],
   "source": [
    "# Correlación entre variables no categoricas\n",
    "f,ax = plt.subplots(figsize=(20,20))\n",
    "sns.heatmap(dataset_mat.corr(method='spearman'),annot=True,fmt=\".1f\",linewidths=1,ax=ax)\n",
    "plt.show()"
   ]
  },
  {
   "cell_type": "code",
   "execution_count": 32,
   "metadata": {
    "scrolled": true
   },
   "outputs": [
    {
     "name": "stdout",
     "output_type": "stream",
     "text": [
      "<class 'pandas.core.frame.DataFrame'>\n",
      "Int64Index: 30162 entries, 0 to 32560\n",
      "Data columns (total 16 columns):\n",
      " #   Column          Non-Null Count  Dtype   \n",
      "---  ------          --------------  -----   \n",
      " 0   age             30162 non-null  int64   \n",
      " 1   workclass       30162 non-null  int32   \n",
      " 2   fnlwgt          30162 non-null  int64   \n",
      " 3   education       30162 non-null  int32   \n",
      " 4   education-num   30162 non-null  int64   \n",
      " 5   marital-status  30162 non-null  int32   \n",
      " 6   occupation      30162 non-null  int32   \n",
      " 7   relationship    30162 non-null  int32   \n",
      " 8   race            30162 non-null  int32   \n",
      " 9   sex             30162 non-null  int32   \n",
      " 10  capital-gain    30162 non-null  int64   \n",
      " 11  capital-loss    30162 non-null  int64   \n",
      " 12  hours-per-week  30162 non-null  int64   \n",
      " 13  native-country  30162 non-null  int32   \n",
      " 14  salary          30162 non-null  int32   \n",
      " 15  HorasGrupo      30162 non-null  category\n",
      "dtypes: category(1), int32(9), int64(6)\n",
      "memory usage: 2.7 MB\n"
     ]
    }
   ],
   "source": [
    "dataset_mat.info()"
   ]
  },
  {
   "cell_type": "code",
   "execution_count": 30,
   "metadata": {},
   "outputs": [],
   "source": [
    "list_mult_not_ord = ['workclass', 'education', 'marital-status', 'occupation',\n",
    "                    'sex','native-country'] #Lista de variable categoricas o ordinales\n",
    "#list_cat_not_ord = list_binary + list_mult_not_ord "
   ]
  },
  {
   "cell_type": "code",
   "execution_count": 31,
   "metadata": {},
   "outputs": [
    {
     "ename": "AttributeError",
     "evalue": "'function' object has no attribute 'select_dtypes'",
     "output_type": "error",
     "traceback": [
      "\u001b[1;31m---------------------------------------------------------------------------\u001b[0m",
      "\u001b[1;31mAttributeError\u001b[0m                            Traceback (most recent call last)",
      "\u001b[1;32m<ipython-input-31-95886eaa1ed2>\u001b[0m in \u001b[0;36m<module>\u001b[1;34m\u001b[0m\n\u001b[0;32m     17\u001b[0m \u001b[1;33m\u001b[0m\u001b[0m\n\u001b[0;32m     18\u001b[0m \u001b[1;31m# Lo hacemos para el grupo de test\u001b[0m\u001b[1;33m\u001b[0m\u001b[1;33m\u001b[0m\u001b[1;33m\u001b[0m\u001b[0m\n\u001b[1;32m---> 19\u001b[1;33m \u001b[0mobj_test\u001b[0m \u001b[1;33m=\u001b[0m \u001b[0mdataset_test\u001b[0m\u001b[1;33m.\u001b[0m\u001b[0mselect_dtypes\u001b[0m\u001b[1;33m(\u001b[0m\u001b[0minclude\u001b[0m\u001b[1;33m=\u001b[0m\u001b[1;33m[\u001b[0m\u001b[1;34m'object'\u001b[0m\u001b[1;33m]\u001b[0m\u001b[1;33m)\u001b[0m\u001b[1;33m.\u001b[0m\u001b[0mcopy\u001b[0m\u001b[1;33m(\u001b[0m\u001b[1;33m)\u001b[0m\u001b[1;33m\u001b[0m\u001b[1;33m\u001b[0m\u001b[0m\n\u001b[0m\u001b[0;32m     20\u001b[0m \u001b[1;33m\u001b[0m\u001b[0m\n\u001b[0;32m     21\u001b[0m \u001b[1;32mfor\u001b[0m \u001b[0mcol\u001b[0m \u001b[1;32min\u001b[0m \u001b[0mobj_test\u001b[0m\u001b[1;33m.\u001b[0m\u001b[0mcolumns\u001b[0m\u001b[1;33m:\u001b[0m\u001b[1;33m\u001b[0m\u001b[1;33m\u001b[0m\u001b[0m\n",
      "\u001b[1;31mAttributeError\u001b[0m: 'function' object has no attribute 'select_dtypes'"
     ]
    }
   ],
   "source": [
    "# Encoding numerico de las variables para trabajar en el modelo\n",
    "# Hay que transformar a numéricas las variables categóricas para poder trabajar con ellas\n",
    "# Las variables que aparecen como texto aparecen como object\n",
    "#dataset_mat.info() #displiega informacion de la columnas dle dataframe\n",
    "# copiamos en un sub-dataframe los registros cuyo tipo = object\n",
    "obj_df = dataset_mat.select_dtypes(include=['object']).copy()\n",
    "#print (obj_df.columns) # despliega las columnas creado en la línea anterior.\n",
    "\n",
    "from sklearn.preprocessing import LabelEncoder # Esta libreria con proprocessing permite expresar los valores texto en numeros\n",
    "lb_encoder = LabelEncoder() # creamos un objeto que hará el encoding\n",
    "\n",
    "# Iterar por las columnas del dataframe\n",
    "for col in obj_df.columns:\n",
    "    dataset_mat[col] = lb_encoder.fit_transform(dataset_mat[col]) \n",
    "# Sustituimos en el dataframe origimal el valor de texto\n",
    "# por el valor numerico con fit_transform\n",
    "\n",
    "# Lo hacemos para el grupo de test\n",
    "obj_test = dataset_test.select_dtypes(include=['object']).copy()\n",
    "\n",
    "for col in obj_test.columns:\n",
    "    dataset_test[col] = lb_encoder.fit_transform(dataset_test[col]) \n",
    "\n",
    "#dataset_mat.head()\n",
    "#dataset_mat.isnull().sum() #Permite chequear si hay alguna variable con nulos.\n",
    "#dataset_test.isnull().sum() #Permite chequear si hay alguna variable con nulos."
   ]
  },
  {
   "cell_type": "code",
   "execution_count": 33,
   "metadata": {
    "scrolled": false
   },
   "outputs": [
    {
     "data": {
      "image/png": "[encoded data removed]",
      "text/plain": [
       "<Figure size 720x720 with 2 Axes>"
      ]
     },
     "metadata": {
      "needs_background": "light"
     },
     "output_type": "display_data"
    },
    {
     "ename": "AttributeError",
     "evalue": "'function' object has no attribute 'corr'",
     "output_type": "error",
     "traceback": [
      "\u001b[1;31m---------------------------------------------------------------------------\u001b[0m",
      "\u001b[1;31mAttributeError\u001b[0m                            Traceback (most recent call last)",
      "\u001b[1;32m<ipython-input-33-a61946910084>\u001b[0m in \u001b[0;36m<module>\u001b[1;34m\u001b[0m\n\u001b[0;32m     10\u001b[0m \u001b[1;31m# Test\u001b[0m\u001b[1;33m\u001b[0m\u001b[1;33m\u001b[0m\u001b[1;33m\u001b[0m\u001b[0m\n\u001b[0;32m     11\u001b[0m \u001b[1;31m#plt.subplot(2, 2, 2)\u001b[0m\u001b[1;33m\u001b[0m\u001b[1;33m\u001b[0m\u001b[1;33m\u001b[0m\u001b[0m\n\u001b[1;32m---> 12\u001b[1;33m \u001b[0msns\u001b[0m\u001b[1;33m.\u001b[0m\u001b[0mheatmap\u001b[0m\u001b[1;33m(\u001b[0m\u001b[0mdataset_test\u001b[0m\u001b[1;33m.\u001b[0m\u001b[0mcorr\u001b[0m\u001b[1;33m(\u001b[0m\u001b[0mmethod\u001b[0m\u001b[1;33m=\u001b[0m\u001b[1;34m'spearman'\u001b[0m\u001b[1;33m)\u001b[0m\u001b[1;33m,\u001b[0m\u001b[0mannot\u001b[0m\u001b[1;33m=\u001b[0m\u001b[1;32mTrue\u001b[0m\u001b[1;33m,\u001b[0m\u001b[0mfmt\u001b[0m\u001b[1;33m=\u001b[0m\u001b[1;34m\".1f\"\u001b[0m\u001b[1;33m,\u001b[0m\u001b[0mlinewidths\u001b[0m\u001b[1;33m=\u001b[0m\u001b[1;36m1\u001b[0m\u001b[1;33m,\u001b[0m\u001b[0max\u001b[0m\u001b[1;33m=\u001b[0m\u001b[0max\u001b[0m\u001b[1;33m)\u001b[0m\u001b[1;33m\u001b[0m\u001b[1;33m\u001b[0m\u001b[0m\n\u001b[0m\u001b[0;32m     13\u001b[0m \u001b[0mplt\u001b[0m\u001b[1;33m.\u001b[0m\u001b[0mtitle\u001b[0m\u001b[1;33m(\u001b[0m\u001b[1;34m\"Datos de Test\"\u001b[0m\u001b[1;33m)\u001b[0m\u001b[1;33m\u001b[0m\u001b[1;33m\u001b[0m\u001b[0m\n\u001b[0;32m     14\u001b[0m \u001b[0mplt\u001b[0m\u001b[1;33m.\u001b[0m\u001b[0mshow\u001b[0m\u001b[1;33m(\u001b[0m\u001b[1;33m)\u001b[0m\u001b[1;33m\u001b[0m\u001b[1;33m\u001b[0m\u001b[0m\n",
      "\u001b[1;31mAttributeError\u001b[0m: 'function' object has no attribute 'corr'"
     ]
    },
    {
     "data": {
      "image/png": "[encoded data removed]",
      "text/plain": [
       "<Figure size 720x720 with 1 Axes>"
      ]
     },
     "metadata": {
      "needs_background": "light"
     },
     "output_type": "display_data"
    }
   ],
   "source": [
    "# Correlación entre todas las variables\n",
    "f,ax = plt.subplots(figsize=(10,10))\n",
    "# Train\n",
    "sns.heatmap(dataset_mat.corr(method='spearman'),annot=True,fmt=\".1f\",linewidths=1,ax=ax)\n",
    "#plt.subplot(2, 2, 1) \n",
    "plt.title(\"Datos de entrenamiento\") \n",
    "plt.show()\n",
    "\n",
    "f,ax = plt.subplots(figsize=(10,10))\n",
    "# Test\n",
    "#plt.subplot(2, 2, 2) \n",
    "sns.heatmap(dataset_test.corr(method='spearman'),annot=True,fmt=\".1f\",linewidths=1,ax=ax)\n",
    "plt.title(\"Datos de Test\") \n",
    "plt.show()"
   ]
  },
  {
   "cell_type": "code",
   "execution_count": 34,
   "metadata": {},
   "outputs": [
    {
     "data": {
      "text/plain": [
       "<AxesSubplot:ylabel='hours-per-week'>"
      ]
     },
     "execution_count": 34,
     "metadata": {},
     "output_type": "execute_result"
    },
    {
     "data": {
      "image/png": "[encoded data removed]",
      "text/plain": [
       "<Figure size 1008x1440 with 9 Axes>"
      ]
     },
     "metadata": {
      "needs_background": "light"
     },
     "output_type": "display_data"
    }
   ],
   "source": [
    "# Boxplots - Visualizar anomalias. Cuartiles, y cuales e salen de los rangos\n",
    "f, ax = plt.subplots(3, 3, figsize=(14,20))\n",
    "\n",
    "#sns.boxplot(y=\"salary\", data=dataset_mat, orient=\"v\", ax=ax[0][0], palette=\"Reds\")\n",
    "#Usando \"x\" daba problema\n",
    "sns.boxplot(y= \"workclass\", data=dataset_mat, orient='v' , ax=ax[0][1], palette=\"Blues\") \n",
    "#sns.boxplot(y= \"fnlwgt\", data=dataset_mat, orient='v' , ax=ax[0][2], palette=\"GnBu_d\") \n",
    "sns.boxplot(y= \"education\", data=dataset_mat, orient='v' , ax=ax[0][0], palette=\"Purples\") \n",
    "#sns.boxplot(y= \"education-num\", data=dataset_mat, orient='v' , ax=ax[0][1], palette=\"Paired\") \n",
    "sns.boxplot(y= \"marital-status\", data=dataset_mat, orient='v' , ax=ax[0][2], palette=sns.cubehelix_palette(8)) \n",
    "sns.boxplot(y= \"occupation\", data=dataset_mat, orient='v' , ax=ax[1][0], palette=\"GnBu_d\") \n",
    "#sns.boxplot(y= \"relationship\", data=dataset_mat, orient='v' , ax=ax[1][1], palette=\"Blues\") \n",
    "#sns.boxplot(y= \"race\", data=dataset_mat, orient='v' , ax=ax[2][2], palette=\"Reds\") \n",
    "sns.boxplot(y= \"hours-per-week\", data=dataset_mat, orient='v' , ax=ax[2][0], palette=\"Purples\") \n",
    "#sns.boxplot(y= \"capital-gain\", data=dataset_mat, orient='v' , ax=ax[2][1], palette=\"Paired\") \n",
    "#sns.boxplot(y= \"capital-loss\", data=dataset_mat, orient='v' , ax=ax[2][2], palette=\"Blues\")\n",
    "#Estos graficos me permiten identicar las anomalias, aquellos puntos que quedan fuera del gráfico."
   ]
  },
  {
   "cell_type": "code",
   "execution_count": 35,
   "metadata": {},
   "outputs": [
    {
     "name": "stdout",
     "output_type": "stream",
     "text": [
      "<class 'pandas.core.frame.DataFrame'>\n",
      "Int64Index: 30162 entries, 0 to 32560\n",
      "Data columns (total 16 columns):\n",
      " #   Column          Non-Null Count  Dtype   \n",
      "---  ------          --------------  -----   \n",
      " 0   age             30162 non-null  int64   \n",
      " 1   workclass       30162 non-null  int32   \n",
      " 2   fnlwgt          30162 non-null  int64   \n",
      " 3   education       30162 non-null  int32   \n",
      " 4   education-num   30162 non-null  int64   \n",
      " 5   marital-status  30162 non-null  int32   \n",
      " 6   occupation      30162 non-null  int32   \n",
      " 7   relationship    30162 non-null  int32   \n",
      " 8   race            30162 non-null  int32   \n",
      " 9   sex             30162 non-null  int32   \n",
      " 10  capital-gain    30162 non-null  int64   \n",
      " 11  capital-loss    30162 non-null  int64   \n",
      " 12  hours-per-week  30162 non-null  int64   \n",
      " 13  native-country  30162 non-null  int32   \n",
      " 14  salary          30162 non-null  int32   \n",
      " 15  HorasGrupo      30162 non-null  category\n",
      "dtypes: category(1), int32(9), int64(6)\n",
      "memory usage: 2.7 MB\n"
     ]
    }
   ],
   "source": [
    "dataset_mat.info()"
   ]
  },
  {
   "cell_type": "markdown",
   "metadata": {},
   "source": [
    "# 3. EDA (bivariante)"
   ]
  },
  {
   "cell_type": "code",
   "execution_count": 36,
   "metadata": {
    "scrolled": true
   },
   "outputs": [
    {
     "data": {
      "image/png": "[encoded data removed]",
      "text/plain": [
       "<Figure size 360x360 with 1 Axes>"
      ]
     },
     "metadata": {
      "needs_background": "light"
     },
     "output_type": "display_data"
    }
   ],
   "source": [
    "# Boxplot de dos categorias\n",
    "f,ax = plt.subplots(figsize=(5,5)) \n",
    "sns.boxplot(x=\"sex\",y=\"education\", hue=\"salary\",data=dataset_mat, palette=\"Set1\") \n",
    "plt.show()"
   ]
  },
  {
   "cell_type": "code",
   "execution_count": 37,
   "metadata": {},
   "outputs": [
    {
     "data": {
      "text/html": [
       "<div>\n",
       "<style scoped>\n",
       "    .dataframe tbody tr th:only-of-type {\n",
       "        vertical-align: middle;\n",
       "    }\n",
       "\n",
       "    .dataframe tbody tr th {\n",
       "        vertical-align: top;\n",
       "    }\n",
       "\n",
       "    .dataframe thead th {\n",
       "        text-align: right;\n",
       "    }\n",
       "</style>\n",
       "<table border=\"1\" class=\"dataframe\">\n",
       "  <thead>\n",
       "    <tr style=\"text-align: right;\">\n",
       "      <th></th>\n",
       "      <th>education</th>\n",
       "      <th>salary</th>\n",
       "    </tr>\n",
       "  </thead>\n",
       "  <tbody>\n",
       "    <tr>\n",
       "      <th>0</th>\n",
       "      <td>0</td>\n",
       "      <td>2</td>\n",
       "    </tr>\n",
       "    <tr>\n",
       "      <th>1</th>\n",
       "      <td>1</td>\n",
       "      <td>2</td>\n",
       "    </tr>\n",
       "    <tr>\n",
       "      <th>2</th>\n",
       "      <td>2</td>\n",
       "      <td>2</td>\n",
       "    </tr>\n",
       "    <tr>\n",
       "      <th>3</th>\n",
       "      <td>3</td>\n",
       "      <td>2</td>\n",
       "    </tr>\n",
       "    <tr>\n",
       "      <th>4</th>\n",
       "      <td>4</td>\n",
       "      <td>2</td>\n",
       "    </tr>\n",
       "    <tr>\n",
       "      <th>5</th>\n",
       "      <td>5</td>\n",
       "      <td>2</td>\n",
       "    </tr>\n",
       "    <tr>\n",
       "      <th>6</th>\n",
       "      <td>6</td>\n",
       "      <td>2</td>\n",
       "    </tr>\n",
       "    <tr>\n",
       "      <th>7</th>\n",
       "      <td>7</td>\n",
       "      <td>2</td>\n",
       "    </tr>\n",
       "    <tr>\n",
       "      <th>8</th>\n",
       "      <td>8</td>\n",
       "      <td>2</td>\n",
       "    </tr>\n",
       "    <tr>\n",
       "      <th>9</th>\n",
       "      <td>9</td>\n",
       "      <td>2</td>\n",
       "    </tr>\n",
       "    <tr>\n",
       "      <th>10</th>\n",
       "      <td>10</td>\n",
       "      <td>2</td>\n",
       "    </tr>\n",
       "    <tr>\n",
       "      <th>11</th>\n",
       "      <td>11</td>\n",
       "      <td>2</td>\n",
       "    </tr>\n",
       "    <tr>\n",
       "      <th>12</th>\n",
       "      <td>12</td>\n",
       "      <td>2</td>\n",
       "    </tr>\n",
       "    <tr>\n",
       "      <th>13</th>\n",
       "      <td>13</td>\n",
       "      <td>1</td>\n",
       "    </tr>\n",
       "    <tr>\n",
       "      <th>14</th>\n",
       "      <td>14</td>\n",
       "      <td>2</td>\n",
       "    </tr>\n",
       "    <tr>\n",
       "      <th>15</th>\n",
       "      <td>15</td>\n",
       "      <td>2</td>\n",
       "    </tr>\n",
       "  </tbody>\n",
       "</table>\n",
       "</div>"
      ],
      "text/plain": [
       "    education  salary\n",
       "0           0       2\n",
       "1           1       2\n",
       "2           2       2\n",
       "3           3       2\n",
       "4           4       2\n",
       "5           5       2\n",
       "6           6       2\n",
       "7           7       2\n",
       "8           8       2\n",
       "9           9       2\n",
       "10         10       2\n",
       "11         11       2\n",
       "12         12       2\n",
       "13         13       1\n",
       "14         14       2\n",
       "15         15       2"
      ]
     },
     "execution_count": 37,
     "metadata": {},
     "output_type": "execute_result"
    }
   ],
   "source": [
    "dataset_mat.groupby('education').salary.nunique().reset_index()"
   ]
  },
  {
   "cell_type": "code",
   "execution_count": 38,
   "metadata": {},
   "outputs": [],
   "source": [
    "# se importa para evaluar la variables categoricas no ordinales-\n",
    "from statsmodels.stats.multicomp import pairwise_tukeyhsd\n",
    "import statsmodels.stats.multicomp as multi"
   ]
  },
  {
   "cell_type": "code",
   "execution_count": 39,
   "metadata": {},
   "outputs": [
    {
     "name": "stdout",
     "output_type": "stream",
     "text": [
      "Influencia de educacion en tipo de salario\n",
      "Multiple Comparison of Means - Tukey HSD, FWER=0.05 \n",
      "====================================================\n",
      "group1 group2 meandiff p-adj   lower   upper  reject\n",
      "----------------------------------------------------\n",
      "     0      1  -0.0157    0.9 -0.0799  0.0486  False\n",
      "     0      2    0.005    0.9 -0.0808  0.0907  False\n",
      "     0      3  -0.0322    0.9 -0.1543  0.0898  False\n",
      "     0      4  -0.0303    0.9 -0.1247  0.0641  False\n",
      "     0      5  -0.0091    0.9 -0.0848  0.0666  False\n",
      "     0      6   -0.017    0.9 -0.0976  0.0636  False\n",
      "     0      7    0.182  0.001  0.1172  0.2468   True\n",
      "     0      8   0.1912  0.001  0.1298  0.2527   True\n",
      "     0      9   0.3495  0.001  0.2976  0.4014   True\n",
      "     0     10   0.6747  0.001  0.5888  0.7606   True\n",
      "     0     11   0.0924  0.001  0.0423  0.1425   True\n",
      "     0     12   0.4923  0.001  0.4332  0.5513   True\n",
      "     0     13   -0.072    0.9  -0.283  0.1391  False\n",
      "     0     14   0.6771  0.001  0.6008  0.7534   True\n",
      "     0     15   0.1281  0.001  0.0771  0.1791   True\n",
      "     1      2   0.0206    0.9 -0.0622  0.1034  False\n",
      "     1      3  -0.0166    0.9 -0.1365  0.1034  False\n",
      "     1      4  -0.0146    0.9 -0.1063  0.0771  False\n",
      "     1      5   0.0065    0.9 -0.0657  0.0788  False\n",
      "     1      6  -0.0014    0.9 -0.0787   0.076  False\n",
      "     1      7   0.1977  0.001  0.1369  0.2585   True\n",
      "     1      8   0.2069  0.001  0.1497  0.2641   True\n",
      "     1      9   0.3652  0.001  0.3184   0.412   True\n",
      "     1     10   0.6904  0.001  0.6074  0.7733   True\n",
      "     1     11    0.108  0.001  0.0632  0.1528   True\n",
      "     1     12   0.5079  0.001  0.4533  0.5625   True\n",
      "     1     13  -0.0563    0.9 -0.2661  0.1535  False\n",
      "     1     14   0.6928  0.001  0.6199  0.7657   True\n",
      "     1     15   0.1438  0.001   0.098  0.1896   True\n",
      "     2      3  -0.0372    0.9 -0.1699  0.0956  False\n",
      "     2      4  -0.0353    0.9 -0.1431  0.0726  False\n",
      "     2      5  -0.0141    0.9  -0.106  0.0778  False\n",
      "     2      6   -0.022    0.9  -0.118   0.074  False\n",
      "     2      7    0.177  0.001  0.0938  0.2603   True\n",
      "     2      8   0.1863  0.001  0.1057  0.2669   True\n",
      "     2      9   0.3446  0.001   0.271  0.4182   True\n",
      "     2     10   0.6697  0.001  0.5692  0.7703   True\n",
      "     2     11   0.0874 0.0036  0.0151  0.1597   True\n",
      "     2     12   0.4873  0.001  0.4085  0.5661   True\n",
      "     2     13  -0.0769    0.9 -0.2943  0.1405  False\n",
      "     2     14   0.6722  0.001  0.5797  0.7646   True\n",
      "     2     15   0.1231  0.001  0.0502  0.1961   True\n",
      "     3      4   0.0019    0.9 -0.1366  0.1404  False\n",
      "     3      5   0.0231    0.9 -0.1034  0.1496  False\n",
      "     3      6   0.0152    0.9 -0.1142  0.1447  False\n",
      "     3      7   0.2142  0.001   0.094  0.3345   True\n",
      "     3      8   0.2235  0.001   0.105  0.3419   True\n",
      "     3      9   0.3818  0.001  0.2679  0.4956   True\n",
      "     3     10   0.7069  0.001  0.5741  0.8398   True\n",
      "     3     11   0.1246  0.015  0.0116  0.2376   True\n",
      "     3     12   0.5245  0.001  0.4072  0.6418   True\n",
      "     3     13  -0.0397    0.9 -0.2738  0.1944  False\n",
      "     3     14   0.7093  0.001  0.5825  0.8362   True\n",
      "     3     15   0.1603  0.001  0.0469  0.2738   True\n",
      "     4      5   0.0212    0.9 -0.0789  0.1212  False\n",
      "     4      6   0.0133    0.9 -0.0905  0.1171  False\n",
      "     4      7   0.2123  0.001  0.1202  0.3044   True\n",
      "     4      8   0.2215  0.001  0.1318  0.3113   True\n",
      "     4      9   0.3798  0.001  0.2963  0.4633   True\n",
      "     4     10    0.705  0.001   0.597   0.813   True\n",
      "     4     11   0.1227  0.001  0.0403  0.2051   True\n",
      "     4     12   0.5226  0.001  0.4344  0.6107   True\n",
      "     4     13  -0.0417    0.9 -0.2626  0.1793  False\n",
      "     4     14   0.7074  0.001  0.6069  0.8079   True\n",
      "     4     15   0.1584  0.001  0.0754  0.2413   True\n",
      "     5      6  -0.0079    0.9  -0.095  0.0792  False\n",
      "     5      7   0.1911  0.001  0.1184  0.2639   True\n",
      "     5      8   0.2004  0.001  0.1306  0.2701   True\n",
      "     5      9   0.3587  0.001  0.2971  0.4202   True\n",
      "     5     10   0.6838  0.001  0.5918  0.7759   True\n",
      "     5     11   0.1015  0.001  0.0415  0.1615   True\n",
      "     5     12   0.5014  0.001  0.4337  0.5691   True\n",
      "     5     13  -0.0628    0.9 -0.2764  0.1508  False\n",
      "     5     14   0.6862  0.001  0.6031  0.7694   True\n",
      "     5     15   0.1372  0.001  0.0764   0.198   True\n",
      "     6      7    0.199  0.001  0.1212  0.2769   True\n",
      "     6      8   0.2083  0.001  0.1332  0.2833   True\n",
      "     6      9   0.3665  0.001  0.2991   0.434   True\n",
      "     6     10   0.6917  0.001  0.5956  0.7879   True\n",
      "     6     11   0.1094  0.001  0.0433  0.1755   True\n",
      "     6     12   0.5093  0.001  0.4362  0.5824   True\n",
      "     6     13  -0.0549    0.9 -0.2703  0.1604  False\n",
      "     6     14   0.6941  0.001  0.6065  0.7818   True\n",
      "     6     15   0.1451  0.001  0.0783  0.2119   True\n",
      "     7      8   0.0092    0.9 -0.0485   0.067  False\n",
      "     7      9   0.1675  0.001    0.12  0.2151   True\n",
      "     7     10   0.4927  0.001  0.4093  0.5761   True\n",
      "     7     11  -0.0896  0.001 -0.1352 -0.0441   True\n",
      "     7     12   0.3103  0.001   0.255  0.3655   True\n",
      "     7     13   -0.254 0.0036  -0.464  -0.044   True\n",
      "     7     14   0.4951  0.001  0.4217  0.5685   True\n",
      "     7     15  -0.0539 0.0073 -0.1005 -0.0073   True\n",
      "     8      9   0.1583  0.001  0.1155  0.2011   True\n",
      "     8     10   0.4835  0.001  0.4027  0.5642   True\n",
      "     8     11  -0.0989  0.001 -0.1394 -0.0583   True\n",
      "     8     12    0.301  0.001  0.2498  0.3522   True\n",
      "     8     13  -0.2632 0.0017 -0.4722 -0.0542   True\n",
      "     8     14   0.4859  0.001  0.4155  0.5563   True\n",
      "     8     15  -0.0631  0.001 -0.1048 -0.0214   True\n",
      "     9     10   0.3252  0.001  0.2514   0.399   True\n",
      "     9     11  -0.2572  0.001  -0.281 -0.2333   True\n",
      "     9     12   0.1427  0.001  0.1034   0.182   True\n",
      "     9     13  -0.4215  0.001 -0.6279 -0.2151   True\n",
      "     9     14   0.3276  0.001  0.2653  0.3899   True\n",
      "     9     15  -0.2214  0.001 -0.2471 -0.1957   True\n",
      "    10     11  -0.5823  0.001 -0.6549 -0.5098   True\n",
      "    10     12  -0.1824  0.001 -0.2614 -0.1035   True\n",
      "    10     13  -0.7467  0.001 -0.9641 -0.5292   True\n",
      "    10     14   0.0024    0.9 -0.0902   0.095  False\n",
      "    10     15  -0.5466  0.001 -0.6198 -0.4735   True\n",
      "    11     12   0.3999  0.001   0.363  0.4368   True\n",
      "    11     13  -0.1643  0.309 -0.3703  0.0416  False\n",
      "    11     14   0.5847  0.001  0.5239  0.6456   True\n",
      "    11     15   0.0357  0.001  0.0139  0.0576   True\n",
      "    12     13  -0.5642  0.001 -0.7725 -0.3559   True\n",
      "    12     14   0.1848  0.001  0.1165  0.2532   True\n",
      "    12     15  -0.3642  0.001 -0.4023 -0.3261   True\n",
      "    13     14   0.7491  0.001  0.5352  0.9629   True\n",
      "    13     15   0.2001  0.069 -0.0061  0.4062  False\n",
      "    14     15   -0.549  0.001 -0.6106 -0.4875   True\n",
      "----------------------------------------------------\n"
     ]
    }
   ],
   "source": [
    "# Cuales pueden influir en el tipo de salario.\n",
    "# 'workclass', \"education\", \"education-num\", \"marital-status\",\"occupation\",\"relationship\",\"race\"\n",
    "\n",
    "# Influencia education\n",
    "x = dataset_mat['education']\n",
    "y = dataset_mat['salary']\n",
    "\n",
    "mcDate = multi.MultiComparison (y,x)\n",
    "Results = mcDate.tukeyhsd()\n",
    "print(\"Influencia de educacion en tipo de salario\")\n",
    "print (Results)  # Por lo que se aprecia hay varias lineas en true donde se rechaza la hipotesis, debe existir alguna influencia"
   ]
  },
  {
   "cell_type": "code",
   "execution_count": 40,
   "metadata": {
    "scrolled": true
   },
   "outputs": [
    {
     "name": "stdout",
     "output_type": "stream",
     "text": [
      "Influencia de tipo de trabajo en tipo de salario\n",
      "Multiple Comparison of Means - Tukey HSD, FWER=0.05 \n",
      "====================================================\n",
      "group1 group2 meandiff p-adj   lower   upper  reject\n",
      "----------------------------------------------------\n",
      "     0      1  -0.0924  0.001 -0.1419  -0.043   True\n",
      "     0      2  -0.1683  0.001 -0.2101 -0.1264   True\n",
      "     0      3   0.1716  0.001  0.1155  0.2277   True\n",
      "     0      4  -0.1013  0.001 -0.1494 -0.0533   True\n",
      "     0      5  -0.1181  0.001 -0.1721 -0.0641   True\n",
      "     0      6  -0.3871 0.0133 -0.7257 -0.0484   True\n",
      "     1      2  -0.0758  0.001 -0.1048 -0.0469   True\n",
      "     1      3    0.264  0.001  0.2167  0.3113   True\n",
      "     1      4  -0.0089    0.9 -0.0463  0.0285  False\n",
      "     1      5  -0.0257  0.605 -0.0704  0.0191  False\n",
      "     1      6  -0.2946 0.1332  -0.632  0.0427  False\n",
      "     2      3   0.3399  0.001  0.3006  0.3792   True\n",
      "     2      4   0.0669  0.001  0.0404  0.0935   True\n",
      "     2      5   0.0502  0.001   0.014  0.0863   True\n",
      "     2      6  -0.2188 0.4696 -0.5551  0.1175  False\n",
      "     3      4  -0.2729  0.001 -0.3188  -0.227   True\n",
      "     3      5  -0.2897  0.001 -0.3418 -0.2376   True\n",
      "     3      6  -0.5587  0.001  -0.897 -0.2203   True\n",
      "     4      5  -0.0168    0.9   -0.06  0.0265  False\n",
      "     4      6  -0.2857 0.1597 -0.6229  0.0514  False\n",
      "     5      6   -0.269 0.2222  -0.607  0.0691  False\n",
      "----------------------------------------------------\n"
     ]
    }
   ],
   "source": [
    "# Cuales pueden influir en el tipo de salario.\n",
    "\n",
    "# Influencia de tipo de trabajo\n",
    "x = dataset_mat['workclass']\n",
    "y = dataset_mat['salary']\n",
    "\n",
    "mcDate = multi.MultiComparison (y,x)\n",
    "Results = mcDate.tukeyhsd()\n",
    "print(\"Influencia de tipo de trabajo en tipo de salario\")\n",
    "print (Results)"
   ]
  },
  {
   "cell_type": "code",
   "execution_count": 41,
   "metadata": {},
   "outputs": [
    {
     "name": "stdout",
     "output_type": "stream",
     "text": [
      "Influencia de marital-status en tipo de salario\n",
      "Multiple Comparison of Means - Tukey HSD, FWER=0.05 \n",
      "====================================================\n",
      "group1 group2 meandiff p-adj   lower   upper  reject\n",
      "----------------------------------------------------\n",
      "     0      1   0.3689  0.001  0.1196  0.6183   True\n",
      "     0      2   0.3477  0.001  0.3277  0.3677   True\n",
      "     0      3  -0.0235    0.9 -0.0853  0.0383  False\n",
      "     0      4  -0.0589  0.001   -0.08 -0.0379   True\n",
      "     0      5   -0.037 0.1114 -0.0781  0.0042  False\n",
      "     0      6  -0.0105    0.9 -0.0539  0.0328  False\n",
      "     1      2  -0.0212    0.9 -0.2701  0.2277  False\n",
      "     1      3  -0.3924  0.001 -0.6481 -0.1367   True\n",
      "     1      4  -0.4279  0.001 -0.6768 -0.1789   True\n",
      "     1      5  -0.4059  0.001 -0.6574 -0.1544   True\n",
      "     1      6  -0.3795  0.001 -0.6313 -0.1276   True\n",
      "     2      3  -0.3712  0.001 -0.4312 -0.3111   True\n",
      "     2      4  -0.4066  0.001 -0.4217 -0.3916   True\n",
      "     2      5  -0.3847  0.001 -0.4231 -0.3463   True\n",
      "     2      6  -0.3582  0.001  -0.399 -0.3174   True\n",
      "     3      4  -0.0355 0.5811 -0.0958  0.0249  False\n",
      "     3      5  -0.0135    0.9 -0.0835  0.0565  False\n",
      "     3      6    0.013    0.9 -0.0583  0.0842  False\n",
      "     4      5    0.022 0.6218  -0.017  0.0609  False\n",
      "     4      6   0.0484 0.0098  0.0071  0.0897   True\n",
      "     5      6   0.0264 0.7559 -0.0279  0.0808  False\n",
      "----------------------------------------------------\n"
     ]
    }
   ],
   "source": [
    "# Cuales pueden influir en el tipo de salario.\n",
    "# 'workclass', \"education\", \"education-num\", \"marital-status\",\"occupation\",\"relationship\",\"race\"\n",
    "\n",
    "# Influencia education\n",
    "x = dataset_mat['marital-status']\n",
    "y = dataset_mat['salary']\n",
    "\n",
    "mcDate = multi.MultiComparison (y,x)\n",
    "Results = mcDate.tukeyhsd()\n",
    "print(\"Influencia de marital-status en tipo de salario\")\n",
    "print (Results)  # Por lo que se aprecia hay varias lineas en true donde se rechaza la hipotesis, debe existir alguna influencia"
   ]
  },
  {
   "cell_type": "code",
   "execution_count": 43,
   "metadata": {},
   "outputs": [
    {
     "name": "stdout",
     "output_type": "stream",
     "text": [
      "Influencia de occupation en tipo de salario\n",
      "Multiple Comparison of Means - Tukey HSD, FWER=0.05 \n",
      "====================================================\n",
      "group1 group2 meandiff p-adj   lower   upper  reject\n",
      "----------------------------------------------------\n",
      "     0      1  -0.0227    0.9 -0.4763  0.4308  False\n",
      "     0      2   0.0915  0.001  0.0606  0.1224   True\n",
      "     0      3   0.3514  0.001  0.3204  0.3824   True\n",
      "     0      4  -0.0176    0.9 -0.0662  0.0311  False\n",
      "     0      5  -0.0724  0.001 -0.1155 -0.0292   True\n",
      "     0      6  -0.0092    0.9 -0.0471  0.0287  False\n",
      "     0      7  -0.0927  0.001 -0.1255   -0.06   True\n",
      "     0      8  -0.1268 0.0171 -0.2427  -0.011   True\n",
      "     0      9   0.3147  0.001  0.2838  0.3455   True\n",
      "     0     10   0.1923  0.001  0.1342  0.2503   True\n",
      "     0     11   0.1368  0.001   0.105  0.1686   True\n",
      "     0     12    0.171  0.001  0.1208  0.2212   True\n",
      "     0     13   0.0691  0.001  0.0282    0.11   True\n",
      "     1      2   0.1142    0.9 -0.3393  0.5677  False\n",
      "     1      3   0.3741 0.2414 -0.0794  0.8276  False\n",
      "     1      4   0.0052    0.9 -0.4499  0.4602  False\n",
      "     1      5  -0.0496    0.9 -0.5041  0.4049  False\n",
      "     1      6   0.0135    0.9 -0.4405  0.4675  False\n",
      "     1      7    -0.07    0.9 -0.5237  0.3836  False\n",
      "     1      8  -0.1041    0.9 -0.5712  0.3629  False\n",
      "     1      9   0.3374 0.4155 -0.1161  0.7909  False\n",
      "     1     10    0.215    0.9 -0.2412  0.6711  False\n",
      "     1     11   0.1595    0.9  -0.294  0.6131  False\n",
      "     1     12   0.1937    0.9 -0.2615  0.6489  False\n",
      "     1     13   0.0918    0.9 -0.3625  0.5461  False\n",
      "     2      3   0.2599  0.001  0.2296  0.2903   True\n",
      "     2      4   -0.109  0.001 -0.1573 -0.0608   True\n",
      "     2      5  -0.1638  0.001 -0.2066 -0.1211   True\n",
      "     2      6  -0.1007  0.001 -0.1381 -0.0633   True\n",
      "     2      7  -0.1842  0.001 -0.2164 -0.1521   True\n",
      "     2      8  -0.2183  0.001  -0.334 -0.1027   True\n",
      "     2      9   0.2232  0.001  0.1929  0.2534   True\n",
      "     2     10   0.1008  0.001  0.0431  0.1584   True\n",
      "     2     11   0.0453  0.001  0.0141  0.0765   True\n",
      "     2     12   0.0795  0.001  0.0297  0.1293   True\n",
      "     2     13  -0.0224 0.8296 -0.0628   0.018  False\n",
      "     3      4  -0.3689  0.001 -0.4172 -0.3207   True\n",
      "     3      5  -0.4237  0.001 -0.4665  -0.381   True\n",
      "     3      6  -0.3606  0.001  -0.398 -0.3232   True\n",
      "     3      7  -0.4441  0.001 -0.4763 -0.4119   True\n",
      "     3      8  -0.4782  0.001 -0.5939 -0.3626   True\n",
      "     3      9  -0.0367 0.0039 -0.0671 -0.0064   True\n",
      "     3     10  -0.1591  0.001 -0.2168 -0.1014   True\n",
      "     3     11  -0.2146  0.001 -0.2458 -0.1833   True\n",
      "     3     12  -0.1804  0.001 -0.2303 -0.1305   True\n",
      "     3     13  -0.2823  0.001 -0.3228 -0.2418   True\n",
      "     4      5  -0.0548 0.0732 -0.1117  0.0021  False\n",
      "     4      6   0.0083    0.9 -0.0446  0.0613  False\n",
      "     4      7  -0.0752  0.001 -0.1246 -0.0258   True\n",
      "     4      8  -0.1093 0.1323 -0.2309  0.0123  False\n",
      "     4      9   0.3322  0.001   0.284  0.3804   True\n",
      "     4     10   0.2098  0.001   0.141  0.2786   True\n",
      "     4     11   0.1544  0.001  0.1056  0.2032   True\n",
      "     4     12   0.1885  0.001  0.1262  0.2509   True\n",
      "     4     13   0.0866  0.001  0.0315  0.1418   True\n",
      "     5      6   0.0631  0.001  0.0151  0.1112   True\n",
      "     5      7  -0.0204    0.9 -0.0645  0.0237  False\n",
      "     5      8  -0.0545    0.9  -0.174   0.065  False\n",
      "     5      9    0.387  0.001  0.3443  0.4297   True\n",
      "     5     10   0.2646  0.001  0.1995  0.3297   True\n",
      "     5     11   0.2092  0.001  0.1658  0.2526   True\n",
      "     5     12   0.2433  0.001  0.1851  0.3016   True\n",
      "     5     13   0.1414  0.001   0.091  0.1919   True\n",
      "     6      7  -0.0835  0.001 -0.1224 -0.0446   True\n",
      "     6      8  -0.1176 0.0504 -0.2353  0.0001  False\n",
      "     6      9   0.3239  0.001  0.2865  0.3612   True\n",
      "     6     10   0.2015  0.001  0.1398  0.2632   True\n",
      "     6     11    0.146  0.001  0.1079  0.1842   True\n",
      "     6     12   0.1802  0.001  0.1258  0.2347   True\n",
      "     6     13   0.0783  0.001  0.0323  0.1243   True\n",
      "     7      8  -0.0341    0.9 -0.1503   0.082  False\n",
      "     7      9   0.4074  0.001  0.3753  0.4395   True\n",
      "     7     10    0.285  0.001  0.2263  0.3437   True\n",
      "     7     11   0.2296  0.001  0.1965  0.2626   True\n",
      "     7     12   0.2637  0.001  0.2127  0.3147   True\n",
      "     7     13   0.1618  0.001    0.12  0.2037   True\n",
      "     8      9   0.4415  0.001  0.3259  0.5571   True\n",
      "     8     10   0.3191  0.001  0.1935  0.4447   True\n",
      "     8     11   0.2637  0.001  0.1478  0.3795   True\n",
      "     8     12   0.2978  0.001  0.1756  0.4201   True\n",
      "     8     13   0.1959  0.001  0.0772  0.3146   True\n",
      "     9     10  -0.1224  0.001 -0.1801 -0.0647   True\n",
      "     9     11  -0.1778  0.001  -0.209 -0.1467   True\n",
      "     9     12  -0.1437  0.001 -0.1935 -0.0938   True\n",
      "     9     13  -0.2456  0.001  -0.286 -0.2052   True\n",
      "    10     11  -0.0554 0.0809 -0.1136  0.0027  False\n",
      "    10     12  -0.0213    0.9 -0.0912  0.0487  False\n",
      "    10     13  -0.1232  0.001 -0.1867 -0.0596   True\n",
      "    11     12   0.0342 0.5634 -0.0162  0.0846  False\n",
      "    11     13  -0.0677  0.001 -0.1088 -0.0266   True\n",
      "    12     13  -0.1019  0.001 -0.1585 -0.0453   True\n",
      "----------------------------------------------------\n"
     ]
    }
   ],
   "source": [
    "# Cuales pueden influir en el tipo de salario.\n",
    "# 'workclass', \"education\", \"education-num\", \"marital-status\",\"occupation\",\"relationship\",\"race\"\n",
    "\n",
    "# Influencia occupation\n",
    "x = dataset_mat['occupation']\n",
    "y = dataset_mat['salary']\n",
    "\n",
    "mcDate = multi.MultiComparison (y,x)\n",
    "Results = mcDate.tukeyhsd()\n",
    "print(\"Influencia de occupation en tipo de salario\")\n",
    "print (Results)  # Por lo que se aprecia hay varias lineas en true donde se rechaza la hipotesis, debe existir alguna influencia"
   ]
  },
  {
   "cell_type": "code",
   "execution_count": 42,
   "metadata": {},
   "outputs": [
    {
     "name": "stdout",
     "output_type": "stream",
     "text": [
      "Influencia de relationship en tipo de salario\n",
      "Multiple Comparison of Means - Tukey HSD, FWER=0.05 \n",
      "====================================================\n",
      "group1 group2 meandiff p-adj   lower   upper  reject\n",
      "----------------------------------------------------\n",
      "     0      1  -0.3491  0.001  -0.365 -0.3333   True\n",
      "     0      2  -0.4163  0.001 -0.4544 -0.3782   True\n",
      "     0      3  -0.4413  0.001 -0.4605 -0.4222   True\n",
      "     0      4  -0.3894  0.001 -0.4111 -0.3676   True\n",
      "     0      5   0.0379 0.0062   0.007  0.0688   True\n",
      "     1      2  -0.0672  0.001  -0.106 -0.0283   True\n",
      "     1      3  -0.0922  0.001 -0.1128 -0.0716   True\n",
      "     1      4  -0.0402  0.001 -0.0633 -0.0172   True\n",
      "     1      5   0.3871  0.001  0.3552  0.4189   True\n",
      "     2      3   -0.025 0.4857 -0.0654  0.0153  False\n",
      "     2      4   0.0269 0.4381 -0.0147  0.0685  False\n",
      "     2      5   0.4542  0.001  0.4072  0.5013   True\n",
      "     3      4    0.052  0.001  0.0266  0.0774   True\n",
      "     3      5   0.4793  0.001  0.4457  0.5128   True\n",
      "     4      5   0.4273  0.001  0.3922  0.4624   True\n",
      "----------------------------------------------------\n"
     ]
    }
   ],
   "source": [
    "# Cuales pueden influir en el tipo de salario.\n",
    "# No se va usar\n",
    "# 'workclass', \"education\", \"education-num\", \"marital-status\",\"occupation\",\"relationship\",\"race\"\n",
    "\n",
    "# Influencia relationship\n",
    "x = dataset_mat['relationship']\n",
    "y = dataset_mat['salary']\n",
    "\n",
    "mcDate = multi.MultiComparison (y,x)\n",
    "Results = mcDate.tukeyhsd()\n",
    "print(\"Influencia de relationship en tipo de salario\")\n",
    "print (Results)  # Por lo que se aprecia hay varias lineas en true donde se rechaza la hipotesis, debe existir alguna influencia"
   ]
  },
  {
   "cell_type": "code",
   "execution_count": 43,
   "metadata": {},
   "outputs": [
    {
     "name": "stdout",
     "output_type": "stream",
     "text": [
      "Influencia de race en tipo de salario\n",
      "Multiple Comparison of Means - Tukey HSD, FWER=0.05 \n",
      "====================================================\n",
      "group1 group2 meandiff p-adj   lower   upper  reject\n",
      "----------------------------------------------------\n",
      "     0      1   0.1582  0.001  0.0785  0.2379   True\n",
      "     0      2    0.011    0.9 -0.0618  0.0839  False\n",
      "     0      3   -0.028    0.9 -0.1318  0.0759  False\n",
      "     0      4   0.1448  0.001  0.0751  0.2146   True\n",
      "     1      2  -0.1472  0.001 -0.1922 -0.1021   True\n",
      "     1      3  -0.1862  0.001 -0.2728 -0.0996   True\n",
      "     1      4  -0.0134 0.8863 -0.0533  0.0265  False\n",
      "     2      3   -0.039 0.6534 -0.1193  0.0413  False\n",
      "     2      4   0.1338  0.001  0.1105  0.1571   True\n",
      "     3      4   0.1728  0.001  0.0952  0.2504   True\n",
      "----------------------------------------------------\n"
     ]
    }
   ],
   "source": [
    "# Cuales pueden influir en el tipo de salario.\n",
    "# No se va a usar\n",
    "# 'workclass', \"education\", \"education-num\", \"marital-status\",\"occupation\",\"relationship\",\"race\"\n",
    "\n",
    "# Influencia race\n",
    "x = dataset_mat['race']\n",
    "y = dataset_mat['salary']\n",
    "\n",
    "mcDate = multi.MultiComparison (y,x)\n",
    "Results = mcDate.tukeyhsd()\n",
    "print(\"Influencia de race en tipo de salario\")\n",
    "print (Results)  # Por lo que se aprecia hay varias lineas en true donde se rechaza la hipotesis, debe existir alguna influencia"
   ]
  },
  {
   "cell_type": "markdown",
   "metadata": {},
   "source": [
    "# 4. Selección de variables para el modelo"
   ]
  },
  {
   "cell_type": "code",
   "execution_count": 44,
   "metadata": {},
   "outputs": [
    {
     "data": {
      "text/plain": [
       "['age',\n",
       " 'workclass',\n",
       " 'education',\n",
       " 'marital-status',\n",
       " 'occupation',\n",
       " 'hours-per-week',\n",
       " 'native-country']"
      ]
     },
     "execution_count": 44,
     "metadata": {},
     "output_type": "execute_result"
    }
   ],
   "source": [
    "# Las que influyan en el tipo de salario.\n",
    "# Numericas y categoricas ordinales sin influyen en la calificación final o salida\n",
    "# Se tomara las multiclase, porque parece  influir.\n",
    "#'sex',\n",
    "\n",
    "# seleccionar automaticamente las variables. Se pudo haber hecho manual. #,\n",
    "list_cat_corrs = ['age','workclass', 'education', 'marital-status', 'occupation',\n",
    "                   'hours-per-week', 'native-country', 'salary'] \n",
    "df_ordinal = dataset_mat[list_cat_corrs].corr()['salary'].reset_index().rename(columns={'index':'variable'})\n",
    "df_ordinal = df_ordinal[~df_ordinal['variable'].isin(['salary'])] # El rabo de chancho niega, como un not\n",
    "#df_ordinal = df_ordinal[abs(df_ordinal['salary'])>0.21]  # Variables que tenga correlación significativamente alta > 0.21\n",
    "df_ordinal\n",
    "list_ordinal_chosen = list(df_ordinal['variable'].values)\n",
    "list_ordinal_chosen"
   ]
  },
  {
   "cell_type": "code",
   "execution_count": 45,
   "metadata": {},
   "outputs": [
    {
     "data": {
      "text/plain": [
       "['sex']"
      ]
     },
     "execution_count": 45,
     "metadata": {},
     "output_type": "execute_result"
    }
   ],
   "source": [
    "# seleccionar las variables binarias\n",
    "df_binary = pd.DataFrame()\n",
    "list_binary = ['sex']\n",
    "\n",
    "# Se itera pr las columnas, obteniendo el contraste de hipotesis con salary y solo nos quedaremos con aquellas que rechacen la \n",
    "# hipotesis nula. Que este debajo del umbral Threshold\n",
    "\n",
    "threshold = 0.05\n",
    "\n",
    "for column in list_binary:\n",
    "    pvalue = stats.f_oneway(dataset_mat[dataset_mat[column]==0][\"salary\"],\n",
    "                           dataset_mat[dataset_mat[column]==1][\"salary\"])[1] #Segunda posición de la lista el pvalue\n",
    "    \n",
    "    df_binary = df_binary.append(pd.DataFrame({'variable':[column],\n",
    "                                              'pvalue':[pvalue]}))\n",
    "    \n",
    "df_binary = df_binary[df_binary['pvalue']<=threshold]\n",
    "list_binary_chosen = list(df_binary['variable'].values)\n",
    "    \n",
    "df_binary\n",
    "list_binary_chosen"
   ]
  },
  {
   "cell_type": "code",
   "execution_count": 46,
   "metadata": {},
   "outputs": [
    {
     "data": {
      "text/plain": [
       "['age',\n",
       " 'workclass',\n",
       " 'education',\n",
       " 'marital-status',\n",
       " 'occupation',\n",
       " 'hours-per-week',\n",
       " 'native-country',\n",
       " 'sex']"
      ]
     },
     "execution_count": 46,
     "metadata": {},
     "output_type": "execute_result"
    }
   ],
   "source": [
    "list_all_chosen = list_ordinal_chosen + list_binary_chosen \n",
    "list_all_chosen"
   ]
  },
  {
   "cell_type": "markdown",
   "metadata": {},
   "source": [
    "# 5. Construcción del modelo"
   ]
  },
  {
   "cell_type": "code",
   "execution_count": 49,
   "metadata": {},
   "outputs": [
    {
     "data": {
      "text/html": [
       "<div>\n",
       "<style scoped>\n",
       "    .dataframe tbody tr th:only-of-type {\n",
       "        vertical-align: middle;\n",
       "    }\n",
       "\n",
       "    .dataframe tbody tr th {\n",
       "        vertical-align: top;\n",
       "    }\n",
       "\n",
       "    .dataframe thead th {\n",
       "        text-align: right;\n",
       "    }\n",
       "</style>\n",
       "<table border=\"1\" class=\"dataframe\">\n",
       "  <thead>\n",
       "    <tr style=\"text-align: right;\">\n",
       "      <th></th>\n",
       "      <th>age</th>\n",
       "      <th>workclass</th>\n",
       "      <th>education</th>\n",
       "      <th>marital-status</th>\n",
       "      <th>occupation</th>\n",
       "      <th>hours-per-week</th>\n",
       "      <th>native-country</th>\n",
       "      <th>sex</th>\n",
       "      <th>salary</th>\n",
       "    </tr>\n",
       "  </thead>\n",
       "  <tbody>\n",
       "    <tr>\n",
       "      <th>0</th>\n",
       "      <td>39</td>\n",
       "      <td>5</td>\n",
       "      <td>9</td>\n",
       "      <td>4</td>\n",
       "      <td>0</td>\n",
       "      <td>40</td>\n",
       "      <td>38</td>\n",
       "      <td>1</td>\n",
       "      <td>0</td>\n",
       "    </tr>\n",
       "    <tr>\n",
       "      <th>1</th>\n",
       "      <td>50</td>\n",
       "      <td>4</td>\n",
       "      <td>9</td>\n",
       "      <td>2</td>\n",
       "      <td>3</td>\n",
       "      <td>13</td>\n",
       "      <td>38</td>\n",
       "      <td>1</td>\n",
       "      <td>0</td>\n",
       "    </tr>\n",
       "    <tr>\n",
       "      <th>2</th>\n",
       "      <td>38</td>\n",
       "      <td>2</td>\n",
       "      <td>11</td>\n",
       "      <td>0</td>\n",
       "      <td>5</td>\n",
       "      <td>40</td>\n",
       "      <td>38</td>\n",
       "      <td>1</td>\n",
       "      <td>0</td>\n",
       "    </tr>\n",
       "    <tr>\n",
       "      <th>3</th>\n",
       "      <td>53</td>\n",
       "      <td>2</td>\n",
       "      <td>1</td>\n",
       "      <td>2</td>\n",
       "      <td>5</td>\n",
       "      <td>40</td>\n",
       "      <td>38</td>\n",
       "      <td>1</td>\n",
       "      <td>0</td>\n",
       "    </tr>\n",
       "    <tr>\n",
       "      <th>4</th>\n",
       "      <td>28</td>\n",
       "      <td>2</td>\n",
       "      <td>9</td>\n",
       "      <td>2</td>\n",
       "      <td>9</td>\n",
       "      <td>40</td>\n",
       "      <td>4</td>\n",
       "      <td>0</td>\n",
       "      <td>0</td>\n",
       "    </tr>\n",
       "  </tbody>\n",
       "</table>\n",
       "</div>"
      ],
      "text/plain": [
       "   age  workclass  education  marital-status  occupation  hours-per-week  \\\n",
       "0   39          5          9               4           0              40   \n",
       "1   50          4          9               2           3              13   \n",
       "2   38          2         11               0           5              40   \n",
       "3   53          2          1               2           5              40   \n",
       "4   28          2          9               2           9              40   \n",
       "\n",
       "   native-country  sex  salary  \n",
       "0              38    1       0  \n",
       "1              38    1       0  \n",
       "2              38    1       0  \n",
       "3              38    1       0  \n",
       "4               4    0       0  "
      ]
     },
     "execution_count": 49,
     "metadata": {},
     "output_type": "execute_result"
    }
   ],
   "source": [
    "df_mat = dataset_mat[list_all_chosen + ['salary']] # salary es la variable de salida.. A predecir\n",
    "df_mat.head()\n",
    "#df_test = dataset_test[list_all_chosen + ['salary']] # salary es la variable de salida.. A predecir\n",
    "#df_test.head()"
   ]
  },
  {
   "cell_type": "code",
   "execution_count": 50,
   "metadata": {},
   "outputs": [
    {
     "data": {
      "text/html": [
       "<div>\n",
       "<style scoped>\n",
       "    .dataframe tbody tr th:only-of-type {\n",
       "        vertical-align: middle;\n",
       "    }\n",
       "\n",
       "    .dataframe tbody tr th {\n",
       "        vertical-align: top;\n",
       "    }\n",
       "\n",
       "    .dataframe thead th {\n",
       "        text-align: right;\n",
       "    }\n",
       "</style>\n",
       "<table border=\"1\" class=\"dataframe\">\n",
       "  <thead>\n",
       "    <tr style=\"text-align: right;\">\n",
       "      <th></th>\n",
       "      <th>age</th>\n",
       "      <th>hours-per-week</th>\n",
       "      <th>sex</th>\n",
       "      <th>salary</th>\n",
       "      <th>workclass_1</th>\n",
       "      <th>workclass_2</th>\n",
       "      <th>workclass_3</th>\n",
       "      <th>workclass_4</th>\n",
       "      <th>workclass_5</th>\n",
       "      <th>workclass_6</th>\n",
       "      <th>...</th>\n",
       "      <th>native-country_31</th>\n",
       "      <th>native-country_32</th>\n",
       "      <th>native-country_33</th>\n",
       "      <th>native-country_34</th>\n",
       "      <th>native-country_35</th>\n",
       "      <th>native-country_36</th>\n",
       "      <th>native-country_37</th>\n",
       "      <th>native-country_38</th>\n",
       "      <th>native-country_39</th>\n",
       "      <th>native-country_40</th>\n",
       "    </tr>\n",
       "  </thead>\n",
       "  <tbody>\n",
       "    <tr>\n",
       "      <th>0</th>\n",
       "      <td>39</td>\n",
       "      <td>40</td>\n",
       "      <td>1</td>\n",
       "      <td>0</td>\n",
       "      <td>0</td>\n",
       "      <td>0</td>\n",
       "      <td>0</td>\n",
       "      <td>0</td>\n",
       "      <td>1</td>\n",
       "      <td>0</td>\n",
       "      <td>...</td>\n",
       "      <td>0</td>\n",
       "      <td>0</td>\n",
       "      <td>0</td>\n",
       "      <td>0</td>\n",
       "      <td>0</td>\n",
       "      <td>0</td>\n",
       "      <td>0</td>\n",
       "      <td>1</td>\n",
       "      <td>0</td>\n",
       "      <td>0</td>\n",
       "    </tr>\n",
       "    <tr>\n",
       "      <th>1</th>\n",
       "      <td>50</td>\n",
       "      <td>13</td>\n",
       "      <td>1</td>\n",
       "      <td>0</td>\n",
       "      <td>0</td>\n",
       "      <td>0</td>\n",
       "      <td>0</td>\n",
       "      <td>1</td>\n",
       "      <td>0</td>\n",
       "      <td>0</td>\n",
       "      <td>...</td>\n",
       "      <td>0</td>\n",
       "      <td>0</td>\n",
       "      <td>0</td>\n",
       "      <td>0</td>\n",
       "      <td>0</td>\n",
       "      <td>0</td>\n",
       "      <td>0</td>\n",
       "      <td>1</td>\n",
       "      <td>0</td>\n",
       "      <td>0</td>\n",
       "    </tr>\n",
       "    <tr>\n",
       "      <th>2</th>\n",
       "      <td>38</td>\n",
       "      <td>40</td>\n",
       "      <td>1</td>\n",
       "      <td>0</td>\n",
       "      <td>0</td>\n",
       "      <td>1</td>\n",
       "      <td>0</td>\n",
       "      <td>0</td>\n",
       "      <td>0</td>\n",
       "      <td>0</td>\n",
       "      <td>...</td>\n",
       "      <td>0</td>\n",
       "      <td>0</td>\n",
       "      <td>0</td>\n",
       "      <td>0</td>\n",
       "      <td>0</td>\n",
       "      <td>0</td>\n",
       "      <td>0</td>\n",
       "      <td>1</td>\n",
       "      <td>0</td>\n",
       "      <td>0</td>\n",
       "    </tr>\n",
       "    <tr>\n",
       "      <th>3</th>\n",
       "      <td>53</td>\n",
       "      <td>40</td>\n",
       "      <td>1</td>\n",
       "      <td>0</td>\n",
       "      <td>0</td>\n",
       "      <td>1</td>\n",
       "      <td>0</td>\n",
       "      <td>0</td>\n",
       "      <td>0</td>\n",
       "      <td>0</td>\n",
       "      <td>...</td>\n",
       "      <td>0</td>\n",
       "      <td>0</td>\n",
       "      <td>0</td>\n",
       "      <td>0</td>\n",
       "      <td>0</td>\n",
       "      <td>0</td>\n",
       "      <td>0</td>\n",
       "      <td>1</td>\n",
       "      <td>0</td>\n",
       "      <td>0</td>\n",
       "    </tr>\n",
       "    <tr>\n",
       "      <th>4</th>\n",
       "      <td>28</td>\n",
       "      <td>40</td>\n",
       "      <td>0</td>\n",
       "      <td>0</td>\n",
       "      <td>0</td>\n",
       "      <td>1</td>\n",
       "      <td>0</td>\n",
       "      <td>0</td>\n",
       "      <td>0</td>\n",
       "      <td>0</td>\n",
       "      <td>...</td>\n",
       "      <td>0</td>\n",
       "      <td>0</td>\n",
       "      <td>0</td>\n",
       "      <td>0</td>\n",
       "      <td>0</td>\n",
       "      <td>0</td>\n",
       "      <td>0</td>\n",
       "      <td>0</td>\n",
       "      <td>0</td>\n",
       "      <td>0</td>\n",
       "    </tr>\n",
       "  </tbody>\n",
       "</table>\n",
       "<p>5 rows × 84 columns</p>\n",
       "</div>"
      ],
      "text/plain": [
       "   age  hours-per-week  sex  salary  workclass_1  workclass_2  workclass_3  \\\n",
       "0   39              40    1       0            0            0            0   \n",
       "1   50              13    1       0            0            0            0   \n",
       "2   38              40    1       0            0            1            0   \n",
       "3   53              40    1       0            0            1            0   \n",
       "4   28              40    0       0            0            1            0   \n",
       "\n",
       "   workclass_4  workclass_5  workclass_6  ...  native-country_31  \\\n",
       "0            0            1            0  ...                  0   \n",
       "1            1            0            0  ...                  0   \n",
       "2            0            0            0  ...                  0   \n",
       "3            0            0            0  ...                  0   \n",
       "4            0            0            0  ...                  0   \n",
       "\n",
       "   native-country_32  native-country_33  native-country_34  native-country_35  \\\n",
       "0                  0                  0                  0                  0   \n",
       "1                  0                  0                  0                  0   \n",
       "2                  0                  0                  0                  0   \n",
       "3                  0                  0                  0                  0   \n",
       "4                  0                  0                  0                  0   \n",
       "\n",
       "   native-country_36  native-country_37  native-country_38  native-country_39  \\\n",
       "0                  0                  0                  1                  0   \n",
       "1                  0                  0                  1                  0   \n",
       "2                  0                  0                  1                  0   \n",
       "3                  0                  0                  1                  0   \n",
       "4                  0                  0                  0                  0   \n",
       "\n",
       "   native-country_40  \n",
       "0                  0  \n",
       "1                  0  \n",
       "2                  0  \n",
       "3                  0  \n",
       "4                  0  \n",
       "\n",
       "[5 rows x 84 columns]"
      ]
     },
     "execution_count": 50,
     "metadata": {},
     "output_type": "execute_result"
    }
   ],
   "source": [
    "# onehot encoding, para representar los variables categoricaas. La categoria maxima se representa con max-1 ceros\n",
    "# Recuerden que son max categorias. con la combinación de un 1 en la posición, se le da al valor.\n",
    "aux = pd.get_dummies(df_mat['workclass'], drop_first = True) #\n",
    "aux.columns = ['workclass_' + str(col) for col in list(aux.columns)] #Concatene un sufijo al nombre de la columna de aux\n",
    "df_mat = df_mat.join(aux, how=\"inner\").drop(columns=['workclass']) # Se descarta la columna original\n",
    "aux = pd.get_dummies(df_mat['education'], drop_first = True) #\n",
    "aux.columns = ['education_' + str(col) for col in list(aux.columns)] #Concatene un sufijo al nombre de la columna de aux\n",
    "df_mat = df_mat.join(aux, how=\"inner\").drop(columns=['education']) # Se descarta la columna original\n",
    "aux = pd.get_dummies(df_mat['marital-status'], drop_first = True) #\n",
    "aux.columns = ['marital-status_' + str(col) for col in list(aux.columns)] #Concatene un sufijo al nombre de la columna de aux\n",
    "df_mat = df_mat.join(aux, how=\"inner\").drop(columns=['marital-status']) # Se descarta la columna original\n",
    "aux = pd.get_dummies(df_mat['occupation'], drop_first = True) #\n",
    "aux.columns = ['occupation_' + str(col) for col in list(aux.columns)] #Concatene un sufijo al nombre de la columna de aux\n",
    "df_mat = df_mat.join(aux, how=\"inner\").drop(columns=['occupation']) # Se descarta la columna original\n",
    "aux = pd.get_dummies(df_mat['native-country'], drop_first = True) #\n",
    "aux.columns = ['native-country_' + str(col) for col in list(aux.columns)] #Concatene un sufijo al nombre de la columna de aux\n",
    "df_mat = df_mat.join(aux, how=\"inner\").drop(columns=['native-country']) # Se descarta la columna original\n",
    "df_mat.head()\n",
    "\n",
    "#aux = pd.get_dummies(df_test['education-num'], drop_first = True) #\n",
    "#aux.columns = ['education-num_' + str(col) for col in list(aux.columns)] #Concatene un sufijo al nombre de la columna de aux\n",
    "#df_test = df_test.join(aux, how=\"inner\").drop(columns=['education-num']) # Se descarta la columna original\n",
    "#aux = pd.get_dummies(df_test['relationship'], drop_first = True) #\n",
    "#aux.columns = ['relationship_' + str(col) for col in list(aux.columns)] #Concatene un sufijo al nombre de la columna de aux\n",
    "#df_test = df_test.join(aux, how=\"inner\").drop(columns=['relationship']) # Se descarta la columna original\n",
    "#df_test.head()"
   ]
  },
  {
   "cell_type": "code",
   "execution_count": 51,
   "metadata": {},
   "outputs": [
    {
     "data": {
      "text/plain": [
       "['age',\n",
       " 'workclass',\n",
       " 'education',\n",
       " 'marital-status',\n",
       " 'occupation',\n",
       " 'hours-per-week',\n",
       " 'native-country']"
      ]
     },
     "execution_count": 51,
     "metadata": {},
     "output_type": "execute_result"
    }
   ],
   "source": [
    "list_ordinal_chosen"
   ]
  },
  {
   "cell_type": "code",
   "execution_count": 53,
   "metadata": {},
   "outputs": [
    {
     "data": {
      "text/html": [
       "<div>\n",
       "<style scoped>\n",
       "    .dataframe tbody tr th:only-of-type {\n",
       "        vertical-align: middle;\n",
       "    }\n",
       "\n",
       "    .dataframe tbody tr th {\n",
       "        vertical-align: top;\n",
       "    }\n",
       "\n",
       "    .dataframe thead th {\n",
       "        text-align: right;\n",
       "    }\n",
       "</style>\n",
       "<table border=\"1\" class=\"dataframe\">\n",
       "  <thead>\n",
       "    <tr style=\"text-align: right;\">\n",
       "      <th></th>\n",
       "      <th>age</th>\n",
       "      <th>hours-per-week</th>\n",
       "      <th>sex</th>\n",
       "      <th>salary</th>\n",
       "      <th>workclass_1</th>\n",
       "      <th>workclass_2</th>\n",
       "      <th>workclass_3</th>\n",
       "      <th>workclass_4</th>\n",
       "      <th>workclass_5</th>\n",
       "      <th>workclass_6</th>\n",
       "      <th>...</th>\n",
       "      <th>native-country_31</th>\n",
       "      <th>native-country_32</th>\n",
       "      <th>native-country_33</th>\n",
       "      <th>native-country_34</th>\n",
       "      <th>native-country_35</th>\n",
       "      <th>native-country_36</th>\n",
       "      <th>native-country_37</th>\n",
       "      <th>native-country_38</th>\n",
       "      <th>native-country_39</th>\n",
       "      <th>native-country_40</th>\n",
       "    </tr>\n",
       "  </thead>\n",
       "  <tbody>\n",
       "    <tr>\n",
       "      <th>0</th>\n",
       "      <td>0.301370</td>\n",
       "      <td>0.397959</td>\n",
       "      <td>1</td>\n",
       "      <td>0</td>\n",
       "      <td>0</td>\n",
       "      <td>0</td>\n",
       "      <td>0</td>\n",
       "      <td>0</td>\n",
       "      <td>1</td>\n",
       "      <td>0</td>\n",
       "      <td>...</td>\n",
       "      <td>0</td>\n",
       "      <td>0</td>\n",
       "      <td>0</td>\n",
       "      <td>0</td>\n",
       "      <td>0</td>\n",
       "      <td>0</td>\n",
       "      <td>0</td>\n",
       "      <td>1</td>\n",
       "      <td>0</td>\n",
       "      <td>0</td>\n",
       "    </tr>\n",
       "    <tr>\n",
       "      <th>1</th>\n",
       "      <td>0.452055</td>\n",
       "      <td>0.122449</td>\n",
       "      <td>1</td>\n",
       "      <td>0</td>\n",
       "      <td>0</td>\n",
       "      <td>0</td>\n",
       "      <td>0</td>\n",
       "      <td>1</td>\n",
       "      <td>0</td>\n",
       "      <td>0</td>\n",
       "      <td>...</td>\n",
       "      <td>0</td>\n",
       "      <td>0</td>\n",
       "      <td>0</td>\n",
       "      <td>0</td>\n",
       "      <td>0</td>\n",
       "      <td>0</td>\n",
       "      <td>0</td>\n",
       "      <td>1</td>\n",
       "      <td>0</td>\n",
       "      <td>0</td>\n",
       "    </tr>\n",
       "    <tr>\n",
       "      <th>2</th>\n",
       "      <td>0.287671</td>\n",
       "      <td>0.397959</td>\n",
       "      <td>1</td>\n",
       "      <td>0</td>\n",
       "      <td>0</td>\n",
       "      <td>1</td>\n",
       "      <td>0</td>\n",
       "      <td>0</td>\n",
       "      <td>0</td>\n",
       "      <td>0</td>\n",
       "      <td>...</td>\n",
       "      <td>0</td>\n",
       "      <td>0</td>\n",
       "      <td>0</td>\n",
       "      <td>0</td>\n",
       "      <td>0</td>\n",
       "      <td>0</td>\n",
       "      <td>0</td>\n",
       "      <td>1</td>\n",
       "      <td>0</td>\n",
       "      <td>0</td>\n",
       "    </tr>\n",
       "    <tr>\n",
       "      <th>3</th>\n",
       "      <td>0.493151</td>\n",
       "      <td>0.397959</td>\n",
       "      <td>1</td>\n",
       "      <td>0</td>\n",
       "      <td>0</td>\n",
       "      <td>1</td>\n",
       "      <td>0</td>\n",
       "      <td>0</td>\n",
       "      <td>0</td>\n",
       "      <td>0</td>\n",
       "      <td>...</td>\n",
       "      <td>0</td>\n",
       "      <td>0</td>\n",
       "      <td>0</td>\n",
       "      <td>0</td>\n",
       "      <td>0</td>\n",
       "      <td>0</td>\n",
       "      <td>0</td>\n",
       "      <td>1</td>\n",
       "      <td>0</td>\n",
       "      <td>0</td>\n",
       "    </tr>\n",
       "    <tr>\n",
       "      <th>4</th>\n",
       "      <td>0.150685</td>\n",
       "      <td>0.397959</td>\n",
       "      <td>0</td>\n",
       "      <td>0</td>\n",
       "      <td>0</td>\n",
       "      <td>1</td>\n",
       "      <td>0</td>\n",
       "      <td>0</td>\n",
       "      <td>0</td>\n",
       "      <td>0</td>\n",
       "      <td>...</td>\n",
       "      <td>0</td>\n",
       "      <td>0</td>\n",
       "      <td>0</td>\n",
       "      <td>0</td>\n",
       "      <td>0</td>\n",
       "      <td>0</td>\n",
       "      <td>0</td>\n",
       "      <td>0</td>\n",
       "      <td>0</td>\n",
       "      <td>0</td>\n",
       "    </tr>\n",
       "  </tbody>\n",
       "</table>\n",
       "<p>5 rows × 84 columns</p>\n",
       "</div>"
      ],
      "text/plain": [
       "        age  hours-per-week  sex  salary  workclass_1  workclass_2  \\\n",
       "0  0.301370        0.397959    1       0            0            0   \n",
       "1  0.452055        0.122449    1       0            0            0   \n",
       "2  0.287671        0.397959    1       0            0            1   \n",
       "3  0.493151        0.397959    1       0            0            1   \n",
       "4  0.150685        0.397959    0       0            0            1   \n",
       "\n",
       "   workclass_3  workclass_4  workclass_5  workclass_6  ...  native-country_31  \\\n",
       "0            0            0            1            0  ...                  0   \n",
       "1            0            1            0            0  ...                  0   \n",
       "2            0            0            0            0  ...                  0   \n",
       "3            0            0            0            0  ...                  0   \n",
       "4            0            0            0            0  ...                  0   \n",
       "\n",
       "   native-country_32  native-country_33  native-country_34  native-country_35  \\\n",
       "0                  0                  0                  0                  0   \n",
       "1                  0                  0                  0                  0   \n",
       "2                  0                  0                  0                  0   \n",
       "3                  0                  0                  0                  0   \n",
       "4                  0                  0                  0                  0   \n",
       "\n",
       "   native-country_36  native-country_37  native-country_38  native-country_39  \\\n",
       "0                  0                  0                  1                  0   \n",
       "1                  0                  0                  1                  0   \n",
       "2                  0                  0                  1                  0   \n",
       "3                  0                  0                  1                  0   \n",
       "4                  0                  0                  0                  0   \n",
       "\n",
       "   native-country_40  \n",
       "0                  0  \n",
       "1                  0  \n",
       "2                  0  \n",
       "3                  0  \n",
       "4                  0  \n",
       "\n",
       "[5 rows x 84 columns]"
      ]
     },
     "execution_count": 53,
     "metadata": {},
     "output_type": "execute_result"
    }
   ],
   "source": [
    "# Normalizado o Escalado de las variables numerales ordinales, las pone en valores entre 0 y 1\n",
    "from sklearn.preprocessing import MinMaxScaler\n",
    "\n",
    "list_ordinal = ['age','hours-per-week']\n",
    "scaler = MinMaxScaler()\n",
    "df_mat[list_ordinal] = scaler.fit_transform(df_mat[list_ordinal]) # devuelve los valores transformados\n",
    "df_mat.head()\n",
    "\n",
    "#df_test[list_ordinal] = scaler.fit_transform(df_test[list_ordinal]) # devuelve los valores transformados\n",
    "#df_test.head()"
   ]
  },
  {
   "cell_type": "code",
   "execution_count": 54,
   "metadata": {},
   "outputs": [],
   "source": [
    "# Separacion en variables entrada/salida\n",
    "X = df_mat.drop(columns=[\"salary\"]).values\n",
    "y = df_mat[\"salary\"].values\n",
    "#Xt = df_test.drop(columns=[\"salary\"]).values\n",
    "#yt = df_test[\"salary\"].values"
   ]
  },
  {
   "cell_type": "code",
   "execution_count": 56,
   "metadata": {},
   "outputs": [],
   "source": [
    "# Train/Test Split\n",
    "# Con los datos del archivo de prueba\n",
    "#from sklearn.model_selection import train_test_split\n",
    "#X_train, X_test, y_train, y_test = train_test_split(Xt,yt) \n",
    "\n",
    "# Con datos de prueba del archivo de train aleatorios\n",
    "from sklearn.model_selection import train_test_split\n",
    "X_train, X_test, y_train, y_test = train_test_split(X, y, test_size = 1/3, random_state = 0)"
   ]
  },
  {
   "cell_type": "code",
   "execution_count": 57,
   "metadata": {},
   "outputs": [
    {
     "name": "stdout",
     "output_type": "stream",
     "text": [
      "[[6924  627]\n",
      " [1118 1385]]\n",
      "precision: 0.6883697813121272  recall: 0.5533359968038354  f1: 0.6135105204872646\n"
     ]
    }
   ],
   "source": [
    "#SVM (Kernel = rbf)\n",
    "from sklearn.svm import SVC\n",
    "# Making the Confusion Matrix\n",
    "from sklearn.metrics import confusion_matrix, f1_score, precision_score, recall_score\n",
    "\n",
    "# Filtered\n",
    "classifier = SVC(kernel = 'rbf', random_state = 0)\n",
    "classifier.fit(X_train, y_train)\n",
    "\n",
    "y_pred = classifier.predict(X_test)\n",
    "\n",
    "# Making the Confusion Matrix\n",
    "f1 = f1_score(y_test, y_pred)\n",
    "precision = precision_score(y_test, y_pred)\n",
    "recall = recall_score(y_test, y_pred)\n",
    "cm = confusion_matrix(y_test, y_pred)\n",
    "print(cm)\n",
    "\n",
    "print(\"precision:\", precision, \" recall:\", recall, \" f1:\", f1)"
   ]
  },
  {
   "cell_type": "markdown",
   "metadata": {},
   "source": [
    "# Fin de ejercicio"
   ]
  },
  {
   "cell_type": "code",
   "execution_count": 77,
   "metadata": {},
   "outputs": [
    {
     "name": "stdout",
     "output_type": "stream",
     "text": [
      "[1 0 0 ... 0 0 0]\n"
     ]
    }
   ],
   "source": [
    "print(y_pred)"
   ]
  },
  {
   "cell_type": "code",
   "execution_count": 78,
   "metadata": {},
   "outputs": [],
   "source": [
    "performance = []"
   ]
  },
  {
   "cell_type": "code",
   "execution_count": 79,
   "metadata": {},
   "outputs": [],
   "source": [
    "# Gaussian Naive Bayes\n",
    "from sklearn.naive_bayes import GaussianNB\n",
    "\n",
    "GNB = GaussianNB()"
   ]
  },
  {
   "cell_type": "code",
   "execution_count": 80,
   "metadata": {},
   "outputs": [
    {
     "name": "stdout",
     "output_type": "stream",
     "text": [
      "Gaussian Naive Bayes : Training score - 0.701726427622842 - Test score - 0.7115537848605578\n"
     ]
    }
   ],
   "source": [
    "# Binary data\n",
    "GNB.fit(X_train,y_train)\n",
    "train_score = GNB.score(X_train,y_train)\n",
    "test_score = GNB.score(X_test,y_test)\n",
    "print(f'Gaussian Naive Bayes : Training score - {train_score} - Test score - {test_score}')\n",
    "\n",
    "performance.append({'algorithm':'Gaussian Naive Bayes', 'training_score':train_score, 'testing_score':test_score})"
   ]
  },
  {
   "cell_type": "code",
   "execution_count": 81,
   "metadata": {},
   "outputs": [],
   "source": [
    "# LogisticRegression\n",
    "from sklearn.linear_model import LogisticRegression\n",
    "\n",
    "logClassifier = LogisticRegression()"
   ]
  },
  {
   "cell_type": "code",
   "execution_count": 82,
   "metadata": {},
   "outputs": [
    {
     "name": "stdout",
     "output_type": "stream",
     "text": [
      "LogisticRegression : Training score - 0.8294820717131474 - Test score - 0.8257636122177955\n"
     ]
    }
   ],
   "source": [
    "logClassifier.fit(X_train,y_train)\n",
    "train_score = logClassifier.score(X_train,y_train)\n",
    "test_score = logClassifier.score(X_test,y_test)\n",
    "\n",
    "print(f'LogisticRegression : Training score - {train_score} - Test score - {test_score}')\n",
    "\n",
    "performance.append({'algorithm':'LogisticRegression', 'training_score':train_score, 'testing_score':test_score})"
   ]
  },
  {
   "cell_type": "code",
   "execution_count": 83,
   "metadata": {},
   "outputs": [],
   "source": [
    "from sklearn.neighbors import KNeighborsClassifier"
   ]
  },
  {
   "cell_type": "code",
   "execution_count": 84,
   "metadata": {},
   "outputs": [],
   "source": [
    "knn_scores = []"
   ]
  },
  {
   "cell_type": "code",
   "execution_count": 85,
   "metadata": {},
   "outputs": [
    {
     "name": "stdout",
     "output_type": "stream",
     "text": [
      "KNN : Training score - 0.9101372288623285 -- Test score - 0.7702523240371846\n",
      "KNN : Training score - 0.8718016821602479 -- Test score - 0.800531208499336\n",
      "KNN : Training score - 0.8571934484285082 -- Test score - 0.8111553784860558\n",
      "KNN : Training score - 0.8503762726870296 -- Test score - 0.8156706507304117\n",
      "KNN : Training score - 0.8494023904382471 -- Test score - 0.8188579017264276\n",
      "KNN : Training score - 0.8477202301903497 -- Test score - 0.8196547144754316\n",
      "KNN : Training score - 0.8458610004426738 -- Test score - 0.8193891102257637\n",
      "KNN : Training score - 0.8440017706949978 -- Test score - 0.8223107569721115\n",
      "KNN : Training score - 0.8418769366976538 -- Test score - 0.8199203187250996\n",
      "KNN : Training score - 0.8412571934484285 -- Test score - 0.8223107569721115\n"
     ]
    },
    {
     "data": {
      "image/png": "[encoded data removed]",
      "text/plain": [
       "<Figure size 432x288 with 1 Axes>"
      ]
     },
     "metadata": {
      "needs_background": "light"
     },
     "output_type": "display_data"
    }
   ],
   "source": [
    "train_scores = []\n",
    "test_scores = []\n",
    "\n",
    "for n in range(1,20,2):\n",
    "    knn = KNeighborsClassifier(n_neighbors=n)\n",
    "    knn.fit(X_train,y_train)\n",
    "    train_score = knn.score(X_train,y_train)\n",
    "    test_score = knn.score(X_test,y_test)\n",
    "    train_scores.append(train_score)\n",
    "    test_scores.append(test_score)\n",
    "    print(f'KNN : Training score - {train_score} -- Test score - {test_score}')\n",
    "    knn_scores.append({'algorithm':'KNN', 'training_score':train_score})\n",
    "    \n",
    "plt.scatter(x=range(1, 20, 2),y=train_scores,c='b')\n",
    "plt.scatter(x=range(1, 20, 2),y=test_scores,c='r')\n",
    "\n",
    "plt.show()"
   ]
  },
  {
   "cell_type": "code",
   "execution_count": 86,
   "metadata": {},
   "outputs": [
    {
     "name": "stdout",
     "output_type": "stream",
     "text": [
      "K Neighbors : Training score - 0.8571934484285082 - Test score - 0.8111553784860558\n"
     ]
    }
   ],
   "source": [
    "knn = KNeighborsClassifier(n_neighbors=5)\n",
    "knn.fit(X_train,y_train)\n",
    "\n",
    "knn.score(X_train,y_train)\n",
    "\n",
    "train_score = knn.score(X_train,y_train)\n",
    "test_score = knn.score(X_test,y_test)\n",
    "\n",
    "print(f'K Neighbors : Training score - {train_score} - Test score - {test_score}')\n",
    "\n",
    "performance.append({'algorithm':'K Neighbors', 'training_score':train_score, 'testing_score':test_score})"
   ]
  },
  {
   "cell_type": "code",
   "execution_count": 87,
   "metadata": {},
   "outputs": [
    {
     "data": {
      "text/plain": [
       "[{'algorithm': 'Gaussian Naive Bayes',\n",
       "  'training_score': 0.701726427622842,\n",
       "  'testing_score': 0.7115537848605578},\n",
       " {'algorithm': 'LogisticRegression',\n",
       "  'training_score': 0.8294820717131474,\n",
       "  'testing_score': 0.8257636122177955},\n",
       " {'algorithm': 'K Neighbors',\n",
       "  'training_score': 0.8571934484285082,\n",
       "  'testing_score': 0.8111553784860558}]"
      ]
     },
     "execution_count": 87,
     "metadata": {},
     "output_type": "execute_result"
    }
   ],
   "source": [
    "performance"
   ]
  },
  {
   "cell_type": "code",
   "execution_count": 88,
   "metadata": {},
   "outputs": [],
   "source": [
    "from sklearn.ensemble import RandomForestClassifier"
   ]
  },
  {
   "cell_type": "code",
   "execution_count": 89,
   "metadata": {},
   "outputs": [],
   "source": [
    "rndTree = RandomForestClassifier()"
   ]
  },
  {
   "cell_type": "code",
   "execution_count": 90,
   "metadata": {},
   "outputs": [
    {
     "data": {
      "text/plain": [
       "RandomForestClassifier()"
      ]
     },
     "execution_count": 90,
     "metadata": {},
     "output_type": "execute_result"
    }
   ],
   "source": [
    "rndTree.fit(X_train,y_train)"
   ]
  },
  {
   "cell_type": "code",
   "execution_count": 91,
   "metadata": {},
   "outputs": [
    {
     "data": {
      "text/plain": [
       "RandomForestClassifier(n_estimators=10, n_jobs=1)"
      ]
     },
     "execution_count": 91,
     "metadata": {},
     "output_type": "execute_result"
    }
   ],
   "source": [
    "RandomForestClassifier(bootstrap=True, class_weight=None, criterion='gini',\n",
    "            max_depth=None, max_features='auto', max_leaf_nodes=None,\n",
    "            min_impurity_decrease=0.0, min_impurity_split=None,\n",
    "            min_samples_leaf=1, min_samples_split=2,\n",
    "            min_weight_fraction_leaf=0.0, n_estimators=10, n_jobs=1,\n",
    "            oob_score=False, random_state=None, verbose=0,\n",
    "            warm_start=False)"
   ]
  },
  {
   "cell_type": "code",
   "execution_count": 92,
   "metadata": {},
   "outputs": [
    {
     "name": "stdout",
     "output_type": "stream",
     "text": [
      "Random Forests : Training score - 0.9271359008410801 - Test score - 0.8103585657370518\n"
     ]
    }
   ],
   "source": [
    "train_score = rndTree.score(X_train,y_train)\n",
    "test_score = rndTree.score(X_test,y_test)\n",
    "\n",
    "print(f'Random Forests : Training score - {train_score} - Test score - {test_score}')\n",
    "\n",
    "performance.append({'algorithm':'Random Forests', 'training_score':train_score, 'testing_score':test_score})"
   ]
  },
  {
   "cell_type": "code",
   "execution_count": null,
   "metadata": {},
   "outputs": [],
   "source": []
  }
 ],
 "metadata": {
  "kernelspec": {
   "display_name": "Python 3",
   "language": "python",
   "name": "python3"
  },
  "language_info": {
   "codemirror_mode": {
    "name": "ipython",
    "version": 3
   },
   "file_extension": ".py",
   "mimetype": "text/x-python",
   "name": "python",
   "nbconvert_exporter": "python",
   "pygments_lexer": "ipython3",
   "version": "3.8.5"
  }
 },
 "nbformat": 4,
 "nbformat_minor": 4
}
