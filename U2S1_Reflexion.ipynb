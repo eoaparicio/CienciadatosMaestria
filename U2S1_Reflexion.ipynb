{
 "cells": [
  {
   "cell_type": "code",
   "execution_count": 5,
   "metadata": {},
   "outputs": [
    {
     "name": "stdout",
     "output_type": "stream",
     "text": [
      "1er. número: 12\n",
      "2do. número: 3\n",
      "Elige opción: 1-Suma 2-Resta 3-Multiplica 4-Divida: 4\n",
      "4.0\n"
     ]
    }
   ],
   "source": [
    "# Pedimos los numeros\n",
    "While True:\n",
    "try:\n",
    "    num1=input(\"1er. número: \")\n",
    "    num1=int(num1)\n",
    "    break\n",
    "except ValueError:\n",
    "    print(\"1er. número es inválido, reintente\")\n",
    "While True:\n",
    "    try:\n",
    "        num2=input(\"2do. número: \")\n",
    "        num2=int(num2)\n",
    "        break\n",
    "    except ValueError:\n",
    "        print(\"2do. número es inválido, reintente\")\n",
    "While True:\n",
    "    try:\n",
    "        # Solicitar al usuario la operación\n",
    "        opcion=input(\"Elige opción: 1-Suma 2-Resta 3-Multiplica 4-Divida: \")\n",
    "        opcion=int(opcion)\n",
    "        if opcion==1:\n",
    "          operacion=num1+num2\n",
    "          print(operacion)\n",
    "          break\n",
    "       elif opcion==2:\n",
    "          operacion=num1-num2\n",
    "          print(operacion)\n",
    "          break\n",
    "       elif opcion==3:\n",
    "          operacion=num1*num2\n",
    "          print(operacion)\n",
    "          break\n",
    "       elif opcion==4:\n",
    "          operacion=num1/num2\n",
    "          print(operacion)\n",
    "          break\n",
    "      else:\n",
    "        print(\"Opción elegida es inválida, reintente\")\n",
    "    except ValueError:\n",
    "        print(\"Opción elegida no es un número, reintente\")"
   ]
  },
  {
   "cell_type": "code",
   "execution_count": null,
   "metadata": {},
   "outputs": [],
   "source": []
  }
 ],
 "metadata": {
  "kernelspec": {
   "display_name": "Python 3",
   "language": "python",
   "name": "python3"
  },
  "language_info": {
   "codemirror_mode": {
    "name": "ipython",
    "version": 3
   },
   "file_extension": ".py",
   "mimetype": "text/x-python",
   "name": "python",
   "nbconvert_exporter": "python",
   "pygments_lexer": "ipython3",
   "version": "3.8.5"
  }
 },
 "nbformat": 4,
 "nbformat_minor": 4
}
